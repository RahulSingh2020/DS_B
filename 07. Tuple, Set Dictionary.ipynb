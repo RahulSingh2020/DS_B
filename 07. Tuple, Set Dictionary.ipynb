{
 "cells": [
  {
   "cell_type": "markdown",
   "id": "f594feb2",
   "metadata": {},
   "source": [
    "   #  TUPLE\n",
    "  "
   ]
  },
  {
   "cell_type": "code",
   "execution_count": 1,
   "id": "c2105d0a",
   "metadata": {},
   "outputs": [],
   "source": [
    "t = ()"
   ]
  },
  {
   "cell_type": "code",
   "execution_count": 2,
   "id": "3a3ae401",
   "metadata": {},
   "outputs": [
    {
     "name": "stdout",
     "output_type": "stream",
     "text": [
      "<class 'tuple'>\n"
     ]
    }
   ],
   "source": [
    "print(type(t))"
   ]
  },
  {
   "cell_type": "code",
   "execution_count": 3,
   "id": "1a2cf6e4",
   "metadata": {},
   "outputs": [],
   "source": [
    "l = []"
   ]
  },
  {
   "cell_type": "code",
   "execution_count": 4,
   "id": "786ce312",
   "metadata": {},
   "outputs": [
    {
     "name": "stdout",
     "output_type": "stream",
     "text": [
      "<class 'list'>\n"
     ]
    }
   ],
   "source": [
    "print(type(l))"
   ]
  },
  {
   "cell_type": "code",
   "execution_count": 5,
   "id": "02e4e292",
   "metadata": {},
   "outputs": [],
   "source": [
    "# COMPARING LIST AND A TUPLE !!!"
   ]
  },
  {
   "cell_type": "code",
   "execution_count": 6,
   "id": "c3a50ac9",
   "metadata": {},
   "outputs": [],
   "source": [
    "list1 = [12,25,\"one\", True]"
   ]
  },
  {
   "cell_type": "code",
   "execution_count": 7,
   "id": "497b9208",
   "metadata": {},
   "outputs": [],
   "source": [
    "tuple1 = (12,25,\"one\", True)"
   ]
  },
  {
   "cell_type": "code",
   "execution_count": 8,
   "id": "40aa1390",
   "metadata": {},
   "outputs": [],
   "source": [
    " tuple7  = (11,22,33,44,55,[1,2,3,4],(41,54,4,7), False)"
   ]
  },
  {
   "cell_type": "markdown",
   "id": "775b17f5",
   "metadata": {},
   "source": [
    "## accessing the elements of Tuple and list and comparing "
   ]
  },
  {
   "cell_type": "code",
   "execution_count": 9,
   "id": "b4fad8dd",
   "metadata": {},
   "outputs": [],
   "source": [
    "# SAME AS THAT AS  A LIST"
   ]
  },
  {
   "cell_type": "code",
   "execution_count": 10,
   "id": "19e4d33e",
   "metadata": {},
   "outputs": [
    {
     "name": "stdout",
     "output_type": "stream",
     "text": [
      "12\n"
     ]
    }
   ],
   "source": [
    "print(list1[0])"
   ]
  },
  {
   "cell_type": "code",
   "execution_count": 11,
   "id": "28eb80c6",
   "metadata": {},
   "outputs": [
    {
     "name": "stdout",
     "output_type": "stream",
     "text": [
      "12\n"
     ]
    }
   ],
   "source": [
    "print(tuple1[0])"
   ]
  },
  {
   "cell_type": "code",
   "execution_count": 12,
   "id": "a463be68",
   "metadata": {},
   "outputs": [],
   "source": [
    "# INDEXNIG WORKS EXACTLY AS LIST"
   ]
  },
  {
   "cell_type": "code",
   "execution_count": 13,
   "id": "3ea577b0",
   "metadata": {},
   "outputs": [
    {
     "name": "stdout",
     "output_type": "stream",
     "text": [
      "(12, 25, 'one')\n"
     ]
    }
   ],
   "source": [
    "print(tuple1[0:3])"
   ]
  },
  {
   "cell_type": "code",
   "execution_count": 14,
   "id": "a6cadbb9",
   "metadata": {},
   "outputs": [],
   "source": [
    "# REVERSING THE ITEMS USING NEGATIVE INDEXING"
   ]
  },
  {
   "cell_type": "code",
   "execution_count": 15,
   "id": "b5cb4ffd",
   "metadata": {},
   "outputs": [
    {
     "name": "stdout",
     "output_type": "stream",
     "text": [
      "(True, 'one', 25, 12)\n"
     ]
    }
   ],
   "source": [
    "print(tuple1[::-1])"
   ]
  },
  {
   "cell_type": "code",
   "execution_count": 16,
   "id": "b990d38e",
   "metadata": {},
   "outputs": [
    {
     "name": "stdout",
     "output_type": "stream",
     "text": [
      "True\n"
     ]
    }
   ],
   "source": [
    "print(tuple1[-1])"
   ]
  },
  {
   "cell_type": "markdown",
   "id": "7bde7794",
   "metadata": {},
   "source": [
    "# changing the values inside a list and a tuple"
   ]
  },
  {
   "cell_type": "code",
   "execution_count": 17,
   "id": "b5c2899d",
   "metadata": {},
   "outputs": [],
   "source": [
    "list1 = [12,25,\"one\", True]"
   ]
  },
  {
   "cell_type": "code",
   "execution_count": 18,
   "id": "295b4e82",
   "metadata": {},
   "outputs": [],
   "source": [
    "list1[0] = \"ramesh\""
   ]
  },
  {
   "cell_type": "code",
   "execution_count": 19,
   "id": "bfd9adf0",
   "metadata": {},
   "outputs": [
    {
     "name": "stdout",
     "output_type": "stream",
     "text": [
      "['ramesh', 25, 'one', True]\n"
     ]
    }
   ],
   "source": [
    "print(list1) # modified list"
   ]
  },
  {
   "cell_type": "code",
   "execution_count": 20,
   "id": "51cd3888",
   "metadata": {},
   "outputs": [],
   "source": [
    "# tuple1[0] =\"ramesh\" #does not support item assignment\n"
   ]
  },
  {
   "cell_type": "code",
   "execution_count": 21,
   "id": "1609cc79",
   "metadata": {},
   "outputs": [],
   "source": [
    "# thus tuples are immutable "
   ]
  },
  {
   "cell_type": "markdown",
   "id": "c8b62e1b",
   "metadata": {},
   "source": [
    "# append operation on tuples"
   ]
  },
  {
   "cell_type": "code",
   "execution_count": 22,
   "id": "df17f945",
   "metadata": {},
   "outputs": [],
   "source": [
    "tuple2 = (11,22,33,44,55)"
   ]
  },
  {
   "cell_type": "code",
   "execution_count": 23,
   "id": "e287ed01",
   "metadata": {},
   "outputs": [],
   "source": [
    "# findin the memory location of data"
   ]
  },
  {
   "cell_type": "code",
   "execution_count": 24,
   "id": "22fb0ca2",
   "metadata": {},
   "outputs": [
    {
     "name": "stdout",
     "output_type": "stream",
     "text": [
      "2644552871472\n"
     ]
    }
   ],
   "source": [
    "print(id(tuple2))"
   ]
  },
  {
   "cell_type": "code",
   "execution_count": 25,
   "id": "1b527b6b",
   "metadata": {},
   "outputs": [],
   "source": [
    "t3 = tuple1+tuple2"
   ]
  },
  {
   "cell_type": "code",
   "execution_count": 26,
   "id": "93ee427f",
   "metadata": {},
   "outputs": [
    {
     "name": "stdout",
     "output_type": "stream",
     "text": [
      "(12, 25, 'one', True, 11, 22, 33, 44, 55)\n"
     ]
    }
   ],
   "source": [
    "print(t3)# this is ate diffrnt location thus append is possible"
   ]
  },
  {
   "cell_type": "code",
   "execution_count": 27,
   "id": "ec41b325",
   "metadata": {},
   "outputs": [
    {
     "name": "stdout",
     "output_type": "stream",
     "text": [
      "2644521788672\n"
     ]
    }
   ],
   "source": [
    "print(id(t3))"
   ]
  },
  {
   "cell_type": "markdown",
   "id": "a25c0ab2",
   "metadata": {},
   "source": [
    "# methods on tuple"
   ]
  },
  {
   "cell_type": "code",
   "execution_count": 28,
   "id": "9a5ada31",
   "metadata": {
    "scrolled": false
   },
   "outputs": [
    {
     "name": "stdout",
     "output_type": "stream",
     "text": [
      "55\n"
     ]
    }
   ],
   "source": [
    "print(max(tuple2))# only if the data in numbriacl"
   ]
  },
  {
   "cell_type": "code",
   "execution_count": 29,
   "id": "09fa7247",
   "metadata": {},
   "outputs": [
    {
     "name": "stdout",
     "output_type": "stream",
     "text": [
      "11\n"
     ]
    }
   ],
   "source": [
    "print(min(tuple2))# only if the data in numbriacl"
   ]
  },
  {
   "cell_type": "code",
   "execution_count": 30,
   "id": "5505d5a3",
   "metadata": {},
   "outputs": [
    {
     "name": "stdout",
     "output_type": "stream",
     "text": [
      "4\n"
     ]
    }
   ],
   "source": [
    "print(tuple2.index(55)) #index of 1st occurence"
   ]
  },
  {
   "cell_type": "code",
   "execution_count": 31,
   "id": "0f367882",
   "metadata": {},
   "outputs": [
    {
     "name": "stdout",
     "output_type": "stream",
     "text": [
      "1\n"
     ]
    }
   ],
   "source": [
    "print(tuple2.count(55))# number of occurences"
   ]
  },
  {
   "cell_type": "code",
   "execution_count": 32,
   "id": "bcd67ab4",
   "metadata": {},
   "outputs": [],
   "source": [
    "tuple2 = (11,22,33,44,55)"
   ]
  },
  {
   "cell_type": "code",
   "execution_count": 33,
   "id": "c295e29d",
   "metadata": {},
   "outputs": [
    {
     "name": "stdout",
     "output_type": "stream",
     "text": [
      "(11, 22, 33, 44, 55)\n"
     ]
    }
   ],
   "source": [
    "print(tuple2)"
   ]
  },
  {
   "cell_type": "code",
   "execution_count": 34,
   "id": "6c2440a5",
   "metadata": {},
   "outputs": [
    {
     "name": "stdout",
     "output_type": "stream",
     "text": [
      "[11, 22, 33, 44, 55]\n"
     ]
    }
   ],
   "source": [
    "print(sorted(tuple2))"
   ]
  },
  {
   "cell_type": "code",
   "execution_count": null,
   "id": "d523b971",
   "metadata": {},
   "outputs": [],
   "source": []
  },
  {
   "cell_type": "code",
   "execution_count": null,
   "id": "a1f20e2a",
   "metadata": {},
   "outputs": [],
   "source": []
  },
  {
   "cell_type": "code",
   "execution_count": null,
   "id": "9698d14e",
   "metadata": {},
   "outputs": [],
   "source": []
  },
  {
   "cell_type": "markdown",
   "id": "f8bcf929",
   "metadata": {},
   "source": [
    "# Indirect way of editing a tuple, workaround"
   ]
  },
  {
   "cell_type": "code",
   "execution_count": 35,
   "id": "6e4a64c4",
   "metadata": {},
   "outputs": [],
   "source": [
    "tuple2 = (11,22,33,44,55)"
   ]
  },
  {
   "cell_type": "code",
   "execution_count": 36,
   "id": "53e91a01",
   "metadata": {},
   "outputs": [],
   "source": [
    "list3 = list(tuple2)"
   ]
  },
  {
   "cell_type": "code",
   "execution_count": 37,
   "id": "5369b25c",
   "metadata": {},
   "outputs": [
    {
     "name": "stdout",
     "output_type": "stream",
     "text": [
      "[11, 22, 33, 44, 55]\n"
     ]
    }
   ],
   "source": [
    "print(list3)"
   ]
  },
  {
   "cell_type": "code",
   "execution_count": 38,
   "id": "95fb231b",
   "metadata": {},
   "outputs": [],
   "source": [
    "list3[3] = 555"
   ]
  },
  {
   "cell_type": "code",
   "execution_count": 39,
   "id": "9c58d03b",
   "metadata": {},
   "outputs": [
    {
     "name": "stdout",
     "output_type": "stream",
     "text": [
      "[11, 22, 33, 555, 55]\n"
     ]
    }
   ],
   "source": [
    "print(list3)"
   ]
  },
  {
   "cell_type": "code",
   "execution_count": 40,
   "id": "6d4491cc",
   "metadata": {},
   "outputs": [
    {
     "name": "stdout",
     "output_type": "stream",
     "text": [
      "(11, 22, 33, 555, 55)\n"
     ]
    }
   ],
   "source": [
    "print(tuple(list3))# converting list back to tuple"
   ]
  },
  {
   "cell_type": "markdown",
   "id": "73c9e164",
   "metadata": {},
   "source": [
    "# uses"
   ]
  },
  {
   "cell_type": "code",
   "execution_count": 41,
   "id": "18a11d9d",
   "metadata": {},
   "outputs": [],
   "source": [
    "# when you dont want to change the code , pin , password , coordinates etc"
   ]
  },
  {
   "cell_type": "markdown",
   "id": "ed7741e0",
   "metadata": {},
   "source": [
    "# using for loop to access a tuple"
   ]
  },
  {
   "cell_type": "code",
   "execution_count": 42,
   "id": "57b0f847",
   "metadata": {},
   "outputs": [],
   "source": [
    "tuple5 = (11,22,33,44,55,[1,2,3,4],(41,54,4,7), False)"
   ]
  },
  {
   "cell_type": "code",
   "execution_count": 43,
   "id": "c6390eb7",
   "metadata": {},
   "outputs": [
    {
     "name": "stdout",
     "output_type": "stream",
     "text": [
      "11\n",
      "22\n",
      "33\n",
      "44\n",
      "55\n",
      "[1, 2, 3, 4]\n",
      "(41, 54, 4, 7)\n",
      "False\n"
     ]
    }
   ],
   "source": [
    "for i in tuple5:\n",
    "    print(i)"
   ]
  },
  {
   "cell_type": "markdown",
   "id": "faa7c5ca",
   "metadata": {},
   "source": [
    "# packing/unpacking  a Tuple and List"
   ]
  },
  {
   "cell_type": "code",
   "execution_count": 44,
   "id": "13db4136",
   "metadata": {},
   "outputs": [
    {
     "name": "stdout",
     "output_type": "stream",
     "text": [
      "*******Packing**************\n",
      "<class 'tuple'>\n",
      "(2, 4, 6, 8)\n",
      "4\n",
      "6\n",
      "*******Normal way **************\n",
      "2\n",
      "4\n",
      "6\n",
      "*******unpacking **************\n",
      "2\n",
      "4\n",
      "6\n",
      "******unpacking of a List***************\n",
      "107\n",
      "207\n",
      "307\n",
      "407\n"
     ]
    }
   ],
   "source": [
    "\n",
    "\n",
    "print(\"*******Packing**************\")\n",
    "tuple1 = (2,4,6,8)\n",
    "print(type(tuple1))\n",
    "print(tuple1)\n",
    "print(tuple1[1])\n",
    "print(tuple1[2])\n",
    "\n",
    "print(\"*******Normal way **************\")\n",
    "a = tuple1[0]\n",
    "b = tuple1[1]\n",
    "c = tuple1[2]\n",
    "d = tuple1[3] \n",
    "\n",
    "print(a)\n",
    "print(b)\n",
    "print(c)\n",
    "print(\"*******unpacking **************\")\n",
    "\n",
    "a,b,c,d = tuple1\n",
    "\n",
    "print(a)\n",
    "print(b)\n",
    "print(c)\n",
    "\n",
    "\n",
    "print(\"******unpacking of a List***************\")\n",
    "\n",
    "\n",
    "\n",
    "list007 = [107,207,307,407]\n",
    "\n",
    "a ,b ,c,d = list007\n",
    "\n",
    "print(a)\n",
    "print(b)\n",
    "print(c)\n",
    "print(d)"
   ]
  },
  {
   "cell_type": "markdown",
   "id": "77321e51",
   "metadata": {},
   "source": [
    "# SETS"
   ]
  },
  {
   "cell_type": "code",
   "execution_count": 45,
   "id": "c587836c",
   "metadata": {},
   "outputs": [],
   "source": [
    "# unordered \n",
    "# no indexing \n",
    "# slicing not possible \n",
    "#  Unique elements "
   ]
  },
  {
   "cell_type": "code",
   "execution_count": 46,
   "id": "f6a8eef3",
   "metadata": {},
   "outputs": [
    {
     "name": "stdout",
     "output_type": "stream",
     "text": [
      "<class 'set'>\n"
     ]
    }
   ],
   "source": [
    "a = set()\n",
    "print(type(a))"
   ]
  },
  {
   "cell_type": "code",
   "execution_count": 47,
   "id": "aa06804d",
   "metadata": {},
   "outputs": [],
   "source": [
    "list1 = [45,45,78,78,65,6,521,2,1,14,78,41]"
   ]
  },
  {
   "cell_type": "code",
   "execution_count": 48,
   "id": "e00a7301",
   "metadata": {},
   "outputs": [],
   "source": [
    "s  = set(list1) # converting list into set of unique elements"
   ]
  },
  {
   "cell_type": "code",
   "execution_count": 49,
   "id": "a539c98f",
   "metadata": {},
   "outputs": [
    {
     "name": "stdout",
     "output_type": "stream",
     "text": [
      "{65, 2, 1, 6, 521, 41, 45, 78, 14}\n"
     ]
    }
   ],
   "source": [
    "print(s) #DISTINCT ELEMENTSa"
   ]
  },
  {
   "cell_type": "code",
   "execution_count": 50,
   "id": "d6271fe1",
   "metadata": {},
   "outputs": [
    {
     "name": "stdout",
     "output_type": "stream",
     "text": [
      "65\n",
      "2\n",
      "1\n",
      "6\n",
      "521\n",
      "41\n",
      "45\n",
      "78\n",
      "14\n"
     ]
    }
   ],
   "source": [
    "for i in s:\n",
    "    print(i)"
   ]
  },
  {
   "cell_type": "code",
   "execution_count": 51,
   "id": "8d9149e9",
   "metadata": {},
   "outputs": [],
   "source": [
    "# print(s[3]) # not subscriptable since set are not ordered\n"
   ]
  },
  {
   "cell_type": "code",
   "execution_count": 88,
   "id": "90111351",
   "metadata": {},
   "outputs": [],
   "source": [
    "# TRICKY QUESTIONS BASED ON BASIC CONCEPTS !!! \n",
    "# IMPORTANCE OF ASKING THE TYPE OF DATA BEFORE PROCEEDING , FOR PROPER UNDERSTANDING OF THE CODE"
   ]
  },
  {
   "cell_type": "code",
   "execution_count": 89,
   "id": "cd6cd9b1",
   "metadata": {},
   "outputs": [
    {
     "name": "stdout",
     "output_type": "stream",
     "text": [
      "<class 'int'>\n",
      "\n",
      "<class 'str'>\n",
      "\n",
      "<class 'str'>\n",
      "\n",
      "*************************\n",
      "<class 'tuple'>\n",
      "\n",
      "<class 'tuple'>\n",
      "\n",
      "<class 'tuple'>\n",
      "\n",
      "*************************\n",
      "<class 'set'>\n",
      "<class 'set'>\n",
      "<class 'set'>\n",
      "<class 'set'>\n",
      "<class 'set'>\n",
      "<class 'set'>\n"
     ]
    }
   ],
   "source": [
    "'''\n",
    "1 .DATA TYPES IN PYTHON\n",
    "> NUMBERS\n",
    "    > INT\n",
    "    > FLOAT\n",
    "    > COMPLEX\n",
    "> BOOLEAN\n",
    ">LIST\n",
    ">STRINGS '' or \" \" or ''' '''\n",
    "> TUPLE ()\n",
    "> SETS {}\n",
    "'''\n",
    "\n",
    "\n",
    "# tuples\n",
    "k1 = (33)\n",
    "k2 = (\"33\")\n",
    "k3 = (\"Pune\")\n",
    "print(type(k1))\n",
    "print()\n",
    "print(type(k2))\n",
    "print()\n",
    "print(type(k3))\n",
    "print()\n",
    "\n",
    "print(\"*************************\")\n",
    "\n",
    "k1 = (33,)\n",
    "k2 = (\"33\",)\n",
    "k3 = (\"Pune\",)\n",
    "print(type(k1))\n",
    "print()\n",
    "print(type(k2))\n",
    "print()\n",
    "print(type(k3))\n",
    "print()\n",
    "\n",
    "print(\"*************************\")\n",
    "z1 = {12}\n",
    "z2 = {\"12\"}\n",
    "z3 = {\"Pune\"}\n",
    "print(type(z1))\n",
    "print(type(z2))\n",
    "print(type(z3))\n",
    "\n",
    "z1 = {12,}\n",
    "z2 = {\"12\",}\n",
    "z3 = {\"Pune\",}\n",
    "print(type(z1))\n",
    "print(type(z2))\n",
    "print(type(z3))"
   ]
  },
  {
   "cell_type": "code",
   "execution_count": null,
   "id": "b2f3fc0a",
   "metadata": {},
   "outputs": [],
   "source": []
  },
  {
   "cell_type": "markdown",
   "id": "9d5f2fe0",
   "metadata": {},
   "source": [
    "# methods"
   ]
  },
  {
   "cell_type": "code",
   "execution_count": 52,
   "id": "80855b3d",
   "metadata": {},
   "outputs": [],
   "source": [
    "s = {65, 2, 1, 6, 521, 41, 45, 78, 14, \"weak\", \"order\" ,True}"
   ]
  },
  {
   "cell_type": "code",
   "execution_count": 53,
   "id": "b11de3af",
   "metadata": {},
   "outputs": [
    {
     "name": "stdout",
     "output_type": "stream",
     "text": [
      "{65, 2, 1, 6, 521, 41, 45, 78, 14, 'weak', 'order'}\n"
     ]
    }
   ],
   "source": [
    "print(s)"
   ]
  },
  {
   "cell_type": "code",
   "execution_count": 54,
   "id": "2b538a4b",
   "metadata": {},
   "outputs": [],
   "source": [
    "s.add(99)"
   ]
  },
  {
   "cell_type": "code",
   "execution_count": 55,
   "id": "46bacb28",
   "metadata": {},
   "outputs": [
    {
     "name": "stdout",
     "output_type": "stream",
     "text": [
      "{65, 2, 1, 99, 6, 521, 41, 45, 78, 14, 'weak', 'order'}\n"
     ]
    }
   ],
   "source": [
    "print(s)"
   ]
  },
  {
   "cell_type": "code",
   "execution_count": 56,
   "id": "59546714",
   "metadata": {},
   "outputs": [],
   "source": [
    "# s.add([11,22]) #unhashable  error"
   ]
  },
  {
   "cell_type": "code",
   "execution_count": 57,
   "id": "167a7408",
   "metadata": {},
   "outputs": [],
   "source": [
    "s.add((11,22)) # we can add a tuple insied a set"
   ]
  },
  {
   "cell_type": "code",
   "execution_count": 58,
   "id": "46cc8250",
   "metadata": {},
   "outputs": [
    {
     "name": "stdout",
     "output_type": "stream",
     "text": [
      "{65, 2, 1, 99, 6, 521, 41, 45, 78, 14, 'weak', (11, 22), 'order'}\n"
     ]
    }
   ],
   "source": [
    "print(s)"
   ]
  },
  {
   "cell_type": "code",
   "execution_count": 59,
   "id": "61aef103",
   "metadata": {},
   "outputs": [],
   "source": [
    "# mutable are unhashable eg. list\n",
    "# immutable are hashable eg. tuple"
   ]
  },
  {
   "cell_type": "code",
   "execution_count": 60,
   "id": "446a9a60",
   "metadata": {},
   "outputs": [],
   "source": [
    "# print(sorted(s)) # sorted will not work , if elements are not compatible"
   ]
  },
  {
   "cell_type": "code",
   "execution_count": 61,
   "id": "765f6c90",
   "metadata": {},
   "outputs": [],
   "source": [
    "s3  = {44,55,88,77,55,44,12,45}"
   ]
  },
  {
   "cell_type": "code",
   "execution_count": 62,
   "id": "977ea6be",
   "metadata": {},
   "outputs": [
    {
     "name": "stdout",
     "output_type": "stream",
     "text": [
      "<class 'list'>\n",
      "[12, 44, 45, 55, 77, 88]\n"
     ]
    }
   ],
   "source": [
    "x = sorted(s3) # since all elements are integers, they will be sorted\n",
    "print(type(x))\n",
    "print(x)"
   ]
  },
  {
   "cell_type": "code",
   "execution_count": 63,
   "id": "acbef8f2",
   "metadata": {},
   "outputs": [],
   "source": [
    "s.remove('weak')"
   ]
  },
  {
   "cell_type": "code",
   "execution_count": 64,
   "id": "5c561391",
   "metadata": {},
   "outputs": [
    {
     "name": "stdout",
     "output_type": "stream",
     "text": [
      "{65, 2, 1, 99, 6, 521, 41, 45, 78, 14, (11, 22), 'order'}\n"
     ]
    }
   ],
   "source": [
    "print(s)"
   ]
  },
  {
   "cell_type": "code",
   "execution_count": 65,
   "id": "7f562653",
   "metadata": {},
   "outputs": [],
   "source": [
    "s.clear() #clear the set"
   ]
  },
  {
   "cell_type": "code",
   "execution_count": 66,
   "id": "93de6cc0",
   "metadata": {},
   "outputs": [
    {
     "name": "stdout",
     "output_type": "stream",
     "text": [
      "set()\n"
     ]
    }
   ],
   "source": [
    "print(s)"
   ]
  },
  {
   "cell_type": "code",
   "execution_count": 67,
   "id": "ae5f38eb",
   "metadata": {},
   "outputs": [],
   "source": [
    "# del(s) # will delete the whole set"
   ]
  },
  {
   "cell_type": "code",
   "execution_count": 68,
   "id": "2231e8e8",
   "metadata": {},
   "outputs": [],
   "source": [
    "# print(s) #error"
   ]
  },
  {
   "cell_type": "markdown",
   "id": "e0dfeeac",
   "metadata": {},
   "source": [
    "# Operation on set"
   ]
  },
  {
   "cell_type": "code",
   "execution_count": 69,
   "id": "905de89f",
   "metadata": {},
   "outputs": [],
   "source": [
    "s_even= {2,4,6,8,10}"
   ]
  },
  {
   "cell_type": "code",
   "execution_count": 70,
   "id": "03927669",
   "metadata": {},
   "outputs": [],
   "source": [
    "s_odd = {1,3,5,7,9}"
   ]
  },
  {
   "cell_type": "code",
   "execution_count": 71,
   "id": "64e4c9a4",
   "metadata": {},
   "outputs": [],
   "source": [
    "# print(s_even + s_odd) #unsupported "
   ]
  },
  {
   "cell_type": "code",
   "execution_count": 72,
   "id": "93d22db7",
   "metadata": {},
   "outputs": [
    {
     "name": "stdout",
     "output_type": "stream",
     "text": [
      "(2, 4, 6, 8, 10)\n"
     ]
    }
   ],
   "source": [
    "print(tuple(s_even)) #interconversion is possible"
   ]
  },
  {
   "cell_type": "code",
   "execution_count": 73,
   "id": "800c488f",
   "metadata": {},
   "outputs": [
    {
     "name": "stdout",
     "output_type": "stream",
     "text": [
      "(1, 3, 5, 7, 9)\n"
     ]
    }
   ],
   "source": [
    "print(tuple(s_odd))"
   ]
  },
  {
   "cell_type": "code",
   "execution_count": 74,
   "id": "a093990e",
   "metadata": {},
   "outputs": [
    {
     "name": "stdout",
     "output_type": "stream",
     "text": [
      "[1, 3, 5, 7, 9]\n"
     ]
    }
   ],
   "source": [
    "print(list(s_odd))"
   ]
  },
  {
   "cell_type": "code",
   "execution_count": 75,
   "id": "3f27ff9b",
   "metadata": {},
   "outputs": [],
   "source": [
    "# YOU CANT CHANGE BUT YOU CAN ADD ITEMS INSIDE A SET"
   ]
  },
  {
   "cell_type": "code",
   "execution_count": 76,
   "id": "649f9497",
   "metadata": {},
   "outputs": [],
   "source": [
    "#ADD"
   ]
  },
  {
   "cell_type": "code",
   "execution_count": 77,
   "id": "fd204ca6",
   "metadata": {},
   "outputs": [
    {
     "name": "stdout",
     "output_type": "stream",
     "text": [
      "{3, 6, 9, 12, 15, 18, 21, 'MinSkole', (5, 10, 15, 20)}\n"
     ]
    }
   ],
   "source": [
    "set1 = {3,6,9,12,15}\n",
    "set1.add(18)\n",
    "\n",
    "set1.add(21)\n",
    "set1.add(\"MinSkole\")\n",
    "# set1.add([5,10,15,20]) #TypeError: unhashable type: 'list'\n",
    "# set1.add({5,10,15,20}) # TypeError: unhashable type: 'set'\n",
    "set1.add((5,10,15,20)) \n",
    "print(set1)"
   ]
  },
  {
   "cell_type": "code",
   "execution_count": 78,
   "id": "c33c4da1",
   "metadata": {},
   "outputs": [],
   "source": [
    "#UPDATE"
   ]
  },
  {
   "cell_type": "code",
   "execution_count": 79,
   "id": "e48b153b",
   "metadata": {},
   "outputs": [
    {
     "name": "stdout",
     "output_type": "stream",
     "text": [
      "5\n",
      "4\n",
      "{3, 4, 6, 8, 9, 12, 15, 16}\n",
      "8\n"
     ]
    }
   ],
   "source": [
    "set3 = {3,6,9,12,15}\n",
    "print(len(set3))\n",
    "\n",
    "set4 = {4,8,12,16}\n",
    "print(len(set4))\n",
    "set3.update(set4)\n",
    "\n",
    "print(set3)\n",
    "print(len(set3))\n"
   ]
  },
  {
   "cell_type": "code",
   "execution_count": 80,
   "id": "4841f1c3",
   "metadata": {},
   "outputs": [],
   "source": [
    "#copy"
   ]
  },
  {
   "cell_type": "code",
   "execution_count": 81,
   "id": "1d249222",
   "metadata": {},
   "outputs": [],
   "source": [
    "set7 = {7,77,777,73,6,9,12,15}"
   ]
  },
  {
   "cell_type": "code",
   "execution_count": 82,
   "id": "d839f293",
   "metadata": {},
   "outputs": [],
   "source": [
    "set_dup = set7.copy()"
   ]
  },
  {
   "cell_type": "code",
   "execution_count": 83,
   "id": "a29bd739",
   "metadata": {},
   "outputs": [
    {
     "name": "stdout",
     "output_type": "stream",
     "text": [
      "{6, 7, 73, 777, 9, 12, 77, 15}\n"
     ]
    }
   ],
   "source": [
    "print(set_dup)"
   ]
  },
  {
   "cell_type": "code",
   "execution_count": 86,
   "id": "485d27b0",
   "metadata": {},
   "outputs": [
    {
     "name": "stdout",
     "output_type": "stream",
     "text": [
      "2644553794048\n",
      "2644553795616\n"
     ]
    }
   ],
   "source": [
    "print(id(set7))\n",
    "print(id(set_dup))\n",
    "# both will have differnt ID"
   ]
  },
  {
   "cell_type": "code",
   "execution_count": null,
   "id": "913675ca",
   "metadata": {},
   "outputs": [],
   "source": [
    "#REMOVE"
   ]
  },
  {
   "cell_type": "code",
   "execution_count": null,
   "id": "ff28e0a7",
   "metadata": {},
   "outputs": [],
   "source": [
    "set3 = {0,3,6,9,12,15}\n",
    "print(set3)\n",
    "set3.remove(0)\n",
    "print(set3)\n",
    "# set3.remove(10) # this will throw error if the element is missing \n",
    "# print(set3)"
   ]
  },
  {
   "cell_type": "code",
   "execution_count": null,
   "id": "731e56ab",
   "metadata": {},
   "outputs": [],
   "source": [
    "#DISCARD"
   ]
  },
  {
   "cell_type": "code",
   "execution_count": null,
   "id": "59435b2d",
   "metadata": {},
   "outputs": [],
   "source": [
    "print(\"**********using discard*********\")\n",
    "set3 = {0,3,6,9,12,15}\n",
    "set3.discard(100) # this will not throw error evne if the element is missing \n",
    "set3.discard(15) # this will not throw error evne if the element is missing \n",
    "print(set3)"
   ]
  },
  {
   "cell_type": "code",
   "execution_count": null,
   "id": "b5be488a",
   "metadata": {},
   "outputs": [],
   "source": [
    "# POP"
   ]
  },
  {
   "cell_type": "code",
   "execution_count": null,
   "id": "327e93ff",
   "metadata": {},
   "outputs": [],
   "source": [
    "set3 = {0,3,6,9,12,15}\n",
    "set3.pop() # no argument has to be given\n",
    "print(set3)\n",
    "set3.pop() # no argument has to be given\n",
    "print(set3)\n",
    "set3.pop() # no argument has to be given\n",
    "print(set3)\n"
   ]
  },
  {
   "cell_type": "code",
   "execution_count": null,
   "id": "563972c1",
   "metadata": {},
   "outputs": [],
   "source": [
    "# CLEAR"
   ]
  },
  {
   "cell_type": "code",
   "execution_count": null,
   "id": "5c34660e",
   "metadata": {},
   "outputs": [],
   "source": [
    "# set3.clear()"
   ]
  },
  {
   "cell_type": "code",
   "execution_count": null,
   "id": "7d024a91",
   "metadata": {},
   "outputs": [],
   "source": [
    "print(set3)"
   ]
  },
  {
   "cell_type": "code",
   "execution_count": null,
   "id": "4c881fb7",
   "metadata": {},
   "outputs": [],
   "source": [
    "# SET OPERATIONS mathematical"
   ]
  },
  {
   "cell_type": "code",
   "execution_count": null,
   "id": "8a446828",
   "metadata": {},
   "outputs": [],
   "source": [
    "e = {0,2,4,6,8,10}\n",
    "o = {0,1,3,5,7,9}\n",
    "o1 ={3,5}"
   ]
  },
  {
   "cell_type": "code",
   "execution_count": null,
   "id": "568fc177",
   "metadata": {},
   "outputs": [],
   "source": [
    "print(e.intersection(o))\n",
    "print(e.union(o))\n",
    "print(e.difference(o))\n",
    "print(e.symmetric_difference(o))\n",
    "print(o1.issubset(o))"
   ]
  },
  {
   "cell_type": "code",
   "execution_count": null,
   "id": "c0e9ecf4",
   "metadata": {},
   "outputs": [],
   "source": [
    "# TYPE CASTING"
   ]
  },
  {
   "cell_type": "code",
   "execution_count": null,
   "id": "0bdd7686",
   "metadata": {},
   "outputs": [],
   "source": [
    "print(set([\"Minskole\",\"Pune\",400076]))"
   ]
  },
  {
   "cell_type": "code",
   "execution_count": null,
   "id": "320cf6f0",
   "metadata": {},
   "outputs": [],
   "source": [
    "print(set({\"Name\" : \"Minskole\",\n",
    "\"Addr\" :\"Pune\", \n",
    "\"Pin\": 400076})) # to store the keys "
   ]
  },
  {
   "cell_type": "markdown",
   "id": "c69e6400",
   "metadata": {},
   "source": [
    "# DICTIONARY"
   ]
  },
  {
   "cell_type": "code",
   "execution_count": null,
   "id": "0223af2f",
   "metadata": {},
   "outputs": [],
   "source": [
    "z = {}\n",
    "print(type(z))"
   ]
  },
  {
   "cell_type": "code",
   "execution_count": null,
   "id": "982a5e71",
   "metadata": {},
   "outputs": [],
   "source": [
    "z = {8}\n",
    "print(type(z))"
   ]
  },
  {
   "cell_type": "code",
   "execution_count": null,
   "id": "c0b2134c",
   "metadata": {},
   "outputs": [],
   "source": [
    "z = {8,9}\n",
    "print(type(z))"
   ]
  },
  {
   "cell_type": "code",
   "execution_count": null,
   "id": "64483a24",
   "metadata": {},
   "outputs": [],
   "source": [
    "# key : value pair arrangement"
   ]
  },
  {
   "cell_type": "code",
   "execution_count": null,
   "id": "6ba4425e",
   "metadata": {},
   "outputs": [],
   "source": [
    "# creating  adict"
   ]
  },
  {
   "cell_type": "code",
   "execution_count": null,
   "id": "cb559795",
   "metadata": {},
   "outputs": [],
   "source": [
    "x = {\"name\" : \"rahul\" ,\"age\" : 25}"
   ]
  },
  {
   "cell_type": "code",
   "execution_count": null,
   "id": "68f75507",
   "metadata": {},
   "outputs": [],
   "source": [
    "print(x)"
   ]
  },
  {
   "cell_type": "code",
   "execution_count": null,
   "id": "36e70751",
   "metadata": {},
   "outputs": [],
   "source": [
    "# keys are like index in a dict "
   ]
  },
  {
   "cell_type": "code",
   "execution_count": null,
   "id": "a1e741d5",
   "metadata": {},
   "outputs": [],
   "source": [
    "dict1  ={\n",
    "    'name' : 1,\n",
    "    'name' : 2 ,\n",
    "    'roll' : 5,\n",
    "    'pin' : True,\n",
    "    'num' : True\n",
    "}"
   ]
  },
  {
   "cell_type": "code",
   "execution_count": null,
   "id": "32ad6537",
   "metadata": {},
   "outputs": [],
   "source": [
    "# ways of creating a dictionary"
   ]
  },
  {
   "cell_type": "code",
   "execution_count": null,
   "id": "13b657d8",
   "metadata": {},
   "outputs": [],
   "source": [
    "# using basic way\n",
    "rainf = dict()\n",
    "print(rainf)\n",
    "\n",
    "rainf = {\n",
    "    \"Mumbai\" : 25.9,\n",
    "    \"Pune\" : 22.4\n",
    "}\n",
    "print(rainf)\n"
   ]
  },
  {
   "cell_type": "code",
   "execution_count": null,
   "id": "667b1459",
   "metadata": {},
   "outputs": [],
   "source": [
    "# using dict method "
   ]
  },
  {
   "cell_type": "code",
   "execution_count": null,
   "id": "18251b71",
   "metadata": {},
   "outputs": [],
   "source": [
    "a = (\"Nirmal\",33.4)\n",
    "b = (\"Nizamabad\",54.6)\n",
    "c = (\"Jagtial\",35.9)\n",
    "d = (\"Peddapalli\",36)\n",
    "e = (\"Jayashankar\",30.8)"
   ]
  },
  {
   "cell_type": "code",
   "execution_count": null,
   "id": "b93187ea",
   "metadata": {},
   "outputs": [],
   "source": [
    "rainf = dict([a,b,c,d,e])\n",
    "print(rainf)"
   ]
  },
  {
   "cell_type": "code",
   "execution_count": null,
   "id": "ce746192",
   "metadata": {},
   "outputs": [],
   "source": [
    "a = dict(one=1, two=2, three=3) # string are not in quotes\n",
    "b = {'one': 1, 'two': 2, 'three': 3}\n",
    "c = dict(zip(['one', 'two', 'three'], [1, 2, 3]))\n",
    "d = dict([('two', 2), ('one', 1), ('three', 3)])\n",
    "e = dict({'three': 3, 'one': 1, 'two': 2})\n",
    "f = dict({'one': 1, 'three': 3}, two=2)"
   ]
  },
  {
   "cell_type": "code",
   "execution_count": null,
   "id": "09430a3d",
   "metadata": {},
   "outputs": [],
   "source": [
    "print(a)\n",
    "print(b)\n",
    "print(c)\n",
    "print(d)\n",
    "print(e)\n",
    "print(f)"
   ]
  },
  {
   "cell_type": "code",
   "execution_count": null,
   "id": "99e73ef1",
   "metadata": {},
   "outputs": [],
   "source": [
    "# checking if all above dictionaries are equal"
   ]
  },
  {
   "cell_type": "code",
   "execution_count": null,
   "id": "64bd0d18",
   "metadata": {},
   "outputs": [],
   "source": [
    "print(a == b == c == d == e == f)"
   ]
  },
  {
   "cell_type": "code",
   "execution_count": null,
   "id": "93006003",
   "metadata": {},
   "outputs": [],
   "source": [
    "print(dict1) #updated value of name i.e the latest entry"
   ]
  },
  {
   "cell_type": "code",
   "execution_count": null,
   "id": "7962386b",
   "metadata": {},
   "outputs": [],
   "source": [
    "# values allowed as Keys"
   ]
  },
  {
   "cell_type": "code",
   "execution_count": null,
   "id": "e1c8d80d",
   "metadata": {},
   "outputs": [],
   "source": [
    "# dict1  ={\n",
    "#     'name' : 1,\n",
    "#     'name' : 2 ,\n",
    "#     'roll' : 5,\n",
    "#     @123 : True,\n",
    "#     True : True\n",
    "# }"
   ]
  },
  {
   "cell_type": "code",
   "execution_count": null,
   "id": "dc760a1d",
   "metadata": {},
   "outputs": [],
   "source": [
    "# print(dict1) eror"
   ]
  },
  {
   "cell_type": "code",
   "execution_count": null,
   "id": "b1cdb552",
   "metadata": {},
   "outputs": [],
   "source": [
    "dict1  ={\n",
    "    'name' : 1,\n",
    "    'name' : [11,22,55,88] ,\n",
    "    'roll' : 5,\n",
    "    'pin' : True,\n",
    "    'num' : {1 : 'one',2 :'two',3 :'three'}\n",
    "}"
   ]
  },
  {
   "cell_type": "code",
   "execution_count": null,
   "id": "fbf0b5c2",
   "metadata": {},
   "outputs": [],
   "source": [
    "print(dict1)"
   ]
  },
  {
   "cell_type": "markdown",
   "id": "ab2c7cda",
   "metadata": {},
   "source": [
    "# accessing the  data"
   ]
  },
  {
   "cell_type": "code",
   "execution_count": null,
   "id": "107f48ca",
   "metadata": {},
   "outputs": [],
   "source": [
    "dict1  ={\n",
    "    'name' : 1,\n",
    "    'name' : [11,22,55,88] ,\n",
    "    'roll' : 5,\n",
    "    'pin' : True,\n",
    "    'num' : {1 : 'one',2 :'two',3 :'three'}\n",
    "}"
   ]
  },
  {
   "cell_type": "code",
   "execution_count": null,
   "id": "1daa6ce8",
   "metadata": {},
   "outputs": [],
   "source": [
    "print(dict1['roll'])"
   ]
  },
  {
   "cell_type": "code",
   "execution_count": null,
   "id": "964457c8",
   "metadata": {},
   "outputs": [],
   "source": [
    "print(dict1['num'][2])"
   ]
  },
  {
   "cell_type": "code",
   "execution_count": null,
   "id": "63688a2b",
   "metadata": {},
   "outputs": [],
   "source": [
    "print(dict1['num'])"
   ]
  },
  {
   "cell_type": "code",
   "execution_count": null,
   "id": "ebe9682a",
   "metadata": {},
   "outputs": [],
   "source": [
    "print(dict1['name'][0])"
   ]
  },
  {
   "cell_type": "code",
   "execution_count": null,
   "id": "d9bb29ad",
   "metadata": {},
   "outputs": [],
   "source": [
    "dict1['num'] = \"Rahul\" # reassigning the valuse is possible\n",
    "print(dict1['num'])\n",
    "\n"
   ]
  },
  {
   "cell_type": "code",
   "execution_count": null,
   "id": "8400f0d5",
   "metadata": {},
   "outputs": [],
   "source": [
    "print(dict1.keys())"
   ]
  },
  {
   "cell_type": "code",
   "execution_count": null,
   "id": "a766e70b",
   "metadata": {},
   "outputs": [],
   "source": [
    "print('num' in dict1) #membership operator"
   ]
  },
  {
   "cell_type": "code",
   "execution_count": null,
   "id": "a11e44eb",
   "metadata": {},
   "outputs": [],
   "source": [
    "for i in dict1: # this will give only keys\n",
    "    print(i)"
   ]
  },
  {
   "cell_type": "code",
   "execution_count": null,
   "id": "93d26c9b",
   "metadata": {},
   "outputs": [],
   "source": [
    "for i in dict1.keys(): # this will give only keys\n",
    "    print(i)"
   ]
  },
  {
   "cell_type": "code",
   "execution_count": null,
   "id": "7fd0e3fc",
   "metadata": {},
   "outputs": [],
   "source": [
    "for i in dict1.values(): # this will give only values\n",
    "    print(i)"
   ]
  },
  {
   "cell_type": "code",
   "execution_count": null,
   "id": "2b604285",
   "metadata": {},
   "outputs": [],
   "source": [
    "for i in dict1.items(): # this will give key n value in tuple pair\n",
    "    print(i)"
   ]
  },
  {
   "cell_type": "code",
   "execution_count": null,
   "id": "1d2eacfa",
   "metadata": {},
   "outputs": [],
   "source": [
    "for i in dict1.items(): # this will give key \n",
    "    print(i[0]) "
   ]
  },
  {
   "cell_type": "code",
   "execution_count": null,
   "id": "6180d195",
   "metadata": {},
   "outputs": [],
   "source": [
    "for i in dict1.items(): # this will give values \n",
    "    print(i[1])"
   ]
  },
  {
   "cell_type": "code",
   "execution_count": null,
   "id": "2deefb1b",
   "metadata": {},
   "outputs": [],
   "source": [
    "#updating  a dict"
   ]
  },
  {
   "cell_type": "code",
   "execution_count": null,
   "id": "2c4f12a5",
   "metadata": {},
   "outputs": [],
   "source": [
    "a = (\"Nirmal\",22.6)\n",
    "b = (\"Nizamabad\",54.6)\n",
    "c = (\"Jagtial\",35.9)\n",
    "d = (\"Peddapalli\",36)\n",
    "e = (\"Jayashankar\",30.8)\n",
    "rainf = dict([a,b,c,d,e])\n",
    "\n",
    "\n",
    "rainf = dict([a,b,c,d,e])\n",
    "rainf[\"Nirmal\"] = 220\n",
    "print(rainf)"
   ]
  },
  {
   "cell_type": "code",
   "execution_count": null,
   "id": "0dcb9876",
   "metadata": {},
   "outputs": [],
   "source": [
    "rainf.update({\"Nirmal\" : 500})\n",
    "print(rainf)"
   ]
  },
  {
   "cell_type": "code",
   "execution_count": null,
   "id": "e7084bb5",
   "metadata": {},
   "outputs": [],
   "source": [
    "rainf[\"Nirmal\"] = \"\"\n",
    "print(rainf)"
   ]
  },
  {
   "cell_type": "code",
   "execution_count": null,
   "id": "2c1ed676",
   "metadata": {},
   "outputs": [],
   "source": [
    "rainf[\"Nirmal\"] = None\n",
    "print(rainf)"
   ]
  },
  {
   "cell_type": "code",
   "execution_count": null,
   "id": "36ad650e",
   "metadata": {},
   "outputs": [],
   "source": [
    "rainf[\"Nirmal\"] = True\n",
    "print(rainf)"
   ]
  },
  {
   "cell_type": "code",
   "execution_count": null,
   "id": "a879712a",
   "metadata": {},
   "outputs": [],
   "source": [
    "# removing items from dict"
   ]
  },
  {
   "cell_type": "code",
   "execution_count": null,
   "id": "bb2e3ac5",
   "metadata": {},
   "outputs": [],
   "source": [
    "rainf.pop(\"Nirmal\")\n",
    "print(rainf)"
   ]
  },
  {
   "cell_type": "code",
   "execution_count": null,
   "id": "3e0976de",
   "metadata": {},
   "outputs": [],
   "source": [
    "rainf.popitem() # remove the last element  = ctrl+z , undo\n",
    "print(rainf)"
   ]
  },
  {
   "cell_type": "code",
   "execution_count": null,
   "id": "778265d7",
   "metadata": {},
   "outputs": [],
   "source": [
    "rainf.pop(\"Peddapalli\")\n",
    "print(rainf)"
   ]
  },
  {
   "cell_type": "code",
   "execution_count": null,
   "id": "1c3d7086",
   "metadata": {},
   "outputs": [],
   "source": [
    "# clearing the dict\n",
    "\n",
    "rainf.clear()\n",
    "print(rainf)"
   ]
  },
  {
   "cell_type": "code",
   "execution_count": null,
   "id": "554a899e",
   "metadata": {},
   "outputs": [],
   "source": [
    "del rainf # deleted the dict\n",
    "# print(rainf) # this will give error"
   ]
  },
  {
   "cell_type": "code",
   "execution_count": null,
   "id": "8cdf7d40",
   "metadata": {},
   "outputs": [],
   "source": [
    "# copy"
   ]
  },
  {
   "cell_type": "code",
   "execution_count": null,
   "id": "3dfad303",
   "metadata": {},
   "outputs": [],
   "source": [
    "rainf2 = rainf\n",
    "\n",
    "rainf2[\"Nirmal\"] = None\n",
    "print(rainf2)\n",
    "print(\"***original***********\")\n",
    "print(rainf)"
   ]
  },
  {
   "cell_type": "code",
   "execution_count": null,
   "id": "b533d1ae",
   "metadata": {},
   "outputs": [],
   "source": [
    "print(id(rainf))\n",
    "print(id(rainf2))"
   ]
  },
  {
   "cell_type": "code",
   "execution_count": null,
   "id": "4efa28e0",
   "metadata": {},
   "outputs": [],
   "source": [
    "rainf3 = rainf.copy()\n",
    "print(id(rainf3))\n",
    "rainf3[\"Nirmal\"] = \"\"\n",
    "print(rainf3)\n",
    "print(rainf)"
   ]
  },
  {
   "cell_type": "markdown",
   "id": "88447d95",
   "metadata": {},
   "source": [
    "# METHODS"
   ]
  },
  {
   "cell_type": "code",
   "execution_count": 95,
   "id": "0b842832",
   "metadata": {},
   "outputs": [],
   "source": [
    "# \n",
    "# Method\tDescription\n",
    "# clear()\tRemoves all the elements from the dictionary\n",
    "# copy()\tReturns a copy of the dictionary\n",
    "# fromkeys()\tReturns a dictionary with the specified keys and value\n",
    "# get()\tReturns the value of the specified key\n",
    "# items()\tReturns a list containing a tuple for each key value pair\n",
    "# keys()\tReturns a list containing the dictionary's keys\n",
    "# pop()\tRemoves the element with the specified key\n",
    "# popitem()\tRemoves the last inserted key-value pair\n",
    "# setdefault()\tReturns the value of the specified key. If the key does not exist: insert the key, with the specified value\n",
    "# update()\tUpdates the dictionary with the specified key-value pairs\n",
    "# values()\tReturns a list of all the values in the dictionary\n",
    "#"
   ]
  },
  {
   "cell_type": "code",
   "execution_count": 111,
   "id": "e71cf464",
   "metadata": {},
   "outputs": [],
   "source": [
    "# methods to retrieve data\n",
    "# get\n",
    "#  items\n",
    "#  keys\n",
    "# values"
   ]
  },
  {
   "cell_type": "code",
   "execution_count": 96,
   "id": "239bf3ec",
   "metadata": {},
   "outputs": [],
   "source": [
    "dict1  ={\n",
    "    'name' : 1,\n",
    "    'name' : [11,22,55,88] ,\n",
    "    'roll' : 5,\n",
    "    'pin' : True,\n",
    "    'num' : {1 : 'one',2 :'two',3 :'three'}\n",
    "}"
   ]
  },
  {
   "cell_type": "code",
   "execution_count": 112,
   "id": "d8707b5b",
   "metadata": {},
   "outputs": [
    {
     "name": "stdout",
     "output_type": "stream",
     "text": [
      "True\n"
     ]
    }
   ],
   "source": [
    "z = dict1.get('pin')\n",
    "print(z)"
   ]
  },
  {
   "cell_type": "code",
   "execution_count": 101,
   "id": "bc0fbfaa",
   "metadata": {},
   "outputs": [
    {
     "name": "stdout",
     "output_type": "stream",
     "text": [
      "dict_items([('name', [11, 22, 55, 88]), ('roll', 5), ('pin', True), ('num', {1: 'one', 2: 'two', 3: 'three'})])\n"
     ]
    }
   ],
   "source": [
    "z = dict1.items()\n",
    "print(z)"
   ]
  },
  {
   "cell_type": "code",
   "execution_count": 102,
   "id": "acaf5918",
   "metadata": {},
   "outputs": [
    {
     "name": "stdout",
     "output_type": "stream",
     "text": [
      "dict_keys(['name', 'roll', 'pin', 'num'])\n"
     ]
    }
   ],
   "source": [
    "z = dict1.keys()\n",
    "print(z)"
   ]
  },
  {
   "cell_type": "code",
   "execution_count": 107,
   "id": "d550ce78",
   "metadata": {},
   "outputs": [
    {
     "name": "stdout",
     "output_type": "stream",
     "text": [
      "dict_values([[11, 22, 55, 88], 5, True, {1: 'one', 2: 'two', 3: 'three'}])\n"
     ]
    }
   ],
   "source": [
    "z = dict1.values()\n",
    "print(z)"
   ]
  },
  {
   "cell_type": "code",
   "execution_count": 130,
   "id": "e3a12f27",
   "metadata": {},
   "outputs": [],
   "source": [
    "# using two variables for getting key and value pairs separately"
   ]
  },
  {
   "cell_type": "code",
   "execution_count": 109,
   "id": "a4284a94",
   "metadata": {
    "scrolled": true
   },
   "outputs": [
    {
     "name": "stdout",
     "output_type": "stream",
     "text": [
      "name [11, 22, 55, 88]\n",
      "roll 5\n",
      "pin True\n",
      "num {1: 'one', 2: 'two', 3: 'three'}\n"
     ]
    }
   ],
   "source": [
    "\n",
    "z = dict1.items()\n",
    "\n",
    "for i,j in z:\n",
    "    print(i,j)"
   ]
  },
  {
   "cell_type": "code",
   "execution_count": 110,
   "id": "b2f2aebe",
   "metadata": {},
   "outputs": [],
   "source": [
    "# copy"
   ]
  },
  {
   "cell_type": "code",
   "execution_count": 121,
   "id": "23327d49",
   "metadata": {},
   "outputs": [],
   "source": [
    "dict_backup = dict1.copy()"
   ]
  },
  {
   "cell_type": "code",
   "execution_count": 122,
   "id": "7354f379",
   "metadata": {},
   "outputs": [
    {
     "name": "stdout",
     "output_type": "stream",
     "text": [
      "{'name': [11, 22, 55, 88], 'roll': 5, 'pin': True, 'num': {1: 'one', 2: 'two', 3: 'three'}}\n"
     ]
    }
   ],
   "source": [
    "print(dict_backup)"
   ]
  },
  {
   "cell_type": "code",
   "execution_count": 123,
   "id": "c4263fd3",
   "metadata": {},
   "outputs": [],
   "source": [
    "# removing objects \n",
    "# pop\n",
    "# popitem\n",
    "#  clear\n",
    "# del"
   ]
  },
  {
   "cell_type": "code",
   "execution_count": 124,
   "id": "7be92068",
   "metadata": {},
   "outputs": [
    {
     "data": {
      "text/plain": [
       "True"
      ]
     },
     "execution_count": 124,
     "metadata": {},
     "output_type": "execute_result"
    }
   ],
   "source": [
    "dict_backup.pop('pin') # removes the mentioned key value pair"
   ]
  },
  {
   "cell_type": "code",
   "execution_count": 125,
   "id": "cc943293",
   "metadata": {},
   "outputs": [
    {
     "name": "stdout",
     "output_type": "stream",
     "text": [
      "{'name': [11, 22, 55, 88], 'roll': 5, 'num': {1: 'one', 2: 'two', 3: 'three'}}\n"
     ]
    }
   ],
   "source": [
    "print(dict_backup)"
   ]
  },
  {
   "cell_type": "code",
   "execution_count": 126,
   "id": "06418f88",
   "metadata": {},
   "outputs": [
    {
     "name": "stdout",
     "output_type": "stream",
     "text": [
      "{'name': [11, 22, 55, 88], 'roll': 5}\n"
     ]
    }
   ],
   "source": [
    "dict_backup.popitem() # removes the last enterd objects\n",
    "print(dict_backup)"
   ]
  },
  {
   "cell_type": "code",
   "execution_count": 127,
   "id": "771266c9",
   "metadata": {},
   "outputs": [
    {
     "name": "stdout",
     "output_type": "stream",
     "text": [
      "{}\n"
     ]
    }
   ],
   "source": [
    "dict_backup.clear()\n",
    "print(dict_backup)"
   ]
  },
  {
   "cell_type": "code",
   "execution_count": 128,
   "id": "ed32a72d",
   "metadata": {},
   "outputs": [],
   "source": [
    "del(dict_backup)"
   ]
  },
  {
   "cell_type": "code",
   "execution_count": 131,
   "id": "27e2b4f0",
   "metadata": {},
   "outputs": [],
   "source": [
    "# updating objects"
   ]
  },
  {
   "cell_type": "code",
   "execution_count": 132,
   "id": "e36deff4",
   "metadata": {},
   "outputs": [],
   "source": [
    "dict1  ={\n",
    "    'name' : 1,\n",
    "    'name' : [11,22,55,88] ,\n",
    "    'roll' : 5,\n",
    "    'pin' : True,\n",
    "    'num' : {1 : 'one',2 :'two',3 :'three'}\n",
    "}"
   ]
  },
  {
   "cell_type": "code",
   "execution_count": 135,
   "id": "9222dfdc",
   "metadata": {},
   "outputs": [
    {
     "name": "stdout",
     "output_type": "stream",
     "text": [
      "{'name': [11, 22, 55, 88], 'roll': 5, 'pin': True, 'num': {1: 'one', 2: 'two', 3: 'three'}, 'marks': 100}\n"
     ]
    }
   ],
   "source": [
    "dict1['marks'] = 100\n",
    "print(dict1)"
   ]
  },
  {
   "cell_type": "code",
   "execution_count": 141,
   "id": "4597e629",
   "metadata": {},
   "outputs": [
    {
     "name": "stdout",
     "output_type": "stream",
     "text": [
      "{'name': [11, 22, 55, 88], 'roll': 5, 'pin': True, 'num': {1: 'one', 2: 'two', 3: 'three'}, 'marks': 100, 'Attendance': 'Y'}\n"
     ]
    }
   ],
   "source": [
    "dict1.update({'Attendance' : 'Y'})\n",
    "print(dict1)"
   ]
  },
  {
   "cell_type": "markdown",
   "id": "4b710cbe",
   "metadata": {},
   "source": [
    "# IMP METHODS"
   ]
  },
  {
   "cell_type": "code",
   "execution_count": 167,
   "id": "3d76f3ea",
   "metadata": {},
   "outputs": [],
   "source": [
    "dict1  ={\n",
    "    'name' : 1,\n",
    "    'name' : [11,22,55,88] ,\n",
    "    'roll' : 5,\n",
    "    'pin' : True,\n",
    "    'num' : {1 : 'one',2 :'two',3 :'three'}\n",
    "}"
   ]
  },
  {
   "cell_type": "code",
   "execution_count": 154,
   "id": "1a83c6be",
   "metadata": {},
   "outputs": [],
   "source": [
    "# get"
   ]
  },
  {
   "cell_type": "code",
   "execution_count": 155,
   "id": "52529327",
   "metadata": {},
   "outputs": [
    {
     "name": "stdout",
     "output_type": "stream",
     "text": [
      "[11, 22, 55, 88]\n"
     ]
    }
   ],
   "source": [
    "print(dict1.get('name'))"
   ]
  },
  {
   "cell_type": "code",
   "execution_count": 156,
   "id": "54d25288",
   "metadata": {},
   "outputs": [
    {
     "name": "stdout",
     "output_type": "stream",
     "text": [
      "None\n"
     ]
    }
   ],
   "source": [
    "print(dict1.get('place'))"
   ]
  },
  {
   "cell_type": "code",
   "execution_count": 157,
   "id": "725e36ce",
   "metadata": {},
   "outputs": [
    {
     "name": "stdout",
     "output_type": "stream",
     "text": [
      "No Such Key exists\n"
     ]
    }
   ],
   "source": [
    "print(dict1.get('place', 'No Such Key exists'))"
   ]
  },
  {
   "cell_type": "code",
   "execution_count": 170,
   "id": "0c0d9703",
   "metadata": {},
   "outputs": [],
   "source": [
    "# setdefault"
   ]
  },
  {
   "cell_type": "code",
   "execution_count": 161,
   "id": "0f858ff4",
   "metadata": {},
   "outputs": [
    {
     "name": "stdout",
     "output_type": "stream",
     "text": [
      "[11, 22, 55, 88]\n"
     ]
    }
   ],
   "source": [
    "print(dict1.setdefault('name'))"
   ]
  },
  {
   "cell_type": "code",
   "execution_count": 162,
   "id": "bdfb04c3",
   "metadata": {},
   "outputs": [
    {
     "name": "stdout",
     "output_type": "stream",
     "text": [
      "None\n"
     ]
    }
   ],
   "source": [
    "# print(dict1.setdefault('place'))"
   ]
  },
  {
   "cell_type": "code",
   "execution_count": 168,
   "id": "d8a02c65",
   "metadata": {},
   "outputs": [
    {
     "name": "stdout",
     "output_type": "stream",
     "text": [
      "Mumbai\n"
     ]
    }
   ],
   "source": [
    "print(dict1.setdefault('place' , 'Mumbai'))"
   ]
  },
  {
   "cell_type": "code",
   "execution_count": 169,
   "id": "11990fa7",
   "metadata": {},
   "outputs": [
    {
     "name": "stdout",
     "output_type": "stream",
     "text": [
      "{'name': [11, 22, 55, 88], 'roll': 5, 'pin': True, 'num': {1: 'one', 2: 'two', 3: 'three'}, 'place': 'Mumbai'}\n"
     ]
    }
   ],
   "source": [
    "print(dict1)"
   ]
  },
  {
   "cell_type": "code",
   "execution_count": 171,
   "id": "3c49a589",
   "metadata": {},
   "outputs": [],
   "source": [
    "# fromkeys"
   ]
  },
  {
   "cell_type": "code",
   "execution_count": 172,
   "id": "54248538",
   "metadata": {},
   "outputs": [
    {
     "name": "stdout",
     "output_type": "stream",
     "text": [
      "{'Nirmal': 33.4, 'Nizamabad': 54.6, 'Jagtial': 35.9, 'Peddapalli': 36, 'Jayashankar': 30.8}\n",
      "{'one': 1, 'two': 2, 'three': 3}\n",
      "{'one': 1, 'two': 2, 'three': 3}\n",
      "{'one': 1, 'two': 2, 'three': 3}\n",
      "{'two': 2, 'one': 1, 'three': 3}\n",
      "{'three': 3, 'one': 1, 'two': 2}\n",
      "{'one': 1, 'three': 3, 'two': 2}\n",
      "True\n"
     ]
    }
   ],
   "source": [
    "a = (\"Nirmal\",33.4)\n",
    "b = (\"Nizamabad\",54.6)\n",
    "c = (\"Jagtial\",35.9)\n",
    "d = (\"Peddapalli\",36)\n",
    "e = (\"Jayashankar\",30.8)\n",
    "\n",
    "rainf = dict([a,b,c,d,e])\n",
    "print(rainf)\n",
    "\n",
    "\n",
    "a = dict(one=1, two=2, three=3) # string are not in quotes\n",
    "b = {'one': 1, 'two': 2, 'three': 3}\n",
    "c = dict(zip(['one', 'two', 'three'], [1, 2, 3]))\n",
    "d = dict([('two', 2), ('one', 1), ('three', 3)])\n",
    "e = dict({'three': 3, 'one': 1, 'two': 2})\n",
    "f = dict({'one': 1, 'three': 3}, two=2)\n",
    "\n",
    "\n",
    "print(a)\n",
    "print(b)\n",
    "print(c)\n",
    "print(d)\n",
    "print(e)\n",
    "print(f)\n",
    "\n",
    "\n",
    "\n",
    "# checking if all above dictionaries are equal\n",
    "\n",
    "\n",
    "print(a == b == c == d == e == f)"
   ]
  },
  {
   "cell_type": "code",
   "execution_count": null,
   "id": "03b08d58",
   "metadata": {},
   "outputs": [],
   "source": []
  }
 ],
 "metadata": {
  "kernelspec": {
   "display_name": "Python 3 (ipykernel)",
   "language": "python",
   "name": "python3"
  },
  "language_info": {
   "codemirror_mode": {
    "name": "ipython",
    "version": 3
   },
   "file_extension": ".py",
   "mimetype": "text/x-python",
   "name": "python",
   "nbconvert_exporter": "python",
   "pygments_lexer": "ipython3",
   "version": "3.10.5"
  }
 },
 "nbformat": 4,
 "nbformat_minor": 5
}
