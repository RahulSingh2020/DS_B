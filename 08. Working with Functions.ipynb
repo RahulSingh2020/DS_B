{
 "cells": [
  {
   "cell_type": "markdown",
   "id": "d253dd18",
   "metadata": {},
   "source": [
    "# Function"
   ]
  },
  {
   "cell_type": "code",
   "execution_count": 203,
   "id": "b8bfe6d6",
   "metadata": {},
   "outputs": [],
   "source": [
    "# what is the use of a function"
   ]
  },
  {
   "cell_type": "code",
   "execution_count": 204,
   "id": "6decce73",
   "metadata": {},
   "outputs": [],
   "source": [
    "# TYPES OF FUNCTION\n",
    "# inbuilt Eg: print , type , del\n",
    "# user defined : \n",
    "# lambda , ANONYMOUS"
   ]
  },
  {
   "cell_type": "markdown",
   "id": "f23ebf9e",
   "metadata": {},
   "source": [
    "# user defined function"
   ]
  },
  {
   "cell_type": "code",
   "execution_count": 205,
   "id": "d7bd3c32",
   "metadata": {},
   "outputs": [],
   "source": [
    "# need for function as can be seen from below code"
   ]
  },
  {
   "cell_type": "code",
   "execution_count": 206,
   "id": "9eed7347",
   "metadata": {},
   "outputs": [
    {
     "name": "stdout",
     "output_type": "stream",
     "text": [
      "30\n"
     ]
    }
   ],
   "source": [
    "a =  10\n",
    "b = 20\n",
    "print(a+b)"
   ]
  },
  {
   "cell_type": "code",
   "execution_count": 207,
   "id": "26e93a6c",
   "metadata": {},
   "outputs": [
    {
     "name": "stdout",
     "output_type": "stream",
     "text": [
      "300\n"
     ]
    }
   ],
   "source": [
    "a =  100\n",
    "b = 200\n",
    "print(a+b)"
   ]
  },
  {
   "cell_type": "code",
   "execution_count": 139,
   "id": "62c7e975",
   "metadata": {},
   "outputs": [],
   "source": [
    "# we have to write the code again for addition as above every time when the values are changed"
   ]
  },
  {
   "cell_type": "code",
   "execution_count": 140,
   "id": "2f1a2d1a",
   "metadata": {},
   "outputs": [],
   "source": [
    "# we can write code that can be reused again and again, i.e we will be reusing the code"
   ]
  },
  {
   "cell_type": "markdown",
   "id": "87c1e6c3",
   "metadata": {},
   "source": [
    "# writing first function"
   ]
  },
  {
   "cell_type": "code",
   "execution_count": 161,
   "id": "b021ac9e",
   "metadata": {},
   "outputs": [],
   "source": [
    "# syntax\n",
    "# def fun_user_defined():\n",
    "#     block of code"
   ]
  },
  {
   "cell_type": "code",
   "execution_count": 179,
   "id": "85a31579",
   "metadata": {},
   "outputs": [],
   "source": [
    "# without paramaters\n",
    "# limited use as they can not be used with different arguments"
   ]
  },
  {
   "cell_type": "code",
   "execution_count": 172,
   "id": "a8638f3d",
   "metadata": {},
   "outputs": [],
   "source": [
    "def greeting(): #function with no argumnets\n",
    "    print(\"Welcome to Minskole\")\n",
    "    print(\" We are Online\")"
   ]
  },
  {
   "cell_type": "code",
   "execution_count": 176,
   "id": "fa45afd2",
   "metadata": {},
   "outputs": [],
   "source": [
    "# HOw to call a function\n",
    "# calling a function"
   ]
  },
  {
   "cell_type": "code",
   "execution_count": 173,
   "id": "c87df1ec",
   "metadata": {},
   "outputs": [
    {
     "name": "stdout",
     "output_type": "stream",
     "text": [
      "Welcome to Minskole\n",
      " We are Online\n"
     ]
    }
   ],
   "source": [
    "greeting()"
   ]
  },
  {
   "cell_type": "code",
   "execution_count": 208,
   "id": "d734a730",
   "metadata": {},
   "outputs": [],
   "source": [
    "def multiply5(): #function with no argumnets , values are hard coded in the body\n",
    "    print(5*5*5)"
   ]
  },
  {
   "cell_type": "code",
   "execution_count": 209,
   "id": "bebf8fc9",
   "metadata": {},
   "outputs": [
    {
     "name": "stdout",
     "output_type": "stream",
     "text": [
      "125\n"
     ]
    }
   ],
   "source": [
    "multiply5()"
   ]
  },
  {
   "cell_type": "code",
   "execution_count": 178,
   "id": "bc404473",
   "metadata": {},
   "outputs": [],
   "source": [
    "# with parameters"
   ]
  },
  {
   "cell_type": "code",
   "execution_count": 177,
   "id": "fb41036a",
   "metadata": {},
   "outputs": [],
   "source": [
    "# writing the code but we want to define the body later\n",
    "#  so we can use 'pass'\n",
    "\n",
    "def test(x,y):\n",
    "    pass"
   ]
  },
  {
   "cell_type": "code",
   "execution_count": 143,
   "id": "8990623f",
   "metadata": {},
   "outputs": [],
   "source": [
    "# test()   # error is :missing 2 required positional arguments: 'x' and 'y' , since we have not passed any argument\n"
   ]
  },
  {
   "cell_type": "code",
   "execution_count": 10,
   "id": "de842b20",
   "metadata": {},
   "outputs": [],
   "source": [
    "test(10,20) # passing the arguments"
   ]
  },
  {
   "cell_type": "code",
   "execution_count": 11,
   "id": "6b151c32",
   "metadata": {},
   "outputs": [],
   "source": [
    "# adding body of the function"
   ]
  },
  {
   "cell_type": "code",
   "execution_count": 148,
   "id": "53ada1bc",
   "metadata": {},
   "outputs": [],
   "source": [
    "def test(x,y):\n",
    "    print(x+y)"
   ]
  },
  {
   "cell_type": "code",
   "execution_count": 13,
   "id": "76f5433c",
   "metadata": {},
   "outputs": [
    {
     "name": "stdout",
     "output_type": "stream",
     "text": [
      "30\n"
     ]
    }
   ],
   "source": [
    "test(10,20) # now we will get the ans"
   ]
  },
  {
   "cell_type": "code",
   "execution_count": 14,
   "id": "4059d85c",
   "metadata": {},
   "outputs": [
    {
     "name": "stdout",
     "output_type": "stream",
     "text": [
      "300\n"
     ]
    }
   ],
   "source": [
    "test(100,200)"
   ]
  },
  {
   "cell_type": "code",
   "execution_count": 181,
   "id": "8c952781",
   "metadata": {},
   "outputs": [],
   "source": [
    "# Parameters vs Arguments \n",
    "#when some value is assigned to a paramter , it is called argument"
   ]
  },
  {
   "cell_type": "markdown",
   "id": "d006abb3",
   "metadata": {},
   "source": [
    "# function that returns"
   ]
  },
  {
   "cell_type": "code",
   "execution_count": 144,
   "id": "363ad155",
   "metadata": {},
   "outputs": [],
   "source": [
    "# instead of printing the ans\n",
    "# we can ask the function to return the ans , which be used for further processing\n",
    "#  this can be used as parameter to another function"
   ]
  },
  {
   "cell_type": "code",
   "execution_count": 15,
   "id": "c52b55b2",
   "metadata": {},
   "outputs": [],
   "source": [
    "def test1(x,y):\n",
    "    return x*y"
   ]
  },
  {
   "cell_type": "code",
   "execution_count": 16,
   "id": "60a28846",
   "metadata": {},
   "outputs": [
    {
     "name": "stdout",
     "output_type": "stream",
     "text": [
      "200\n"
     ]
    }
   ],
   "source": [
    "print(test1(10,20))"
   ]
  },
  {
   "cell_type": "code",
   "execution_count": 210,
   "id": "3f889df5",
   "metadata": {},
   "outputs": [],
   "source": [
    "# comparing return types in test1 and test functions"
   ]
  },
  {
   "cell_type": "code",
   "execution_count": 146,
   "id": "4c44ceaa",
   "metadata": {},
   "outputs": [
    {
     "name": "stdout",
     "output_type": "stream",
     "text": [
      "<class 'tuple'>\n"
     ]
    }
   ],
   "source": [
    "print(type(test1(10,20))) # <class 'int'>"
   ]
  },
  {
   "cell_type": "code",
   "execution_count": 149,
   "id": "11dd370d",
   "metadata": {},
   "outputs": [
    {
     "name": "stdout",
     "output_type": "stream",
     "text": [
      "30\n",
      "<class 'NoneType'>\n"
     ]
    }
   ],
   "source": [
    "print(type(test(10,20)))# <class 'NoneType'> # since it was not returning anything"
   ]
  },
  {
   "cell_type": "code",
   "execution_count": 20,
   "id": "1c1ad649",
   "metadata": {},
   "outputs": [
    {
     "name": "stdout",
     "output_type": "stream",
     "text": [
      "726\n"
     ]
    }
   ],
   "source": [
    "# we can store the returned value\n",
    "a = test1(22,33)\n",
    "print(a)"
   ]
  },
  {
   "cell_type": "code",
   "execution_count": 21,
   "id": "13b21fa3",
   "metadata": {},
   "outputs": [],
   "source": [
    "# print is not recommended as retun in functions\n",
    "# as we cant use the output of that functuion for further operation"
   ]
  },
  {
   "cell_type": "code",
   "execution_count": 22,
   "id": "eb8e4784",
   "metadata": {},
   "outputs": [],
   "source": [
    "def test3(x,y,z):\n",
    "    return x+y"
   ]
  },
  {
   "cell_type": "code",
   "execution_count": 23,
   "id": "faebb3d6",
   "metadata": {},
   "outputs": [],
   "source": [
    "# ans = test3(10,20) # error : missing 1 required positional argument\n",
    "\n",
    "# we have to provide the exact number of arguments \n",
    "# as given in defination of the function"
   ]
  },
  {
   "cell_type": "code",
   "execution_count": 24,
   "id": "dcfe1868",
   "metadata": {},
   "outputs": [],
   "source": [
    "ans = test3(10,20,0)"
   ]
  },
  {
   "cell_type": "code",
   "execution_count": 25,
   "id": "34433595",
   "metadata": {},
   "outputs": [
    {
     "name": "stdout",
     "output_type": "stream",
     "text": [
      "30\n"
     ]
    }
   ],
   "source": [
    "print(ans)"
   ]
  },
  {
   "cell_type": "markdown",
   "id": "f8d9f106",
   "metadata": {},
   "source": [
    "# returning multiple values"
   ]
  },
  {
   "cell_type": "code",
   "execution_count": 26,
   "id": "2d03a9fb",
   "metadata": {},
   "outputs": [],
   "source": [
    "def test4(a,b):\n",
    "    return a*2 ,b*2 , a+b #is this valid"
   ]
  },
  {
   "cell_type": "code",
   "execution_count": 27,
   "id": "64587577",
   "metadata": {},
   "outputs": [],
   "source": [
    "ans = test4(10,20)"
   ]
  },
  {
   "cell_type": "code",
   "execution_count": 28,
   "id": "e052170f",
   "metadata": {},
   "outputs": [
    {
     "name": "stdout",
     "output_type": "stream",
     "text": [
      "(20, 40, 30)\n"
     ]
    }
   ],
   "source": [
    "print(ans) #ans will be a tuple"
   ]
  },
  {
   "cell_type": "code",
   "execution_count": 29,
   "id": "1b470d37",
   "metadata": {},
   "outputs": [
    {
     "name": "stdout",
     "output_type": "stream",
     "text": [
      "<class 'tuple'>\n"
     ]
    }
   ],
   "source": [
    "print(type(ans)) #<class 'tuple'>"
   ]
  },
  {
   "cell_type": "code",
   "execution_count": 30,
   "id": "b0d02885",
   "metadata": {},
   "outputs": [],
   "source": [
    "# unpacking a tuple concept\n",
    "\n",
    "x,y,z = test4(7,10)"
   ]
  },
  {
   "cell_type": "code",
   "execution_count": 31,
   "id": "eb1503dd",
   "metadata": {},
   "outputs": [
    {
     "name": "stdout",
     "output_type": "stream",
     "text": [
      "14\n",
      "20\n",
      "17\n"
     ]
    }
   ],
   "source": [
    "print(x)\n",
    "print(y)\n",
    "print(z)"
   ]
  },
  {
   "cell_type": "code",
   "execution_count": 32,
   "id": "9d3db1c8",
   "metadata": {},
   "outputs": [],
   "source": [
    "# when we dont want all the outputs of a function/\n",
    "#  we use placeholde \"_\"\n",
    "\n",
    "# if we dont want the value at z position we use \"_\" as placeholder\n",
    "#  output will not be affected \n",
    "#  but we are not creating a new variable\n",
    "x,y,_ = test4(7,10)"
   ]
  },
  {
   "cell_type": "code",
   "execution_count": 33,
   "id": "bf9cb379",
   "metadata": {},
   "outputs": [
    {
     "name": "stdout",
     "output_type": "stream",
     "text": [
      "14\n",
      "20\n",
      "17\n"
     ]
    }
   ],
   "source": [
    "print(x)\n",
    "print(y)\n",
    "print(_)"
   ]
  },
  {
   "cell_type": "code",
   "execution_count": 34,
   "id": "c853c1e2",
   "metadata": {},
   "outputs": [],
   "source": [
    "_,_,_ = test4(7,10) #not recommended to use like this\n",
    "# python will get confused "
   ]
  },
  {
   "cell_type": "code",
   "execution_count": 35,
   "id": "84f5a04c",
   "metadata": {},
   "outputs": [
    {
     "name": "stdout",
     "output_type": "stream",
     "text": [
      "17\n",
      "17\n",
      "17\n"
     ]
    }
   ],
   "source": [
    "print(_)\n",
    "print(_)\n",
    "print(_)"
   ]
  },
  {
   "cell_type": "markdown",
   "id": "f4b062e3",
   "metadata": {},
   "source": [
    "# List as an argument of a function"
   ]
  },
  {
   "cell_type": "code",
   "execution_count": 150,
   "id": "061ff182",
   "metadata": {},
   "outputs": [],
   "source": [
    "# we can pass LIST as function argument"
   ]
  },
  {
   "cell_type": "code",
   "execution_count": 36,
   "id": "89da43e9",
   "metadata": {},
   "outputs": [],
   "source": [
    "def one(a):\n",
    "    return a*2"
   ]
  },
  {
   "cell_type": "code",
   "execution_count": 37,
   "id": "09211b9a",
   "metadata": {},
   "outputs": [],
   "source": [
    "ans = one([1,2,3,4,5])"
   ]
  },
  {
   "cell_type": "code",
   "execution_count": 38,
   "id": "36a4b52e",
   "metadata": {},
   "outputs": [
    {
     "name": "stdout",
     "output_type": "stream",
     "text": [
      "[1, 2, 3, 4, 5, 1, 2, 3, 4, 5]\n"
     ]
    }
   ],
   "source": [
    "print(ans)"
   ]
  },
  {
   "cell_type": "code",
   "execution_count": 39,
   "id": "0d57a714",
   "metadata": {},
   "outputs": [
    {
     "name": "stdout",
     "output_type": "stream",
     "text": [
      "<class 'list'>\n"
     ]
    }
   ],
   "source": [
    "print(type(ans))"
   ]
  },
  {
   "cell_type": "code",
   "execution_count": 40,
   "id": "aa3ec04c",
   "metadata": {},
   "outputs": [
    {
     "name": "stdout",
     "output_type": "stream",
     "text": [
      "1\n"
     ]
    }
   ],
   "source": [
    "# we can access the items in the list \"ans\"\n",
    "# using indexing\n",
    "print(ans[0])"
   ]
  },
  {
   "cell_type": "code",
   "execution_count": 41,
   "id": "f946474d",
   "metadata": {},
   "outputs": [],
   "source": [
    "# returning multiple values"
   ]
  },
  {
   "cell_type": "code",
   "execution_count": 42,
   "id": "b87f10ec",
   "metadata": {},
   "outputs": [],
   "source": [
    "def one(a):\n",
    "    return a*2 ,a"
   ]
  },
  {
   "cell_type": "code",
   "execution_count": 43,
   "id": "653473d9",
   "metadata": {},
   "outputs": [],
   "source": [
    "ans = one([1,2,3,4,5])"
   ]
  },
  {
   "cell_type": "code",
   "execution_count": 44,
   "id": "160400cb",
   "metadata": {},
   "outputs": [
    {
     "name": "stdout",
     "output_type": "stream",
     "text": [
      "([1, 2, 3, 4, 5, 1, 2, 3, 4, 5], [1, 2, 3, 4, 5])\n"
     ]
    }
   ],
   "source": [
    "print(ans)"
   ]
  },
  {
   "cell_type": "code",
   "execution_count": 45,
   "id": "08b8fc4f",
   "metadata": {},
   "outputs": [],
   "source": [
    "x ,y = ans # accessing individual values"
   ]
  },
  {
   "cell_type": "code",
   "execution_count": 46,
   "id": "fc13f67c",
   "metadata": {},
   "outputs": [
    {
     "name": "stdout",
     "output_type": "stream",
     "text": [
      "[1, 2, 3, 4, 5, 1, 2, 3, 4, 5]\n"
     ]
    }
   ],
   "source": [
    "print(x)"
   ]
  },
  {
   "cell_type": "code",
   "execution_count": 47,
   "id": "29d5d2f9",
   "metadata": {},
   "outputs": [
    {
     "name": "stdout",
     "output_type": "stream",
     "text": [
      "[1, 2, 3, 4, 5]\n"
     ]
    }
   ],
   "source": [
    "print(y)"
   ]
  },
  {
   "cell_type": "code",
   "execution_count": 2,
   "id": "376e3fb1",
   "metadata": {},
   "outputs": [],
   "source": [
    "list_num = [1,2,3,4,5,6]\n",
    "\n",
    "# def func3(x):\n",
    "#     w = []\n",
    "#     for i in range(10):\n",
    "#         w = w.append(5)\n",
    "#     print(w)\n",
    "\n",
    "# ans  = func3(list_num)\n",
    "# print(ans)\n",
    "# print(type(ans))\n",
    "\n",
    "\n",
    "\n",
    "# print(type(ans))\n",
    "# func3(list_num)"
   ]
  },
  {
   "cell_type": "code",
   "execution_count": 4,
   "id": "b61a4f70",
   "metadata": {},
   "outputs": [],
   "source": [
    "def fun5(x):\n",
    "    return 2*x"
   ]
  },
  {
   "cell_type": "code",
   "execution_count": 5,
   "id": "bba3d31a",
   "metadata": {},
   "outputs": [],
   "source": [
    "a = fun5(list_num)"
   ]
  },
  {
   "cell_type": "code",
   "execution_count": 6,
   "id": "7cd20c85",
   "metadata": {},
   "outputs": [
    {
     "name": "stdout",
     "output_type": "stream",
     "text": [
      "[1, 2, 3, 4, 5, 6, 1, 2, 3, 4, 5, 6]\n"
     ]
    }
   ],
   "source": [
    "print(a)"
   ]
  },
  {
   "cell_type": "code",
   "execution_count": 9,
   "id": "ca26bd9c",
   "metadata": {},
   "outputs": [
    {
     "name": "stdout",
     "output_type": "stream",
     "text": [
      "<class 'list'>\n"
     ]
    }
   ],
   "source": [
    "print(type(a))"
   ]
  },
  {
   "cell_type": "code",
   "execution_count": 10,
   "id": "d49e5a27",
   "metadata": {},
   "outputs": [
    {
     "name": "stdout",
     "output_type": "stream",
     "text": [
      "1\n",
      "2\n",
      "3\n",
      "4\n",
      "5\n",
      "6\n",
      "1\n",
      "2\n",
      "3\n",
      "4\n",
      "5\n",
      "6\n"
     ]
    }
   ],
   "source": [
    "for i in range(len(a)):\n",
    "    print(a[i])"
   ]
  },
  {
   "cell_type": "code",
   "execution_count": 12,
   "id": "41ff5cf3",
   "metadata": {},
   "outputs": [],
   "source": [
    "def fun6(a):\n",
    "    for i in range(len(a)):\n",
    "        print(a[i])"
   ]
  },
  {
   "cell_type": "code",
   "execution_count": 13,
   "id": "b5ea5f6d",
   "metadata": {},
   "outputs": [
    {
     "name": "stdout",
     "output_type": "stream",
     "text": [
      "1\n",
      "2\n",
      "3\n",
      "4\n",
      "5\n",
      "6\n"
     ]
    }
   ],
   "source": [
    "z = fun6(list_num)"
   ]
  },
  {
   "cell_type": "code",
   "execution_count": 21,
   "id": "da0a1133",
   "metadata": {
    "scrolled": true
   },
   "outputs": [],
   "source": [
    "def fun7(a):\n",
    "    z = []\n",
    "    for i in range(len(a)):\n",
    "        z.append(2*a[i])\n",
    "    return z"
   ]
  },
  {
   "cell_type": "code",
   "execution_count": 22,
   "id": "b638c390",
   "metadata": {},
   "outputs": [],
   "source": [
    "ans = fun7(list_num)"
   ]
  },
  {
   "cell_type": "code",
   "execution_count": 23,
   "id": "d5d79471",
   "metadata": {},
   "outputs": [
    {
     "name": "stdout",
     "output_type": "stream",
     "text": [
      "[2, 4, 6, 8, 10, 12]\n"
     ]
    }
   ],
   "source": [
    "print(ans)"
   ]
  },
  {
   "cell_type": "code",
   "execution_count": null,
   "id": "b872c288",
   "metadata": {},
   "outputs": [],
   "source": []
  },
  {
   "cell_type": "markdown",
   "id": "88545c7a",
   "metadata": {},
   "source": [
    "# default argument values"
   ]
  },
  {
   "cell_type": "code",
   "execution_count": 151,
   "id": "82569005",
   "metadata": {},
   "outputs": [],
   "source": [
    "# we can pass default arguments if user has not given any value\n",
    "#  there is an order in which default values are defined and not randomly"
   ]
  },
  {
   "cell_type": "code",
   "execution_count": 48,
   "id": "e3690576",
   "metadata": {},
   "outputs": [],
   "source": [
    "def two(a,b):\n",
    "    return a + b"
   ]
  },
  {
   "cell_type": "code",
   "execution_count": 49,
   "id": "340e130b",
   "metadata": {},
   "outputs": [],
   "source": [
    "ans = two(20,30)"
   ]
  },
  {
   "cell_type": "code",
   "execution_count": 50,
   "id": "963ef133",
   "metadata": {
    "scrolled": true
   },
   "outputs": [
    {
     "name": "stdout",
     "output_type": "stream",
     "text": [
      "50\n"
     ]
    }
   ],
   "source": [
    "print(ans)"
   ]
  },
  {
   "cell_type": "code",
   "execution_count": 51,
   "id": "05d8b1c7",
   "metadata": {},
   "outputs": [],
   "source": [
    "# there is order in which arguments can be placed\n",
    "# find the order ????"
   ]
  },
  {
   "cell_type": "code",
   "execution_count": 52,
   "id": "d29cef9e",
   "metadata": {},
   "outputs": [],
   "source": [
    "def two(a,b=30):\n",
    "    return a + b"
   ]
  },
  {
   "cell_type": "code",
   "execution_count": 53,
   "id": "98bf3aa5",
   "metadata": {},
   "outputs": [],
   "source": [
    "ans = two(30) #default value of b = 30 is used"
   ]
  },
  {
   "cell_type": "code",
   "execution_count": 54,
   "id": "7b780ecb",
   "metadata": {},
   "outputs": [
    {
     "name": "stdout",
     "output_type": "stream",
     "text": [
      "60\n"
     ]
    }
   ],
   "source": [
    "print(ans)"
   ]
  },
  {
   "cell_type": "code",
   "execution_count": 55,
   "id": "5c896705",
   "metadata": {},
   "outputs": [],
   "source": [
    "ans = two(30,100)"
   ]
  },
  {
   "cell_type": "code",
   "execution_count": 56,
   "id": "08b8ce0b",
   "metadata": {},
   "outputs": [
    {
     "name": "stdout",
     "output_type": "stream",
     "text": [
      "130\n"
     ]
    }
   ],
   "source": [
    "print(ans) ##default value of b is overwritten"
   ]
  },
  {
   "cell_type": "code",
   "execution_count": 57,
   "id": "e7efb743",
   "metadata": {},
   "outputs": [],
   "source": [
    "def bool1(x=True,y=False):\n",
    "    return x+y"
   ]
  },
  {
   "cell_type": "code",
   "execution_count": 58,
   "id": "2404f4f0",
   "metadata": {},
   "outputs": [
    {
     "name": "stdout",
     "output_type": "stream",
     "text": [
      "1\n"
     ]
    }
   ],
   "source": [
    "print(bool1()) # 1 +0 = 1"
   ]
  },
  {
   "cell_type": "code",
   "execution_count": 59,
   "id": "d773a739",
   "metadata": {},
   "outputs": [
    {
     "name": "stdout",
     "output_type": "stream",
     "text": [
      "0\n"
     ]
    }
   ],
   "source": [
    "print(bool1(False)) # 0 +0 = 1"
   ]
  },
  {
   "cell_type": "code",
   "execution_count": 152,
   "id": "eba07b23",
   "metadata": {},
   "outputs": [],
   "source": [
    "# will dicuss PEP8 guide after the function class is over !!!!"
   ]
  },
  {
   "cell_type": "code",
   "execution_count": 62,
   "id": "943d16e4",
   "metadata": {},
   "outputs": [],
   "source": [
    "def travel(bike =True, car =False):\n",
    "    plan_travel = bike or car\n",
    "    return bike ,car,plan_travel"
   ]
  },
  {
   "cell_type": "code",
   "execution_count": 63,
   "id": "322f1a40",
   "metadata": {},
   "outputs": [
    {
     "data": {
      "text/plain": [
       "(True, False, True)"
      ]
     },
     "execution_count": 63,
     "metadata": {},
     "output_type": "execute_result"
    }
   ],
   "source": [
    "travel()"
   ]
  },
  {
   "cell_type": "code",
   "execution_count": 64,
   "id": "720cef58",
   "metadata": {},
   "outputs": [],
   "source": [
    "# order of the variable matters while defining and calling the function"
   ]
  },
  {
   "cell_type": "code",
   "execution_count": 65,
   "id": "04681081",
   "metadata": {},
   "outputs": [
    {
     "data": {
      "text/plain": [
       "(False, False, False)"
      ]
     },
     "execution_count": 65,
     "metadata": {},
     "output_type": "execute_result"
    }
   ],
   "source": [
    "travel(False) #default vale of bike will be changed to False"
   ]
  },
  {
   "cell_type": "code",
   "execution_count": 66,
   "id": "5dce3efb",
   "metadata": {},
   "outputs": [
    {
     "data": {
      "text/plain": [
       "(True, True, True)"
      ]
     },
     "execution_count": 66,
     "metadata": {},
     "output_type": "execute_result"
    }
   ],
   "source": [
    "travel(car = True) #default vale of car will be changed to True"
   ]
  },
  {
   "cell_type": "code",
   "execution_count": 67,
   "id": "e519c5e4",
   "metadata": {},
   "outputs": [],
   "source": [
    "#keyword arguments"
   ]
  },
  {
   "cell_type": "markdown",
   "id": "7fd700e5",
   "metadata": {},
   "source": [
    "# NUMBER OF VARIABLES NOT KNOWN *args"
   ]
  },
  {
   "cell_type": "code",
   "execution_count": 153,
   "id": "2e3702d0",
   "metadata": {},
   "outputs": [],
   "source": [
    "# when we are not sure about the number of variables to be used inside a function\n",
    "# *args returns tuple"
   ]
  },
  {
   "cell_type": "code",
   "execution_count": 69,
   "id": "af046090",
   "metadata": {},
   "outputs": [],
   "source": [
    "def test1(*args): #to pass multiple arguments\n",
    "    return args\n",
    "\n",
    "\n",
    "\n"
   ]
  },
  {
   "cell_type": "code",
   "execution_count": 70,
   "id": "1493e078",
   "metadata": {},
   "outputs": [
    {
     "name": "stdout",
     "output_type": "stream",
     "text": [
      "(11, 22, 33, False, [77, 88, 99], True)\n"
     ]
    }
   ],
   "source": [
    "a = test1(11,22,33,False, [77,88,99], True)\n",
    "print(a)"
   ]
  },
  {
   "cell_type": "code",
   "execution_count": 154,
   "id": "79bf336b",
   "metadata": {},
   "outputs": [],
   "source": [
    "# INdustry practice is to use *args\n",
    "# but we can use any other variable also but is not recommended\n",
    "\n",
    "def test2(*p): #to pass multiple arguments\n",
    "    return p"
   ]
  },
  {
   "cell_type": "code",
   "execution_count": 72,
   "id": "63ff3414",
   "metadata": {},
   "outputs": [
    {
     "name": "stdout",
     "output_type": "stream",
     "text": [
      "(11, 22, 33, True)\n"
     ]
    }
   ],
   "source": [
    "z = test2(11,22,33, True)\n",
    "print(z)"
   ]
  },
  {
   "cell_type": "code",
   "execution_count": 73,
   "id": "9e96309f",
   "metadata": {},
   "outputs": [
    {
     "name": "stdout",
     "output_type": "stream",
     "text": [
      "[22, 33, 44, 'RAHUL']\n"
     ]
    }
   ],
   "source": [
    "# fun to concatenate variable number of list/arg\n",
    "def concat(*args):\n",
    "    ans =[]\n",
    "    for i in args:\n",
    "        ans.append(i)\n",
    "    return ans\n",
    "        \n",
    "c = concat(22,33,44,\"RAHUL\")\n",
    "print(c)"
   ]
  },
  {
   "cell_type": "code",
   "execution_count": 74,
   "id": "a4601ede",
   "metadata": {},
   "outputs": [],
   "source": [
    "# fun to concatenate variable number of list/arg\n",
    "def concat(*args):\n",
    "    ans =[]\n",
    "    for i in args:\n",
    "        if type(i) == list:\n",
    "            ans = ans + i #only work for list\n",
    "    return ans"
   ]
  },
  {
   "cell_type": "code",
   "execution_count": 75,
   "id": "b770a9a9",
   "metadata": {},
   "outputs": [
    {
     "name": "stdout",
     "output_type": "stream",
     "text": [
      "[22, 33, 44, 'RAHUL', 22, 33, 44, 'RAHUL']\n"
     ]
    }
   ],
   "source": [
    "z = concat([22,33,44,\"RAHUL\"],[22,33,44,\"RAHUL\"])\n",
    "print(z)"
   ]
  },
  {
   "cell_type": "code",
   "execution_count": 28,
   "id": "2b8309d5",
   "metadata": {},
   "outputs": [],
   "source": [
    "def func4(*args):\n",
    "    print(*args)"
   ]
  },
  {
   "cell_type": "code",
   "execution_count": 29,
   "id": "72c31c54",
   "metadata": {},
   "outputs": [
    {
     "name": "stdout",
     "output_type": "stream",
     "text": [
      "1 2 3 4 5\n"
     ]
    }
   ],
   "source": [
    "func4(1,2,3,4,5)"
   ]
  },
  {
   "cell_type": "code",
   "execution_count": 30,
   "id": "95bb62e5",
   "metadata": {},
   "outputs": [
    {
     "name": "stdout",
     "output_type": "stream",
     "text": [
      "[11, 22, 33] [23, 24, 25]\n"
     ]
    }
   ],
   "source": [
    "func4([11,22,33], [23,24,25])"
   ]
  },
  {
   "cell_type": "markdown",
   "id": "df34ad8b",
   "metadata": {},
   "source": [
    "#  **kwargs"
   ]
  },
  {
   "cell_type": "code",
   "execution_count": 76,
   "id": "5be8528b",
   "metadata": {},
   "outputs": [],
   "source": [
    "#  *kwargs key=value pair as arguments\n",
    "# used in dict craetion ???"
   ]
  },
  {
   "cell_type": "code",
   "execution_count": 77,
   "id": "b86b4889",
   "metadata": {},
   "outputs": [],
   "source": [
    "def one(**kwargs):\n",
    "    return kwargs"
   ]
  },
  {
   "cell_type": "code",
   "execution_count": 78,
   "id": "6f435675",
   "metadata": {},
   "outputs": [
    {
     "name": "stdout",
     "output_type": "stream",
     "text": [
      "{'a': 1, 'b': 2, 'c': 3}\n"
     ]
    }
   ],
   "source": [
    "p = one(a=1,b=2,c=3)\n",
    "print(p) #returns in a dict format"
   ]
  },
  {
   "cell_type": "code",
   "execution_count": 79,
   "id": "804473e7",
   "metadata": {},
   "outputs": [],
   "source": [
    "def test(**kwargs):\n",
    "    print(\"Good\")\n",
    "    print(kwargs.items())"
   ]
  },
  {
   "cell_type": "code",
   "execution_count": 80,
   "id": "1da2e924",
   "metadata": {},
   "outputs": [
    {
     "name": "stdout",
     "output_type": "stream",
     "text": [
      "Good\n",
      "dict_items([('Institute', 'Minskole'), ('location', 'Pune'), ('Pin', 400001)])\n"
     ]
    }
   ],
   "source": [
    "test(Institute = \"Minskole\" , location = \"Pune\" , Pin =  400001)"
   ]
  },
  {
   "cell_type": "markdown",
   "id": "7666b900",
   "metadata": {},
   "source": [
    "# Lambda Function"
   ]
  },
  {
   "cell_type": "code",
   "execution_count": 81,
   "id": "c6905f40",
   "metadata": {},
   "outputs": [],
   "source": [
    "# nameless\n",
    "# anonymous function"
   ]
  },
  {
   "cell_type": "code",
   "execution_count": 82,
   "id": "e64d9dbe",
   "metadata": {},
   "outputs": [],
   "source": [
    "def student(name,domain):\n",
    "    concate = name+domain\n",
    "    return name, domain , concate\n"
   ]
  },
  {
   "cell_type": "code",
   "execution_count": 83,
   "id": "0ecbaa36",
   "metadata": {},
   "outputs": [
    {
     "data": {
      "text/plain": [
       "('Rahul', '@gmail.com', 'Rahul@gmail.com')"
      ]
     },
     "execution_count": 83,
     "metadata": {},
     "output_type": "execute_result"
    }
   ],
   "source": [
    "\n",
    "student(\"Rahul\",\"@gmail.com\")"
   ]
  },
  {
   "cell_type": "code",
   "execution_count": 84,
   "id": "af8706b3",
   "metadata": {},
   "outputs": [],
   "source": [
    "a = 50\n",
    "b = 150\n",
    "def test(x,y):\n",
    "    return x+y\n"
   ]
  },
  {
   "cell_type": "code",
   "execution_count": 85,
   "id": "8d028ecf",
   "metadata": {},
   "outputs": [
    {
     "data": {
      "text/plain": [
       "200"
      ]
     },
     "execution_count": 85,
     "metadata": {},
     "output_type": "execute_result"
    }
   ],
   "source": [
    "test(a,b)"
   ]
  },
  {
   "cell_type": "code",
   "execution_count": 86,
   "id": "eebddf52",
   "metadata": {},
   "outputs": [],
   "source": [
    "m = lambda x,y : x+y"
   ]
  },
  {
   "cell_type": "code",
   "execution_count": 87,
   "id": "cd0eb382",
   "metadata": {},
   "outputs": [
    {
     "name": "stdout",
     "output_type": "stream",
     "text": [
      "200\n"
     ]
    }
   ],
   "source": [
    "print(m(a,b))"
   ]
  },
  {
   "cell_type": "code",
   "execution_count": 88,
   "id": "bbb55d08",
   "metadata": {},
   "outputs": [],
   "source": [
    "# eg:\n",
    "\n",
    "\n",
    "z = lambda x,y : print(x+y)"
   ]
  },
  {
   "cell_type": "code",
   "execution_count": 89,
   "id": "e4738eab",
   "metadata": {},
   "outputs": [
    {
     "name": "stdout",
     "output_type": "stream",
     "text": [
      "109\n"
     ]
    }
   ],
   "source": [
    "z(100,9)"
   ]
  },
  {
   "cell_type": "markdown",
   "id": "b55bbf84",
   "metadata": {},
   "source": [
    "# SCOPE OF A VARIABLE"
   ]
  },
  {
   "cell_type": "code",
   "execution_count": 90,
   "id": "60645b6f",
   "metadata": {},
   "outputs": [],
   "source": [
    "# SCOPE A VARIABLE\n",
    "# local\n",
    "# global"
   ]
  },
  {
   "cell_type": "code",
   "execution_count": 182,
   "id": "a34dfcd5",
   "metadata": {},
   "outputs": [
    {
     "name": "stdout",
     "output_type": "stream",
     "text": [
      "35\n",
      "30\n",
      "35\n"
     ]
    }
   ],
   "source": [
    "a = 35 # scope = GLOBAL\n",
    "\n",
    "def multiply():\n",
    "    a  = 5 * 6 # scope = LOCAL\n",
    "    print(a)\n",
    "\n",
    "print(a) # 1st 35\n",
    "multiply() # 2nd  30 # not overwrite\n",
    "print(a) #  3rd  35\n"
   ]
  },
  {
   "cell_type": "code",
   "execution_count": 91,
   "id": "4496a1df",
   "metadata": {},
   "outputs": [],
   "source": [
    "r = \"Sunday\"\n",
    "def func1(a,b):\n",
    "    r = a + b\n",
    "    print(r)"
   ]
  },
  {
   "cell_type": "code",
   "execution_count": 183,
   "id": "26fcf1e0",
   "metadata": {},
   "outputs": [
    {
     "name": "stdout",
     "output_type": "stream",
     "text": [
      "30\n",
      "Sunday\n"
     ]
    }
   ],
   "source": [
    "func1(10,20)\n",
    "print(r)"
   ]
  },
  {
   "cell_type": "code",
   "execution_count": 184,
   "id": "6caea104",
   "metadata": {},
   "outputs": [],
   "source": [
    "# how to access a global variable"
   ]
  },
  {
   "cell_type": "code",
   "execution_count": 189,
   "id": "56118f59",
   "metadata": {},
   "outputs": [
    {
     "name": "stdout",
     "output_type": "stream",
     "text": [
      "This is outside the fun , value of a :10\n",
      "*********Global  Scope******\n",
      "10000\n",
      "1527780347216\n",
      "100\n",
      "1527780347216\n"
     ]
    }
   ],
   "source": [
    "\n",
    "\n",
    "a = 10\n",
    "print(\"This is outside the fun , value of a :{}\".format(a))\n",
    "\n",
    "print(\"*********Global  Scope******\")\n",
    "def mul():\n",
    "    global a\n",
    "    a  = 100 \n",
    "    z = a * a\n",
    "    print(z)\n",
    "    print(id(a))\n",
    "\n",
    "mul()\n",
    "print(a)\n",
    "print(id(a))"
   ]
  },
  {
   "cell_type": "code",
   "execution_count": 191,
   "id": "58c0cdd5",
   "metadata": {},
   "outputs": [],
   "source": [
    "# use of global keyword is bad practise in Python !!!.\n",
    "# this will create confusion"
   ]
  },
  {
   "cell_type": "markdown",
   "id": "923e026e",
   "metadata": {},
   "source": [
    "# Doc string"
   ]
  },
  {
   "cell_type": "code",
   "execution_count": 93,
   "id": "1e3fd8e8",
   "metadata": {},
   "outputs": [],
   "source": [
    "def func2():\n",
    "    '''\n",
    "    This is a Palind\n",
    "    '''\n",
    "    print(\"This is a Palind\")"
   ]
  },
  {
   "cell_type": "code",
   "execution_count": 200,
   "id": "96bd7002",
   "metadata": {},
   "outputs": [
    {
     "name": "stdout",
     "output_type": "stream",
     "text": [
      "Help on function func2 in module __main__:\n",
      "\n",
      "func2()\n",
      "    This is a Palind\n",
      "\n"
     ]
    }
   ],
   "source": [
    "# # How to use help() for getting help\n",
    "\n",
    "help(func2)"
   ]
  },
  {
   "cell_type": "code",
   "execution_count": 199,
   "id": "7b533b5e",
   "metadata": {},
   "outputs": [],
   "source": [
    "# How to use dir() for getting help\n",
    "# dir(func2)  ?????"
   ]
  },
  {
   "cell_type": "code",
   "execution_count": 96,
   "id": "b76b25e1",
   "metadata": {},
   "outputs": [
    {
     "name": "stdout",
     "output_type": "stream",
     "text": [
      "\n",
      "    This is a Palind\n",
      "    \n"
     ]
    }
   ],
   "source": [
    "print(func2.__doc__)"
   ]
  },
  {
   "cell_type": "code",
   "execution_count": null,
   "id": "6c66c439",
   "metadata": {},
   "outputs": [],
   "source": []
  },
  {
   "cell_type": "code",
   "execution_count": 198,
   "id": "146e6146",
   "metadata": {
    "scrolled": true
   },
   "outputs": [
    {
     "name": "stdout",
     "output_type": "stream",
     "text": [
      "***************Docstring **********\n",
      "\n",
      "    This is for multiplying two numbers\n",
      "    Input as two integers \n",
      "    output as complex conversion \n",
      "    NOTE: Dont use three numbers\n",
      "    \n"
     ]
    }
   ],
   "source": [
    "print(\"***************Docstring **********\")\n",
    "def multiply1(x,y):\n",
    "    '''\n",
    "    This is for multiplying two numbers\n",
    "    Input as two integers \n",
    "    output as complex conversion \n",
    "    NOTE: Dont use three numbers\n",
    "    '''\n",
    "\n",
    "    z = x*y\n",
    "    # print(z)\n",
    "    return z\n",
    "\n",
    "# ans  = multiply1(5,8)\n",
    "# print(ans)\n",
    "\n",
    "print(multiply1.__doc__) # checking for user defined"
   ]
  },
  {
   "cell_type": "code",
   "execution_count": 196,
   "id": "a43000c6",
   "metadata": {},
   "outputs": [
    {
     "name": "stdout",
     "output_type": "stream",
     "text": [
      "print(value, ..., sep=' ', end='\\n', file=sys.stdout, flush=False)\n",
      "\n",
      "Prints the values to a stream, or to sys.stdout by default.\n",
      "Optional keyword arguments:\n",
      "file:  a file-like object (stream); defaults to the current sys.stdout.\n",
      "sep:   string inserted between values, default a space.\n",
      "end:   string appended after the last value, default a newline.\n",
      "flush: whether to forcibly flush the stream.\n"
     ]
    }
   ],
   "source": [
    "\n",
    "print(print.__doc__) # for the inbuilt using \n",
    "# double underscore =  dunder doc"
   ]
  },
  {
   "cell_type": "code",
   "execution_count": 194,
   "id": "07396478",
   "metadata": {},
   "outputs": [
    {
     "name": "stdout",
     "output_type": "stream",
     "text": [
      "Return the number of items in a container.\n"
     ]
    }
   ],
   "source": [
    "print(len.__doc__)"
   ]
  },
  {
   "cell_type": "code",
   "execution_count": 195,
   "id": "cc7fb165",
   "metadata": {},
   "outputs": [
    {
     "name": "stdout",
     "output_type": "stream",
     "text": [
      "range(stop) -> range object\n",
      "range(start, stop[, step]) -> range object\n",
      "\n",
      "Return an object that produces a sequence of integers from start (inclusive)\n",
      "to stop (exclusive) by step.  range(i, j) produces i, i+1, i+2, ..., j-1.\n",
      "start defaults to 0, and stop is omitted!  range(4) produces 0, 1, 2, 3.\n",
      "These are exactly the valid indices for a list of 4 elements.\n",
      "When step is given, it specifies the increment (or decrement).\n"
     ]
    }
   ],
   "source": [
    "print(range.__doc__)"
   ]
  },
  {
   "cell_type": "code",
   "execution_count": null,
   "id": "21635ce0",
   "metadata": {},
   "outputs": [],
   "source": []
  },
  {
   "cell_type": "markdown",
   "id": "20b89bad",
   "metadata": {},
   "source": [
    "# ITERATOR AND GENERATOR"
   ]
  },
  {
   "cell_type": "code",
   "execution_count": 97,
   "id": "5da13079",
   "metadata": {},
   "outputs": [],
   "source": [
    "# a = 10\n",
    "# for i in a:\n",
    "#     print(i) #'int' object is not iterable"
   ]
  },
  {
   "cell_type": "code",
   "execution_count": 98,
   "id": "46d015e6",
   "metadata": {},
   "outputs": [
    {
     "name": "stdout",
     "output_type": "stream",
     "text": [
      "M\n",
      "I\n",
      "N\n",
      "S\n",
      "K\n",
      "O\n",
      "L\n",
      "E\n"
     ]
    }
   ],
   "source": [
    "name = 'MINSKOLE'\n",
    "for i in name:\n",
    "    print(i)"
   ]
  },
  {
   "cell_type": "code",
   "execution_count": 99,
   "id": "79d774b1",
   "metadata": {},
   "outputs": [],
   "source": [
    "#without using for loop\n",
    "#  iterable can be converted into iterator\n",
    "# int is not iterable"
   ]
  },
  {
   "cell_type": "code",
   "execution_count": 100,
   "id": "29b79965",
   "metadata": {},
   "outputs": [],
   "source": [
    "x = iter(name)"
   ]
  },
  {
   "cell_type": "code",
   "execution_count": 101,
   "id": "084c501c",
   "metadata": {},
   "outputs": [
    {
     "name": "stdout",
     "output_type": "stream",
     "text": [
      "M\n"
     ]
    }
   ],
   "source": [
    "print(next(x))"
   ]
  },
  {
   "cell_type": "code",
   "execution_count": 102,
   "id": "fbbafb51",
   "metadata": {
    "scrolled": true
   },
   "outputs": [
    {
     "name": "stdout",
     "output_type": "stream",
     "text": [
      "I\n",
      "N\n",
      "S\n",
      "K\n"
     ]
    }
   ],
   "source": [
    "print(next(x))\n",
    "print(next(x))\n",
    "print(next(x))\n",
    "print(next(x))"
   ]
  },
  {
   "cell_type": "code",
   "execution_count": 103,
   "id": "46b6f3b0",
   "metadata": {},
   "outputs": [],
   "source": [
    "# num1= 55555\n",
    "# z = iter(num1) #'int' object is not iterable\n",
    "# nect(z)\n",
    "\n",
    "# integers cant be iterated"
   ]
  },
  {
   "cell_type": "code",
   "execution_count": 104,
   "id": "8bd89275",
   "metadata": {},
   "outputs": [
    {
     "name": "stdout",
     "output_type": "stream",
     "text": [
      "A\n",
      "B\n"
     ]
    }
   ],
   "source": [
    "z = 'AB'\n",
    "w = iter(z)\n",
    "print(next(w))\n",
    "print(next(w))"
   ]
  },
  {
   "cell_type": "code",
   "execution_count": 105,
   "id": "f3b66a72",
   "metadata": {},
   "outputs": [],
   "source": [
    "# print(next(w)) #StopIteration error"
   ]
  },
  {
   "cell_type": "code",
   "execution_count": 106,
   "id": "560d3cf1",
   "metadata": {},
   "outputs": [
    {
     "name": "stdout",
     "output_type": "stream",
     "text": [
      "1\n",
      "11\n",
      "111\n"
     ]
    }
   ],
   "source": [
    "list_one  = [1,11,111,1111]\n",
    "l= iter(list_one)\n",
    "print(next(l))\n",
    "print(next(l))\n",
    "print(next(l))"
   ]
  },
  {
   "cell_type": "markdown",
   "id": "92eb8c6a",
   "metadata": {},
   "source": [
    "# GENERATOR"
   ]
  },
  {
   "cell_type": "code",
   "execution_count": 157,
   "id": "6c7bafa9",
   "metadata": {},
   "outputs": [],
   "source": [
    "# why to use a generator when we hav a for loop???\n",
    "# is a generator better than iterator"
   ]
  },
  {
   "cell_type": "code",
   "execution_count": 107,
   "id": "1b0cd434",
   "metadata": {},
   "outputs": [],
   "source": [
    "def two(n):\n",
    "    l = []\n",
    "    for i in range(n):\n",
    "        l.append(i**3)\n",
    "    return l"
   ]
  },
  {
   "cell_type": "code",
   "execution_count": 108,
   "id": "3c4dd51f",
   "metadata": {},
   "outputs": [
    {
     "data": {
      "text/plain": [
       "[0,\n",
       " 1,\n",
       " 8,\n",
       " 27,\n",
       " 64,\n",
       " 125,\n",
       " 216,\n",
       " 343,\n",
       " 512,\n",
       " 729,\n",
       " 1000,\n",
       " 1331,\n",
       " 1728,\n",
       " 2197,\n",
       " 2744,\n",
       " 3375,\n",
       " 4096,\n",
       " 4913,\n",
       " 5832,\n",
       " 6859,\n",
       " 8000,\n",
       " 9261,\n",
       " 10648,\n",
       " 12167,\n",
       " 13824,\n",
       " 15625,\n",
       " 17576,\n",
       " 19683,\n",
       " 21952,\n",
       " 24389,\n",
       " 27000,\n",
       " 29791,\n",
       " 32768,\n",
       " 35937,\n",
       " 39304,\n",
       " 42875,\n",
       " 46656,\n",
       " 50653,\n",
       " 54872,\n",
       " 59319,\n",
       " 64000,\n",
       " 68921,\n",
       " 74088,\n",
       " 79507,\n",
       " 85184,\n",
       " 91125,\n",
       " 97336,\n",
       " 103823,\n",
       " 110592,\n",
       " 117649,\n",
       " 125000,\n",
       " 132651,\n",
       " 140608,\n",
       " 148877,\n",
       " 157464,\n",
       " 166375,\n",
       " 175616,\n",
       " 185193,\n",
       " 195112,\n",
       " 205379,\n",
       " 216000,\n",
       " 226981,\n",
       " 238328,\n",
       " 250047,\n",
       " 262144,\n",
       " 274625,\n",
       " 287496,\n",
       " 300763,\n",
       " 314432,\n",
       " 328509,\n",
       " 343000,\n",
       " 357911,\n",
       " 373248,\n",
       " 389017,\n",
       " 405224,\n",
       " 421875,\n",
       " 438976,\n",
       " 456533,\n",
       " 474552,\n",
       " 493039,\n",
       " 512000,\n",
       " 531441,\n",
       " 551368,\n",
       " 571787,\n",
       " 592704,\n",
       " 614125,\n",
       " 636056,\n",
       " 658503,\n",
       " 681472,\n",
       " 704969,\n",
       " 729000,\n",
       " 753571,\n",
       " 778688,\n",
       " 804357,\n",
       " 830584,\n",
       " 857375,\n",
       " 884736,\n",
       " 912673,\n",
       " 941192,\n",
       " 970299,\n",
       " 1000000,\n",
       " 1030301,\n",
       " 1061208,\n",
       " 1092727,\n",
       " 1124864,\n",
       " 1157625,\n",
       " 1191016,\n",
       " 1225043,\n",
       " 1259712,\n",
       " 1295029,\n",
       " 1331000,\n",
       " 1367631,\n",
       " 1404928,\n",
       " 1442897,\n",
       " 1481544,\n",
       " 1520875,\n",
       " 1560896,\n",
       " 1601613,\n",
       " 1643032,\n",
       " 1685159,\n",
       " 1728000,\n",
       " 1771561,\n",
       " 1815848,\n",
       " 1860867,\n",
       " 1906624,\n",
       " 1953125,\n",
       " 2000376,\n",
       " 2048383,\n",
       " 2097152,\n",
       " 2146689,\n",
       " 2197000,\n",
       " 2248091,\n",
       " 2299968,\n",
       " 2352637,\n",
       " 2406104,\n",
       " 2460375,\n",
       " 2515456,\n",
       " 2571353,\n",
       " 2628072,\n",
       " 2685619,\n",
       " 2744000,\n",
       " 2803221,\n",
       " 2863288,\n",
       " 2924207,\n",
       " 2985984,\n",
       " 3048625,\n",
       " 3112136,\n",
       " 3176523,\n",
       " 3241792,\n",
       " 3307949,\n",
       " 3375000,\n",
       " 3442951,\n",
       " 3511808,\n",
       " 3581577,\n",
       " 3652264,\n",
       " 3723875,\n",
       " 3796416,\n",
       " 3869893,\n",
       " 3944312,\n",
       " 4019679,\n",
       " 4096000,\n",
       " 4173281,\n",
       " 4251528,\n",
       " 4330747,\n",
       " 4410944,\n",
       " 4492125,\n",
       " 4574296,\n",
       " 4657463,\n",
       " 4741632,\n",
       " 4826809,\n",
       " 4913000,\n",
       " 5000211,\n",
       " 5088448,\n",
       " 5177717,\n",
       " 5268024,\n",
       " 5359375,\n",
       " 5451776,\n",
       " 5545233,\n",
       " 5639752,\n",
       " 5735339,\n",
       " 5832000,\n",
       " 5929741,\n",
       " 6028568,\n",
       " 6128487,\n",
       " 6229504,\n",
       " 6331625,\n",
       " 6434856,\n",
       " 6539203,\n",
       " 6644672,\n",
       " 6751269,\n",
       " 6859000,\n",
       " 6967871,\n",
       " 7077888,\n",
       " 7189057,\n",
       " 7301384,\n",
       " 7414875,\n",
       " 7529536,\n",
       " 7645373,\n",
       " 7762392,\n",
       " 7880599,\n",
       " 8000000,\n",
       " 8120601,\n",
       " 8242408,\n",
       " 8365427,\n",
       " 8489664,\n",
       " 8615125,\n",
       " 8741816,\n",
       " 8869743,\n",
       " 8998912,\n",
       " 9129329,\n",
       " 9261000,\n",
       " 9393931,\n",
       " 9528128,\n",
       " 9663597,\n",
       " 9800344,\n",
       " 9938375,\n",
       " 10077696,\n",
       " 10218313,\n",
       " 10360232,\n",
       " 10503459,\n",
       " 10648000,\n",
       " 10793861,\n",
       " 10941048,\n",
       " 11089567,\n",
       " 11239424,\n",
       " 11390625,\n",
       " 11543176,\n",
       " 11697083,\n",
       " 11852352,\n",
       " 12008989,\n",
       " 12167000,\n",
       " 12326391,\n",
       " 12487168,\n",
       " 12649337,\n",
       " 12812904,\n",
       " 12977875,\n",
       " 13144256,\n",
       " 13312053,\n",
       " 13481272,\n",
       " 13651919,\n",
       " 13824000,\n",
       " 13997521,\n",
       " 14172488,\n",
       " 14348907,\n",
       " 14526784,\n",
       " 14706125,\n",
       " 14886936,\n",
       " 15069223,\n",
       " 15252992,\n",
       " 15438249,\n",
       " 15625000,\n",
       " 15813251,\n",
       " 16003008,\n",
       " 16194277,\n",
       " 16387064,\n",
       " 16581375,\n",
       " 16777216,\n",
       " 16974593,\n",
       " 17173512,\n",
       " 17373979,\n",
       " 17576000,\n",
       " 17779581,\n",
       " 17984728,\n",
       " 18191447,\n",
       " 18399744,\n",
       " 18609625,\n",
       " 18821096,\n",
       " 19034163,\n",
       " 19248832,\n",
       " 19465109,\n",
       " 19683000,\n",
       " 19902511,\n",
       " 20123648,\n",
       " 20346417,\n",
       " 20570824,\n",
       " 20796875,\n",
       " 21024576,\n",
       " 21253933,\n",
       " 21484952,\n",
       " 21717639,\n",
       " 21952000,\n",
       " 22188041,\n",
       " 22425768,\n",
       " 22665187,\n",
       " 22906304,\n",
       " 23149125,\n",
       " 23393656,\n",
       " 23639903,\n",
       " 23887872,\n",
       " 24137569,\n",
       " 24389000,\n",
       " 24642171,\n",
       " 24897088,\n",
       " 25153757,\n",
       " 25412184,\n",
       " 25672375,\n",
       " 25934336,\n",
       " 26198073,\n",
       " 26463592,\n",
       " 26730899,\n",
       " 27000000,\n",
       " 27270901,\n",
       " 27543608,\n",
       " 27818127,\n",
       " 28094464,\n",
       " 28372625,\n",
       " 28652616,\n",
       " 28934443,\n",
       " 29218112,\n",
       " 29503629,\n",
       " 29791000,\n",
       " 30080231,\n",
       " 30371328,\n",
       " 30664297,\n",
       " 30959144,\n",
       " 31255875,\n",
       " 31554496,\n",
       " 31855013,\n",
       " 32157432,\n",
       " 32461759,\n",
       " 32768000,\n",
       " 33076161,\n",
       " 33386248,\n",
       " 33698267,\n",
       " 34012224,\n",
       " 34328125,\n",
       " 34645976,\n",
       " 34965783,\n",
       " 35287552,\n",
       " 35611289,\n",
       " 35937000,\n",
       " 36264691,\n",
       " 36594368,\n",
       " 36926037,\n",
       " 37259704,\n",
       " 37595375,\n",
       " 37933056,\n",
       " 38272753,\n",
       " 38614472,\n",
       " 38958219,\n",
       " 39304000,\n",
       " 39651821,\n",
       " 40001688,\n",
       " 40353607,\n",
       " 40707584,\n",
       " 41063625,\n",
       " 41421736,\n",
       " 41781923,\n",
       " 42144192,\n",
       " 42508549,\n",
       " 42875000,\n",
       " 43243551,\n",
       " 43614208,\n",
       " 43986977,\n",
       " 44361864,\n",
       " 44738875,\n",
       " 45118016,\n",
       " 45499293,\n",
       " 45882712,\n",
       " 46268279,\n",
       " 46656000,\n",
       " 47045881,\n",
       " 47437928,\n",
       " 47832147,\n",
       " 48228544,\n",
       " 48627125,\n",
       " 49027896,\n",
       " 49430863,\n",
       " 49836032,\n",
       " 50243409,\n",
       " 50653000,\n",
       " 51064811,\n",
       " 51478848,\n",
       " 51895117,\n",
       " 52313624,\n",
       " 52734375,\n",
       " 53157376,\n",
       " 53582633,\n",
       " 54010152,\n",
       " 54439939,\n",
       " 54872000,\n",
       " 55306341,\n",
       " 55742968,\n",
       " 56181887,\n",
       " 56623104,\n",
       " 57066625,\n",
       " 57512456,\n",
       " 57960603,\n",
       " 58411072,\n",
       " 58863869,\n",
       " 59319000,\n",
       " 59776471,\n",
       " 60236288,\n",
       " 60698457,\n",
       " 61162984,\n",
       " 61629875,\n",
       " 62099136,\n",
       " 62570773,\n",
       " 63044792,\n",
       " 63521199,\n",
       " 64000000,\n",
       " 64481201,\n",
       " 64964808,\n",
       " 65450827,\n",
       " 65939264,\n",
       " 66430125,\n",
       " 66923416,\n",
       " 67419143,\n",
       " 67917312,\n",
       " 68417929,\n",
       " 68921000,\n",
       " 69426531,\n",
       " 69934528,\n",
       " 70444997,\n",
       " 70957944,\n",
       " 71473375,\n",
       " 71991296,\n",
       " 72511713,\n",
       " 73034632,\n",
       " 73560059,\n",
       " 74088000,\n",
       " 74618461,\n",
       " 75151448,\n",
       " 75686967,\n",
       " 76225024,\n",
       " 76765625,\n",
       " 77308776,\n",
       " 77854483,\n",
       " 78402752,\n",
       " 78953589,\n",
       " 79507000,\n",
       " 80062991,\n",
       " 80621568,\n",
       " 81182737,\n",
       " 81746504,\n",
       " 82312875,\n",
       " 82881856,\n",
       " 83453453,\n",
       " 84027672,\n",
       " 84604519,\n",
       " 85184000,\n",
       " 85766121,\n",
       " 86350888,\n",
       " 86938307,\n",
       " 87528384,\n",
       " 88121125,\n",
       " 88716536,\n",
       " 89314623,\n",
       " 89915392,\n",
       " 90518849,\n",
       " 91125000,\n",
       " 91733851,\n",
       " 92345408,\n",
       " 92959677,\n",
       " 93576664,\n",
       " 94196375,\n",
       " 94818816,\n",
       " 95443993,\n",
       " 96071912,\n",
       " 96702579,\n",
       " 97336000,\n",
       " 97972181,\n",
       " 98611128,\n",
       " 99252847,\n",
       " 99897344,\n",
       " 100544625,\n",
       " 101194696,\n",
       " 101847563,\n",
       " 102503232,\n",
       " 103161709,\n",
       " 103823000,\n",
       " 104487111,\n",
       " 105154048,\n",
       " 105823817,\n",
       " 106496424,\n",
       " 107171875,\n",
       " 107850176,\n",
       " 108531333,\n",
       " 109215352,\n",
       " 109902239,\n",
       " 110592000,\n",
       " 111284641,\n",
       " 111980168,\n",
       " 112678587,\n",
       " 113379904,\n",
       " 114084125,\n",
       " 114791256,\n",
       " 115501303,\n",
       " 116214272,\n",
       " 116930169,\n",
       " 117649000,\n",
       " 118370771,\n",
       " 119095488,\n",
       " 119823157,\n",
       " 120553784,\n",
       " 121287375,\n",
       " 122023936,\n",
       " 122763473,\n",
       " 123505992,\n",
       " 124251499,\n",
       " 125000000,\n",
       " 125751501,\n",
       " 126506008,\n",
       " 127263527,\n",
       " 128024064,\n",
       " 128787625,\n",
       " 129554216,\n",
       " 130323843,\n",
       " 131096512,\n",
       " 131872229,\n",
       " 132651000,\n",
       " 133432831,\n",
       " 134217728,\n",
       " 135005697,\n",
       " 135796744,\n",
       " 136590875,\n",
       " 137388096,\n",
       " 138188413,\n",
       " 138991832,\n",
       " 139798359,\n",
       " 140608000,\n",
       " 141420761,\n",
       " 142236648,\n",
       " 143055667,\n",
       " 143877824,\n",
       " 144703125,\n",
       " 145531576,\n",
       " 146363183,\n",
       " 147197952,\n",
       " 148035889,\n",
       " 148877000,\n",
       " 149721291,\n",
       " 150568768,\n",
       " 151419437,\n",
       " 152273304,\n",
       " 153130375,\n",
       " 153990656,\n",
       " 154854153,\n",
       " 155720872,\n",
       " 156590819,\n",
       " 157464000,\n",
       " 158340421,\n",
       " 159220088,\n",
       " 160103007,\n",
       " 160989184,\n",
       " 161878625,\n",
       " 162771336,\n",
       " 163667323,\n",
       " 164566592,\n",
       " 165469149,\n",
       " 166375000,\n",
       " 167284151,\n",
       " 168196608,\n",
       " 169112377,\n",
       " 170031464,\n",
       " 170953875,\n",
       " 171879616,\n",
       " 172808693,\n",
       " 173741112,\n",
       " 174676879,\n",
       " 175616000,\n",
       " 176558481,\n",
       " 177504328,\n",
       " 178453547,\n",
       " 179406144,\n",
       " 180362125,\n",
       " 181321496,\n",
       " 182284263,\n",
       " 183250432,\n",
       " 184220009,\n",
       " 185193000,\n",
       " 186169411,\n",
       " 187149248,\n",
       " 188132517,\n",
       " 189119224,\n",
       " 190109375,\n",
       " 191102976,\n",
       " 192100033,\n",
       " 193100552,\n",
       " 194104539,\n",
       " 195112000,\n",
       " 196122941,\n",
       " 197137368,\n",
       " 198155287,\n",
       " 199176704,\n",
       " 200201625,\n",
       " 201230056,\n",
       " 202262003,\n",
       " 203297472,\n",
       " 204336469,\n",
       " 205379000,\n",
       " 206425071,\n",
       " 207474688,\n",
       " 208527857,\n",
       " 209584584,\n",
       " 210644875,\n",
       " 211708736,\n",
       " 212776173,\n",
       " 213847192,\n",
       " 214921799,\n",
       " 216000000,\n",
       " 217081801,\n",
       " 218167208,\n",
       " 219256227,\n",
       " 220348864,\n",
       " 221445125,\n",
       " 222545016,\n",
       " 223648543,\n",
       " 224755712,\n",
       " 225866529,\n",
       " 226981000,\n",
       " 228099131,\n",
       " 229220928,\n",
       " 230346397,\n",
       " 231475544,\n",
       " 232608375,\n",
       " 233744896,\n",
       " 234885113,\n",
       " 236029032,\n",
       " 237176659,\n",
       " 238328000,\n",
       " 239483061,\n",
       " 240641848,\n",
       " 241804367,\n",
       " 242970624,\n",
       " 244140625,\n",
       " 245314376,\n",
       " 246491883,\n",
       " 247673152,\n",
       " 248858189,\n",
       " 250047000,\n",
       " 251239591,\n",
       " 252435968,\n",
       " 253636137,\n",
       " 254840104,\n",
       " 256047875,\n",
       " 257259456,\n",
       " 258474853,\n",
       " 259694072,\n",
       " 260917119,\n",
       " 262144000,\n",
       " 263374721,\n",
       " 264609288,\n",
       " 265847707,\n",
       " 267089984,\n",
       " 268336125,\n",
       " 269586136,\n",
       " 270840023,\n",
       " 272097792,\n",
       " 273359449,\n",
       " 274625000,\n",
       " 275894451,\n",
       " 277167808,\n",
       " 278445077,\n",
       " 279726264,\n",
       " 281011375,\n",
       " 282300416,\n",
       " 283593393,\n",
       " 284890312,\n",
       " 286191179,\n",
       " 287496000,\n",
       " 288804781,\n",
       " 290117528,\n",
       " 291434247,\n",
       " 292754944,\n",
       " 294079625,\n",
       " 295408296,\n",
       " 296740963,\n",
       " 298077632,\n",
       " 299418309,\n",
       " 300763000,\n",
       " 302111711,\n",
       " 303464448,\n",
       " 304821217,\n",
       " 306182024,\n",
       " 307546875,\n",
       " 308915776,\n",
       " 310288733,\n",
       " 311665752,\n",
       " 313046839,\n",
       " 314432000,\n",
       " 315821241,\n",
       " 317214568,\n",
       " 318611987,\n",
       " 320013504,\n",
       " 321419125,\n",
       " 322828856,\n",
       " 324242703,\n",
       " 325660672,\n",
       " 327082769,\n",
       " 328509000,\n",
       " 329939371,\n",
       " 331373888,\n",
       " 332812557,\n",
       " 334255384,\n",
       " 335702375,\n",
       " 337153536,\n",
       " 338608873,\n",
       " 340068392,\n",
       " 341532099,\n",
       " 343000000,\n",
       " 344472101,\n",
       " 345948408,\n",
       " 347428927,\n",
       " 348913664,\n",
       " 350402625,\n",
       " 351895816,\n",
       " 353393243,\n",
       " 354894912,\n",
       " 356400829,\n",
       " 357911000,\n",
       " 359425431,\n",
       " 360944128,\n",
       " 362467097,\n",
       " 363994344,\n",
       " 365525875,\n",
       " 367061696,\n",
       " 368601813,\n",
       " 370146232,\n",
       " 371694959,\n",
       " 373248000,\n",
       " 374805361,\n",
       " 376367048,\n",
       " 377933067,\n",
       " 379503424,\n",
       " 381078125,\n",
       " 382657176,\n",
       " 384240583,\n",
       " 385828352,\n",
       " 387420489,\n",
       " 389017000,\n",
       " 390617891,\n",
       " 392223168,\n",
       " 393832837,\n",
       " 395446904,\n",
       " 397065375,\n",
       " 398688256,\n",
       " 400315553,\n",
       " 401947272,\n",
       " 403583419,\n",
       " 405224000,\n",
       " 406869021,\n",
       " 408518488,\n",
       " 410172407,\n",
       " 411830784,\n",
       " 413493625,\n",
       " 415160936,\n",
       " 416832723,\n",
       " 418508992,\n",
       " 420189749,\n",
       " 421875000,\n",
       " 423564751,\n",
       " 425259008,\n",
       " 426957777,\n",
       " 428661064,\n",
       " 430368875,\n",
       " 432081216,\n",
       " 433798093,\n",
       " 435519512,\n",
       " 437245479,\n",
       " 438976000,\n",
       " 440711081,\n",
       " 442450728,\n",
       " 444194947,\n",
       " 445943744,\n",
       " 447697125,\n",
       " 449455096,\n",
       " 451217663,\n",
       " 452984832,\n",
       " 454756609,\n",
       " 456533000,\n",
       " 458314011,\n",
       " 460099648,\n",
       " 461889917,\n",
       " 463684824,\n",
       " 465484375,\n",
       " 467288576,\n",
       " 469097433,\n",
       " 470910952,\n",
       " 472729139,\n",
       " 474552000,\n",
       " 476379541,\n",
       " 478211768,\n",
       " 480048687,\n",
       " 481890304,\n",
       " 483736625,\n",
       " 485587656,\n",
       " 487443403,\n",
       " 489303872,\n",
       " 491169069,\n",
       " 493039000,\n",
       " 494913671,\n",
       " 496793088,\n",
       " 498677257,\n",
       " 500566184,\n",
       " 502459875,\n",
       " 504358336,\n",
       " 506261573,\n",
       " 508169592,\n",
       " 510082399,\n",
       " 512000000,\n",
       " 513922401,\n",
       " 515849608,\n",
       " 517781627,\n",
       " 519718464,\n",
       " 521660125,\n",
       " 523606616,\n",
       " 525557943,\n",
       " 527514112,\n",
       " 529475129,\n",
       " 531441000,\n",
       " 533411731,\n",
       " 535387328,\n",
       " 537367797,\n",
       " 539353144,\n",
       " 541343375,\n",
       " 543338496,\n",
       " 545338513,\n",
       " 547343432,\n",
       " 549353259,\n",
       " 551368000,\n",
       " 553387661,\n",
       " 555412248,\n",
       " 557441767,\n",
       " 559476224,\n",
       " 561515625,\n",
       " 563559976,\n",
       " 565609283,\n",
       " 567663552,\n",
       " 569722789,\n",
       " 571787000,\n",
       " 573856191,\n",
       " 575930368,\n",
       " 578009537,\n",
       " 580093704,\n",
       " 582182875,\n",
       " 584277056,\n",
       " 586376253,\n",
       " 588480472,\n",
       " 590589719,\n",
       " 592704000,\n",
       " 594823321,\n",
       " 596947688,\n",
       " 599077107,\n",
       " 601211584,\n",
       " 603351125,\n",
       " 605495736,\n",
       " 607645423,\n",
       " 609800192,\n",
       " 611960049,\n",
       " 614125000,\n",
       " 616295051,\n",
       " 618470208,\n",
       " 620650477,\n",
       " 622835864,\n",
       " 625026375,\n",
       " 627222016,\n",
       " 629422793,\n",
       " 631628712,\n",
       " 633839779,\n",
       " 636056000,\n",
       " 638277381,\n",
       " 640503928,\n",
       " 642735647,\n",
       " 644972544,\n",
       " 647214625,\n",
       " 649461896,\n",
       " 651714363,\n",
       " 653972032,\n",
       " 656234909,\n",
       " 658503000,\n",
       " 660776311,\n",
       " 663054848,\n",
       " 665338617,\n",
       " 667627624,\n",
       " 669921875,\n",
       " 672221376,\n",
       " 674526133,\n",
       " 676836152,\n",
       " 679151439,\n",
       " 681472000,\n",
       " 683797841,\n",
       " 686128968,\n",
       " 688465387,\n",
       " 690807104,\n",
       " 693154125,\n",
       " 695506456,\n",
       " 697864103,\n",
       " 700227072,\n",
       " 702595369,\n",
       " 704969000,\n",
       " 707347971,\n",
       " 709732288,\n",
       " 712121957,\n",
       " 714516984,\n",
       " 716917375,\n",
       " 719323136,\n",
       " 721734273,\n",
       " 724150792,\n",
       " 726572699,\n",
       " 729000000,\n",
       " 731432701,\n",
       " 733870808,\n",
       " 736314327,\n",
       " 738763264,\n",
       " 741217625,\n",
       " 743677416,\n",
       " 746142643,\n",
       " 748613312,\n",
       " 751089429,\n",
       " 753571000,\n",
       " 756058031,\n",
       " 758550528,\n",
       " 761048497,\n",
       " 763551944,\n",
       " 766060875,\n",
       " 768575296,\n",
       " 771095213,\n",
       " 773620632,\n",
       " 776151559,\n",
       " 778688000,\n",
       " 781229961,\n",
       " 783777448,\n",
       " 786330467,\n",
       " 788889024,\n",
       " 791453125,\n",
       " 794022776,\n",
       " 796597983,\n",
       " 799178752,\n",
       " 801765089,\n",
       " 804357000,\n",
       " 806954491,\n",
       " 809557568,\n",
       " 812166237,\n",
       " 814780504,\n",
       " 817400375,\n",
       " 820025856,\n",
       " 822656953,\n",
       " 825293672,\n",
       " 827936019,\n",
       " 830584000,\n",
       " 833237621,\n",
       " 835896888,\n",
       " 838561807,\n",
       " 841232384,\n",
       " 843908625,\n",
       " 846590536,\n",
       " 849278123,\n",
       " 851971392,\n",
       " 854670349,\n",
       " 857375000,\n",
       " 860085351,\n",
       " 862801408,\n",
       " 865523177,\n",
       " 868250664,\n",
       " 870983875,\n",
       " 873722816,\n",
       " 876467493,\n",
       " 879217912,\n",
       " 881974079,\n",
       " 884736000,\n",
       " 887503681,\n",
       " 890277128,\n",
       " 893056347,\n",
       " 895841344,\n",
       " 898632125,\n",
       " 901428696,\n",
       " 904231063,\n",
       " 907039232,\n",
       " 909853209,\n",
       " 912673000,\n",
       " 915498611,\n",
       " 918330048,\n",
       " 921167317,\n",
       " 924010424,\n",
       " 926859375,\n",
       " 929714176,\n",
       " 932574833,\n",
       " 935441352,\n",
       " 938313739,\n",
       " 941192000,\n",
       " 944076141,\n",
       " 946966168,\n",
       " 949862087,\n",
       " 952763904,\n",
       " 955671625,\n",
       " 958585256,\n",
       " 961504803,\n",
       " 964430272,\n",
       " 967361669,\n",
       " 970299000,\n",
       " 973242271,\n",
       " 976191488,\n",
       " 979146657,\n",
       " 982107784,\n",
       " 985074875,\n",
       " 988047936,\n",
       " 991026973,\n",
       " 994011992,\n",
       " 997002999,\n",
       " ...]"
      ]
     },
     "execution_count": 108,
     "metadata": {},
     "output_type": "execute_result"
    }
   ],
   "source": [
    "two(50000)"
   ]
  },
  {
   "cell_type": "code",
   "execution_count": 110,
   "id": "bbb61485",
   "metadata": {},
   "outputs": [],
   "source": [
    "def test(n):\n",
    "    for i in range(n):\n",
    "        yield i**3\n",
    "           "
   ]
  },
  {
   "cell_type": "code",
   "execution_count": 112,
   "id": "cabdaa96",
   "metadata": {},
   "outputs": [
    {
     "name": "stdout",
     "output_type": "stream",
     "text": [
      "<generator object test at 0x00000163BDB0E5E0>\n"
     ]
    }
   ],
   "source": [
    "print(test(5))"
   ]
  },
  {
   "cell_type": "code",
   "execution_count": 113,
   "id": "92b6fde5",
   "metadata": {},
   "outputs": [
    {
     "name": "stdout",
     "output_type": "stream",
     "text": [
      "range(0, 5)\n"
     ]
    }
   ],
   "source": [
    "print(range(5))"
   ]
  },
  {
   "cell_type": "code",
   "execution_count": 114,
   "id": "b3a950d9",
   "metadata": {},
   "outputs": [
    {
     "name": "stdout",
     "output_type": "stream",
     "text": [
      "[0, 1, 2, 3, 4]\n"
     ]
    }
   ],
   "source": [
    "print(list(range(5)))"
   ]
  },
  {
   "cell_type": "code",
   "execution_count": 115,
   "id": "c7e41648",
   "metadata": {},
   "outputs": [
    {
     "name": "stdout",
     "output_type": "stream",
     "text": [
      "[0, 1, 8, 27, 64]\n"
     ]
    }
   ],
   "source": [
    "print(list(test(5)))"
   ]
  },
  {
   "cell_type": "code",
   "execution_count": 121,
   "id": "54dc4c9b",
   "metadata": {},
   "outputs": [],
   "source": [
    "def test_num(n):\n",
    "    for i in range(n):\n",
    "        yield i**3\n",
    "# similar we can canvert the yield into a list object          "
   ]
  },
  {
   "cell_type": "code",
   "execution_count": 122,
   "id": "e43e599d",
   "metadata": {},
   "outputs": [
    {
     "name": "stdout",
     "output_type": "stream",
     "text": [
      "0\n",
      "1\n",
      "8\n",
      "27\n",
      "64\n",
      "125\n",
      "216\n",
      "343\n",
      "512\n",
      "729\n",
      "1000\n",
      "1331\n",
      "1728\n",
      "2197\n",
      "2744\n"
     ]
    }
   ],
   "source": [
    "\n",
    "\n",
    "for i in test_num(15):\n",
    "    print(i)"
   ]
  },
  {
   "cell_type": "code",
   "execution_count": 123,
   "id": "69cb50d2",
   "metadata": {},
   "outputs": [],
   "source": [
    "# use of yield function"
   ]
  },
  {
   "cell_type": "code",
   "execution_count": 134,
   "id": "44451124",
   "metadata": {},
   "outputs": [],
   "source": [
    "def fibn(n):\n",
    "    a = 1\n",
    "    b = 1\n",
    "    output = []\n",
    "    for i in range(n):\n",
    "        output.append(a)\n",
    "        a , b = b , a+b\n",
    "    return output\n",
    "    "
   ]
  },
  {
   "cell_type": "code",
   "execution_count": 135,
   "id": "fb1e14fb",
   "metadata": {},
   "outputs": [
    {
     "data": {
      "text/plain": [
       "[1, 1, 2, 3, 5, 8, 13, 21, 34, 55]"
      ]
     },
     "execution_count": 135,
     "metadata": {},
     "output_type": "execute_result"
    }
   ],
   "source": [
    "fibn(10)"
   ]
  },
  {
   "cell_type": "code",
   "execution_count": 136,
   "id": "5fe07e36",
   "metadata": {},
   "outputs": [],
   "source": [
    "def fibn(n):\n",
    "    a = 1\n",
    "    b = 1\n",
    "    for i in range(n):\n",
    "        yield a\n",
    "        a , b = b , a+b"
   ]
  },
  {
   "cell_type": "code",
   "execution_count": 137,
   "id": "a19059dd",
   "metadata": {},
   "outputs": [
    {
     "data": {
      "text/plain": [
       "<generator object fibn at 0x00000163BDE0F4C0>"
      ]
     },
     "execution_count": 137,
     "metadata": {},
     "output_type": "execute_result"
    }
   ],
   "source": [
    "fibn(10)"
   ]
  },
  {
   "cell_type": "code",
   "execution_count": 138,
   "id": "67b5af80",
   "metadata": {},
   "outputs": [
    {
     "name": "stdout",
     "output_type": "stream",
     "text": [
      "1\n",
      "1\n",
      "2\n",
      "3\n",
      "5\n",
      "8\n",
      "13\n",
      "21\n",
      "34\n",
      "55\n"
     ]
    }
   ],
   "source": [
    "for i in fibn(10):\n",
    "    print(i)"
   ]
  },
  {
   "cell_type": "markdown",
   "id": "41d6d08f",
   "metadata": {},
   "source": [
    "#  PEP 8 – Style Guide for Python Code"
   ]
  },
  {
   "cell_type": "code",
   "execution_count": 158,
   "id": "2bebe0a9",
   "metadata": {},
   "outputs": [],
   "source": [
    "# https://peps.python.org/pep-0008/"
   ]
  },
  {
   "cell_type": "code",
   "execution_count": 159,
   "id": "81609d9e",
   "metadata": {},
   "outputs": [],
   "source": [
    "# whats the use of a guide"
   ]
  },
  {
   "cell_type": "markdown",
   "id": "2c7d5bb7",
   "metadata": {},
   "source": [
    "# MAP FILTER REDUCE"
   ]
  },
  {
   "cell_type": "code",
   "execution_count": 201,
   "id": "824e3467",
   "metadata": {},
   "outputs": [],
   "source": [
    "# WIP\n"
   ]
  },
  {
   "cell_type": "markdown",
   "id": "d2582af5",
   "metadata": {},
   "source": [
    "# EXCEPTION HANDLING"
   ]
  },
  {
   "cell_type": "code",
   "execution_count": 202,
   "id": "84786411",
   "metadata": {},
   "outputs": [],
   "source": [
    "# WIP"
   ]
  },
  {
   "cell_type": "code",
   "execution_count": null,
   "id": "dfb89833",
   "metadata": {},
   "outputs": [],
   "source": []
  }
 ],
 "metadata": {
  "kernelspec": {
   "display_name": "Python 3 (ipykernel)",
   "language": "python",
   "name": "python3"
  },
  "language_info": {
   "codemirror_mode": {
    "name": "ipython",
    "version": 3
   },
   "file_extension": ".py",
   "mimetype": "text/x-python",
   "name": "python",
   "nbconvert_exporter": "python",
   "pygments_lexer": "ipython3",
   "version": "3.10.5"
  }
 },
 "nbformat": 4,
 "nbformat_minor": 5
}
