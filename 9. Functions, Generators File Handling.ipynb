{
 "cells": [
  {
   "cell_type": "markdown",
   "id": "e40e7455",
   "metadata": {},
   "source": [
    "# File handling"
   ]
  },
  {
   "cell_type": "markdown",
   "id": "29dd1d50",
   "metadata": {},
   "source": [
    "# read write operations on a text file"
   ]
  },
  {
   "cell_type": "code",
   "execution_count": 1,
   "id": "51da53bb",
   "metadata": {},
   "outputs": [],
   "source": [
    "# f = open('test1.txt') #No such file or directory:"
   ]
  },
  {
   "cell_type": "markdown",
   "id": "e9d5042f",
   "metadata": {},
   "source": [
    "# creating  a new file\n"
   ]
  },
  {
   "cell_type": "code",
   "execution_count": 2,
   "id": "b4bb17c5",
   "metadata": {},
   "outputs": [],
   "source": [
    "f = open('test1.txt','w')"
   ]
  },
  {
   "cell_type": "code",
   "execution_count": 3,
   "id": "c7cce549",
   "metadata": {},
   "outputs": [],
   "source": [
    "# modes of operation ?? "
   ]
  },
  {
   "cell_type": "code",
   "execution_count": 4,
   "id": "789597d5",
   "metadata": {},
   "outputs": [],
   "source": [
    "# help(open)"
   ]
  },
  {
   "cell_type": "markdown",
   "id": "da646df2",
   "metadata": {},
   "source": [
    "Character Meaning\n",
    "    --------- ---------------------------------------------------------------\n",
    "    'r'       open for reading (default)\n",
    "    'w'       open for writing, truncating the file first\n",
    "    'x'       create a new file and open it for writing\n",
    "    'a'       open for writing, appending to the end of the file if it exists\n",
    "    'b'       binary mode\n",
    "    't'       text mode (default)\n",
    "    '+'       open a disk file for updating (reading and writing)\n",
    "    'U'       universal newline mode (deprecated)\n",
    "    ========= ==============================================================="
   ]
  },
  {
   "cell_type": "markdown",
   "id": "745cb6fa",
   "metadata": {},
   "source": [
    "# writing in a file"
   ]
  },
  {
   "cell_type": "code",
   "execution_count": 5,
   "id": "ef9c8d56",
   "metadata": {},
   "outputs": [
    {
     "data": {
      "text/plain": [
       "33"
      ]
     },
     "execution_count": 5,
     "metadata": {},
     "output_type": "execute_result"
    }
   ],
   "source": [
    "f.write('''LINE 1\n",
    "        LIN2\n",
    "        LINE3''')"
   ]
  },
  {
   "cell_type": "code",
   "execution_count": 6,
   "id": "fd21dd8c",
   "metadata": {},
   "outputs": [],
   "source": [
    "f.close()"
   ]
  },
  {
   "cell_type": "markdown",
   "id": "93d6eacd",
   "metadata": {},
   "source": [
    "# Reading a file"
   ]
  },
  {
   "cell_type": "code",
   "execution_count": 7,
   "id": "5e3f4f30",
   "metadata": {},
   "outputs": [],
   "source": [
    "f = open('test1.txt')"
   ]
  },
  {
   "cell_type": "code",
   "execution_count": 8,
   "id": "d051960b",
   "metadata": {},
   "outputs": [
    {
     "data": {
      "text/plain": [
       "'LINE 1\\n        LIN2\\n        LINE3'"
      ]
     },
     "execution_count": 8,
     "metadata": {},
     "output_type": "execute_result"
    }
   ],
   "source": [
    "f.read()"
   ]
  },
  {
   "cell_type": "code",
   "execution_count": 9,
   "id": "dfb109b0",
   "metadata": {},
   "outputs": [
    {
     "data": {
      "text/plain": [
       "''"
      ]
     },
     "execution_count": 9,
     "metadata": {},
     "output_type": "execute_result"
    }
   ],
   "source": [
    "f.read() # we will get empty output. even data is there\n"
   ]
  },
  {
   "cell_type": "markdown",
   "id": "4393db4e",
   "metadata": {},
   "source": [
    "# resetting the cursor position"
   ]
  },
  {
   "cell_type": "code",
   "execution_count": 10,
   "id": "e729c140",
   "metadata": {},
   "outputs": [
    {
     "data": {
      "text/plain": [
       "5"
      ]
     },
     "execution_count": 10,
     "metadata": {},
     "output_type": "execute_result"
    }
   ],
   "source": [
    "f.seek(5) # setting the cursor to position 5th"
   ]
  },
  {
   "cell_type": "code",
   "execution_count": 11,
   "id": "6eed9fa5",
   "metadata": {},
   "outputs": [
    {
     "data": {
      "text/plain": [
       "'1\\n        LIN2\\n        LINE3'"
      ]
     },
     "execution_count": 11,
     "metadata": {},
     "output_type": "execute_result"
    }
   ],
   "source": [
    "f.read() # reading from 5ht character"
   ]
  },
  {
   "cell_type": "code",
   "execution_count": 12,
   "id": "27234993",
   "metadata": {},
   "outputs": [
    {
     "data": {
      "text/plain": [
       "0"
      ]
     },
     "execution_count": 12,
     "metadata": {},
     "output_type": "execute_result"
    }
   ],
   "source": [
    "f.seek(0) "
   ]
  },
  {
   "cell_type": "code",
   "execution_count": 13,
   "id": "86117a9e",
   "metadata": {},
   "outputs": [
    {
     "data": {
      "text/plain": [
       "'LINE 1\\n   '"
      ]
     },
     "execution_count": 13,
     "metadata": {},
     "output_type": "execute_result"
    }
   ],
   "source": [
    "f.read(10) # will read 10characters"
   ]
  },
  {
   "cell_type": "code",
   "execution_count": 14,
   "id": "fb2f0106",
   "metadata": {},
   "outputs": [],
   "source": [
    "f.close()\n",
    "#  no operations can be done after closing  the file"
   ]
  },
  {
   "cell_type": "markdown",
   "id": "b67352ab",
   "metadata": {},
   "source": [
    "# appending  afile"
   ]
  },
  {
   "cell_type": "code",
   "execution_count": 15,
   "id": "b14a7149",
   "metadata": {},
   "outputs": [],
   "source": [
    "f = open('test1.txt','w') # this will erase a  previous data\n",
    "# so we have to open in 'a' append mode "
   ]
  },
  {
   "cell_type": "code",
   "execution_count": 18,
   "id": "b7c92480",
   "metadata": {},
   "outputs": [
    {
     "data": {
      "text/plain": [
       "5"
      ]
     },
     "execution_count": 18,
     "metadata": {},
     "output_type": "execute_result"
    }
   ],
   "source": [
    "f.write(\"Line1\")"
   ]
  },
  {
   "cell_type": "code",
   "execution_count": 19,
   "id": "3a18887f",
   "metadata": {},
   "outputs": [],
   "source": [
    "f.close()"
   ]
  },
  {
   "cell_type": "code",
   "execution_count": 20,
   "id": "c334296c",
   "metadata": {},
   "outputs": [],
   "source": [
    "f = open('test1.txt','a')"
   ]
  },
  {
   "cell_type": "code",
   "execution_count": 21,
   "id": "783d2c12",
   "metadata": {},
   "outputs": [
    {
     "data": {
      "text/plain": [
       "5"
      ]
     },
     "execution_count": 21,
     "metadata": {},
     "output_type": "execute_result"
    }
   ],
   "source": [
    "f.write(\"Line2\")"
   ]
  },
  {
   "cell_type": "code",
   "execution_count": 23,
   "id": "d7a7157d",
   "metadata": {},
   "outputs": [],
   "source": [
    "f.close()"
   ]
  },
  {
   "cell_type": "markdown",
   "id": "d37f58da",
   "metadata": {},
   "source": [
    "# Binary data"
   ]
  },
  {
   "cell_type": "code",
   "execution_count": 28,
   "id": "2167e261",
   "metadata": {},
   "outputs": [],
   "source": [
    "f = open('test1.txt' ,'wb')"
   ]
  },
  {
   "cell_type": "code",
   "execution_count": 30,
   "id": "1d88d679",
   "metadata": {},
   "outputs": [],
   "source": [
    "# f.write(\"Line8\") #a bytes-like object is required,"
   ]
  },
  {
   "cell_type": "code",
   "execution_count": 31,
   "id": "416048dd",
   "metadata": {},
   "outputs": [
    {
     "data": {
      "text/plain": [
       "5"
      ]
     },
     "execution_count": 31,
     "metadata": {},
     "output_type": "execute_result"
    }
   ],
   "source": [
    "f.write(b\"Line8\")"
   ]
  },
  {
   "cell_type": "code",
   "execution_count": 32,
   "id": "7b35719a",
   "metadata": {},
   "outputs": [],
   "source": [
    "f.close()"
   ]
  },
  {
   "cell_type": "code",
   "execution_count": 35,
   "id": "d8a45a3d",
   "metadata": {},
   "outputs": [],
   "source": [
    "f = open('test1.txt' ,'rb')"
   ]
  },
  {
   "cell_type": "code",
   "execution_count": 36,
   "id": "d022744e",
   "metadata": {},
   "outputs": [
    {
     "data": {
      "text/plain": [
       "b'Line8'"
      ]
     },
     "execution_count": 36,
     "metadata": {},
     "output_type": "execute_result"
    }
   ],
   "source": [
    "f.read()"
   ]
  },
  {
   "cell_type": "code",
   "execution_count": 37,
   "id": "b62cdcaa",
   "metadata": {},
   "outputs": [
    {
     "data": {
      "text/plain": [
       "4"
      ]
     },
     "execution_count": 37,
     "metadata": {},
     "output_type": "execute_result"
    }
   ],
   "source": [
    "f.seek(-1,2)"
   ]
  },
  {
   "cell_type": "code",
   "execution_count": 40,
   "id": "8c03a853",
   "metadata": {},
   "outputs": [
    {
     "data": {
      "text/plain": [
       "b'\\r\\nLine2\\r\\nLine3\\r\\nLine4\\r\\nLine8\\r\\nLine8\\r\\n'"
      ]
     },
     "execution_count": 40,
     "metadata": {},
     "output_type": "execute_result"
    }
   ],
   "source": [
    "f.read()"
   ]
  },
  {
   "cell_type": "code",
   "execution_count": 41,
   "id": "26923c39",
   "metadata": {},
   "outputs": [],
   "source": [
    "f.close()"
   ]
  },
  {
   "cell_type": "markdown",
   "id": "1467aefb",
   "metadata": {},
   "source": [
    "#  Reading lines"
   ]
  },
  {
   "cell_type": "code",
   "execution_count": 39,
   "id": "5dd9826b",
   "metadata": {},
   "outputs": [],
   "source": [
    "# read() , readline() ,readlines()"
   ]
  },
  {
   "cell_type": "code",
   "execution_count": 56,
   "id": "0c6f3311",
   "metadata": {},
   "outputs": [],
   "source": [
    "f= open('test1.txt','r')"
   ]
  },
  {
   "cell_type": "code",
   "execution_count": null,
   "id": "68004e3b",
   "metadata": {},
   "outputs": [],
   "source": [
    "# readline()"
   ]
  },
  {
   "cell_type": "code",
   "execution_count": 57,
   "id": "4ae420bd",
   "metadata": {},
   "outputs": [
    {
     "data": {
      "text/plain": [
       "'Line1\\n'"
      ]
     },
     "execution_count": 57,
     "metadata": {},
     "output_type": "execute_result"
    }
   ],
   "source": [
    "f.readline()"
   ]
  },
  {
   "cell_type": "code",
   "execution_count": 58,
   "id": "4f922def",
   "metadata": {},
   "outputs": [
    {
     "data": {
      "text/plain": [
       "'Line2\\n'"
      ]
     },
     "execution_count": 58,
     "metadata": {},
     "output_type": "execute_result"
    }
   ],
   "source": [
    "f.readline()"
   ]
  },
  {
   "cell_type": "code",
   "execution_count": 59,
   "id": "0688c93e",
   "metadata": {},
   "outputs": [
    {
     "name": "stdout",
     "output_type": "stream",
     "text": [
      "Line3\n",
      " Line4\n",
      " Line8\n",
      " Line8\n",
      " "
     ]
    }
   ],
   "source": [
    "for i in f:\n",
    "    print(i , end=\" \")"
   ]
  },
  {
   "cell_type": "code",
   "execution_count": 61,
   "id": "32efd46d",
   "metadata": {},
   "outputs": [],
   "source": [
    "f.close()"
   ]
  },
  {
   "cell_type": "code",
   "execution_count": 62,
   "id": "56858082",
   "metadata": {},
   "outputs": [],
   "source": [
    "f= open('test1.txt','r')"
   ]
  },
  {
   "cell_type": "code",
   "execution_count": 63,
   "id": "6de24524",
   "metadata": {},
   "outputs": [
    {
     "name": "stdout",
     "output_type": "stream",
     "text": [
      "['Line1\\n', 'Line2\\n', 'Line3\\n', 'Line4\\n', 'Line8\\n', 'Line8\\n']\n"
     ]
    }
   ],
   "source": [
    "print(list(f)) # data in the list form"
   ]
  },
  {
   "cell_type": "code",
   "execution_count": 64,
   "id": "7b9c14df",
   "metadata": {},
   "outputs": [],
   "source": [
    "f.close()"
   ]
  },
  {
   "cell_type": "markdown",
   "id": "7a5318c5",
   "metadata": {},
   "source": [
    "# Writing lines"
   ]
  },
  {
   "cell_type": "code",
   "execution_count": 65,
   "id": "6264407a",
   "metadata": {},
   "outputs": [],
   "source": [
    "f = open(\"test1.txt\" ,'r+')"
   ]
  },
  {
   "cell_type": "code",
   "execution_count": 67,
   "id": "6ef42e3f",
   "metadata": {},
   "outputs": [],
   "source": [
    "f.writelines(\"Line55\")"
   ]
  },
  {
   "cell_type": "code",
   "execution_count": 68,
   "id": "6eac91c3",
   "metadata": {},
   "outputs": [],
   "source": [
    "f.close()"
   ]
  },
  {
   "cell_type": "code",
   "execution_count": 70,
   "id": "a03a8922",
   "metadata": {},
   "outputs": [],
   "source": [
    "f = open(\"test1.txt\" ,'r+')"
   ]
  },
  {
   "cell_type": "code",
   "execution_count": 71,
   "id": "fca77c5e",
   "metadata": {},
   "outputs": [
    {
     "data": {
      "text/plain": [
       "0"
      ]
     },
     "execution_count": 71,
     "metadata": {},
     "output_type": "execute_result"
    }
   ],
   "source": [
    "f.seek(0)"
   ]
  },
  {
   "cell_type": "code",
   "execution_count": 72,
   "id": "d3b6c2b3",
   "metadata": {},
   "outputs": [],
   "source": [
    "f.writelines(\"Line55\")"
   ]
  },
  {
   "cell_type": "code",
   "execution_count": 75,
   "id": "c7b255a6",
   "metadata": {},
   "outputs": [],
   "source": [
    "# fileno  is integer descriptor of the file"
   ]
  },
  {
   "cell_type": "code",
   "execution_count": 76,
   "id": "54ac51da",
   "metadata": {},
   "outputs": [
    {
     "name": "stdout",
     "output_type": "stream",
     "text": [
      "5\n"
     ]
    }
   ],
   "source": [
    "print(f.fileno())"
   ]
  },
  {
   "cell_type": "markdown",
   "id": "b79e4964",
   "metadata": {},
   "source": [
    "# OS MODULE"
   ]
  },
  {
   "cell_type": "code",
   "execution_count": 77,
   "id": "e732a9fc",
   "metadata": {},
   "outputs": [],
   "source": [
    "import os"
   ]
  },
  {
   "cell_type": "code",
   "execution_count": 84,
   "id": "7158bc5f",
   "metadata": {},
   "outputs": [
    {
     "name": "stdout",
     "output_type": "stream",
     "text": [
      "C:\\Users\\RAHUL\\Documents\\ThreePython\n"
     ]
    }
   ],
   "source": [
    "print(os.getcwd()) # same as pwd()"
   ]
  },
  {
   "cell_type": "code",
   "execution_count": 85,
   "id": "76f03421",
   "metadata": {},
   "outputs": [
    {
     "name": "stdout",
     "output_type": "stream",
     "text": [
      "['.ipynb_checkpoints', '03. Conditionals Loops.ipynb', '07. Tuple, Set Dictionary.ipynb', '08. Working with Functions.ipynb', '9. Functions, Generators File Handling.ipynb', 'data_1.csv', 'data_2.csv', 'data_6.csv', 'PANDAS_SUDH.ipynb', 'R_WORK.ipynb', 'test1.txt']\n"
     ]
    }
   ],
   "source": [
    "print(os.listdir()) # list of dir"
   ]
  },
  {
   "cell_type": "code",
   "execution_count": 88,
   "id": "535d0a7a",
   "metadata": {},
   "outputs": [
    {
     "name": "stdout",
     "output_type": "stream",
     "text": [
      "['.android', '.cache', '.idlerc', '.ipython', '.jupyter', '.ms-ad', '.node_repl_history', '.openshot_qt', '.pylint.d', '.vscode', '3D Objects', 'ansel', 'AppData', 'Application Data', 'Contacts', 'Cookies', 'Desktop', 'Documents', 'Downloads', 'Favorites', 'IntelGraphicsProfiles', 'Links', 'Local Settings', 'MicrosoftEdgeBackups', 'Music', 'My Documents', 'NetHood', 'NTUSER.DAT', 'ntuser.dat.LOG1', 'ntuser.dat.LOG2', 'NTUSER.DAT{888ae9f5-086e-11eb-aede-005056c00008}.TM.blf', 'NTUSER.DAT{888ae9f5-086e-11eb-aede-005056c00008}.TMContainer00000000000000000001.regtrans-ms', 'NTUSER.DAT{888ae9f5-086e-11eb-aede-005056c00008}.TMContainer00000000000000000002.regtrans-ms', 'ntuser.ini', 'OneDrive', 'Pictures', 'PrintHood', 'PycharmProjects', 'Recent', 'Saved Games', 'ScStore', 'Searches', 'SendTo', 'Start Menu', 'Templates', 'Tracing', 'Videos']\n"
     ]
    }
   ],
   "source": [
    "print(os.listdir(r\"C:\\Users\\RAHUL\"))"
   ]
  },
  {
   "cell_type": "code",
   "execution_count": 89,
   "id": "1fce815a",
   "metadata": {},
   "outputs": [
    {
     "name": "stdout",
     "output_type": "stream",
     "text": [
      "None\n"
     ]
    }
   ],
   "source": [
    "print(os.chdir(r\"C:\\Users\\RAHUL\"))"
   ]
  },
  {
   "cell_type": "code",
   "execution_count": 90,
   "id": "8fa57a76",
   "metadata": {},
   "outputs": [
    {
     "name": "stdout",
     "output_type": "stream",
     "text": [
      "C:\\Users\\RAHUL\n"
     ]
    }
   ],
   "source": [
    "print(os.getcwd())"
   ]
  },
  {
   "cell_type": "code",
   "execution_count": 91,
   "id": "3769c9ce",
   "metadata": {},
   "outputs": [
    {
     "name": "stdout",
     "output_type": "stream",
     "text": [
      "None\n"
     ]
    }
   ],
   "source": [
    "print(os.chdir(r\"C:\\Users\\RAHUL\\Documents\\ThreePython\")) "
   ]
  },
  {
   "cell_type": "code",
   "execution_count": 92,
   "id": "78d57096",
   "metadata": {},
   "outputs": [
    {
     "name": "stdout",
     "output_type": "stream",
     "text": [
      "C:\\Users\\RAHUL\\Documents\\ThreePython\n"
     ]
    }
   ],
   "source": [
    "print(os.getcwd())"
   ]
  },
  {
   "cell_type": "code",
   "execution_count": 93,
   "id": "c16f8123",
   "metadata": {},
   "outputs": [],
   "source": [
    " # creating a dir"
   ]
  },
  {
   "cell_type": "code",
   "execution_count": 94,
   "id": "9cf9deb6",
   "metadata": {},
   "outputs": [],
   "source": [
    "os.mkdir(\"File1\")"
   ]
  },
  {
   "cell_type": "code",
   "execution_count": 95,
   "id": "92d0592b",
   "metadata": {},
   "outputs": [
    {
     "data": {
      "text/plain": [
       "['.ipynb_checkpoints',\n",
       " '03. Conditionals Loops.ipynb',\n",
       " '07. Tuple, Set Dictionary.ipynb',\n",
       " '08. Working with Functions.ipynb',\n",
       " '9. Functions, Generators File Handling.ipynb',\n",
       " 'data_1.csv',\n",
       " 'data_2.csv',\n",
       " 'data_6.csv',\n",
       " 'File1',\n",
       " 'PANDAS_SUDH.ipynb',\n",
       " 'R_WORK.ipynb',\n",
       " 'test1.txt']"
      ]
     },
     "execution_count": 95,
     "metadata": {},
     "output_type": "execute_result"
    }
   ],
   "source": [
    "os.listdir()"
   ]
  },
  {
   "cell_type": "code",
   "execution_count": 97,
   "id": "615cce0d",
   "metadata": {},
   "outputs": [
    {
     "name": "stdout",
     "output_type": "stream",
     "text": [
      "Present file\n"
     ]
    }
   ],
   "source": [
    "if 'File1' in os.listdir():\n",
    "    print(\"Present file\")\n",
    "else:\n",
    "    print(\"NO file\")"
   ]
  },
  {
   "cell_type": "code",
   "execution_count": 98,
   "id": "60eaf69a",
   "metadata": {},
   "outputs": [],
   "source": [
    "# renaming\n",
    "#  removing "
   ]
  },
  {
   "cell_type": "markdown",
   "id": "c223ddd7",
   "metadata": {},
   "source": [
    "# shutils"
   ]
  },
  {
   "cell_type": "code",
   "execution_count": 2,
   "id": "a69805d5",
   "metadata": {},
   "outputs": [],
   "source": [
    "import shutil"
   ]
  },
  {
   "cell_type": "code",
   "execution_count": 3,
   "id": "668b5700",
   "metadata": {},
   "outputs": [],
   "source": [
    "# movinfg a file "
   ]
  },
  {
   "cell_type": "code",
   "execution_count": 4,
   "id": "ad530d10",
   "metadata": {},
   "outputs": [],
   "source": [
    "# shutil.move( soure , Dest)"
   ]
  },
  {
   "cell_type": "code",
   "execution_count": null,
   "id": "ce68a3b1",
   "metadata": {},
   "outputs": [],
   "source": []
  }
 ],
 "metadata": {
  "kernelspec": {
   "display_name": "Python 3 (ipykernel)",
   "language": "python",
   "name": "python3"
  },
  "language_info": {
   "codemirror_mode": {
    "name": "ipython",
    "version": 3
   },
   "file_extension": ".py",
   "mimetype": "text/x-python",
   "name": "python",
   "nbconvert_exporter": "python",
   "pygments_lexer": "ipython3",
   "version": "3.10.5"
  }
 },
 "nbformat": 4,
 "nbformat_minor": 5
}
