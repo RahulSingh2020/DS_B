{
 "cells": [
  {
   "cell_type": "markdown",
   "id": "5848085d",
   "metadata": {},
   "source": [
    "# Object Oriented Programming"
   ]
  },
  {
   "cell_type": "code",
   "execution_count": 193,
   "id": "ca9ce3b9",
   "metadata": {},
   "outputs": [],
   "source": [
    "# terms not discussed till date"
   ]
  },
  {
   "cell_type": "code",
   "execution_count": 159,
   "id": "b0253f87",
   "metadata": {},
   "outputs": [
    {
     "name": "stdout",
     "output_type": "stream",
     "text": [
      "<class 'int'>\n",
      "RAHUL\n",
      "5\n",
      "[9, 11, 1, 2, 3, 4]\n",
      "[1, 2, 3, 4, 9, 11]\n",
      "<class 'list'>\n",
      "6\n"
     ]
    }
   ],
   "source": [
    "# oops\n",
    "# data types \n",
    "x = 10\n",
    "print(type(x))\n",
    "#  methods vs fuctions\n",
    "\n",
    "name  = \"Rahul\"\n",
    "print(name.upper()) #mehtod is a function inside a class\n",
    "print(len(name)) # function\n",
    "\n",
    "list_num = [9,11,1,2,3]\n",
    "\n",
    "#methods\n",
    "list_num.append(4)\n",
    "print(list_num)\n",
    "list_num.sort()\n",
    "print(list_num)\n",
    "\n",
    "# functions\n",
    "print(type(list_num))\n",
    "print(len(list_num))\n",
    "# del(list_num)\n",
    "# print(len(list_num))\n",
    "s1 = {\n",
    "     'name' : 'rahul',\n",
    "    'age' : 18,\n",
    "    'sub' :\"PCMB\" \n",
    "}\n",
    "\n",
    "s2={\n",
    "    'name' : 'rahul2',\n",
    "    'age' : 19,\n",
    "    'sub': \"PCMIT\"\n",
    "\n",
    "}"
   ]
  },
  {
   "cell_type": "code",
   "execution_count": 179,
   "id": "2cc2c978",
   "metadata": {},
   "outputs": [],
   "source": [
    "# understanding the issue with current inbuilt systems"
   ]
  },
  {
   "cell_type": "code",
   "execution_count": 10,
   "id": "3f696d5e",
   "metadata": {},
   "outputs": [
    {
     "name": "stdout",
     "output_type": "stream",
     "text": [
      "rahul\n",
      "rahul2\n"
     ]
    }
   ],
   "source": [
    "\n",
    "stud_1={\n",
    "    'name' : 'rahul',\n",
    "    'age' : 18,\n",
    "    'sub' :\"PCMB\"\n",
    "\n",
    "}\n",
    "stud_2={\n",
    "    'name' : 'rahul2',\n",
    "    'age' : 19,\n",
    "    'sub': \"PCMIT\"\n",
    "\n",
    "}\n",
    "\n",
    "print(stud_1['name'])\n",
    "print(stud_2['name'])\n",
    "\n"
   ]
  },
  {
   "cell_type": "code",
   "execution_count": 124,
   "id": "038c7cf0",
   "metadata": {},
   "outputs": [],
   "source": [
    "# code is repeated for every student"
   ]
  },
  {
   "cell_type": "code",
   "execution_count": 194,
   "id": "ee05def6",
   "metadata": {},
   "outputs": [],
   "source": [
    "# DRY"
   ]
  },
  {
   "cell_type": "code",
   "execution_count": 195,
   "id": "5108d0ec",
   "metadata": {},
   "outputs": [],
   "source": [
    "#Python is a multi-paradigm programming language. \n",
    "# It supports different programming approaches.\n",
    "# scripting\n",
    "# functional\n",
    "#  object OP"
   ]
  },
  {
   "cell_type": "code",
   "execution_count": 196,
   "id": "44a9cd49",
   "metadata": {},
   "outputs": [],
   "source": [
    "\n",
    "# One of the popular approaches to solve a programming problem is by creating objects. This is known as Object-Oriented Programming (OOP).\n",
    "# An object has two characteristics:\n",
    "# attributes : variables \n",
    "# behavior : methods\n"
   ]
  },
  {
   "cell_type": "code",
   "execution_count": 197,
   "id": "24e08f53",
   "metadata": {},
   "outputs": [],
   "source": [
    "\n",
    "# Let's take an example:\n",
    "\n",
    "# A parrot is an object, as it has the following properties:\n",
    "# attributes  : name, age, color as attributes\n",
    "# behavior : singing, dancing as behavior\n",
    "\n",
    "# Human :\n",
    "# attributes  : name, age, color as attributes\n",
    "# behavior : introvert , talktive, witty\n",
    "\n",
    "# Car :\n",
    "# attributes  : company, color , model\n",
    "# behavior : topspeed , milage, start"
   ]
  },
  {
   "cell_type": "code",
   "execution_count": 27,
   "id": "17bae2c2",
   "metadata": {},
   "outputs": [],
   "source": [
    "# Class\n",
    "# A class is a blueprint for the object."
   ]
  },
  {
   "cell_type": "code",
   "execution_count": 29,
   "id": "a0c8d779",
   "metadata": {},
   "outputs": [],
   "source": [
    "# Object\n",
    "# An object (instance) is an instantiation of a class. When class is defined, only the description for the object is defined. Therefore, no memory or storage is allocated."
   ]
  },
  {
   "cell_type": "markdown",
   "id": "5fd8dfcf",
   "metadata": {},
   "source": [
    "# Example 1: Creating Class and Object in Python"
   ]
  },
  {
   "cell_type": "code",
   "execution_count": 160,
   "id": "43660540",
   "metadata": {},
   "outputs": [],
   "source": [
    "# craeting  a class studentdata type"
   ]
  },
  {
   "cell_type": "code",
   "execution_count": 181,
   "id": "55a8ac69",
   "metadata": {},
   "outputs": [],
   "source": [
    "# example for studying the attributes"
   ]
  },
  {
   "cell_type": "code",
   "execution_count": 167,
   "id": "4ce66865",
   "metadata": {},
   "outputs": [],
   "source": [
    "class StudentData:\n",
    "    name = \"Student\"\n",
    "    age  = 18\n",
    "    sub = \"PCMB\""
   ]
  },
  {
   "cell_type": "code",
   "execution_count": 161,
   "id": "4cd00275",
   "metadata": {},
   "outputs": [
    {
     "name": "stdout",
     "output_type": "stream",
     "text": [
      "18\n",
      "Rahul\n",
      "PCMB\n"
     ]
    }
   ],
   "source": [
    "s2 = StudentData()\n",
    "print(s2.age)\n",
    "print(s2.name)\n",
    "print(s2.sub)"
   ]
  },
  {
   "cell_type": "code",
   "execution_count": 162,
   "id": "c4baf6ec",
   "metadata": {},
   "outputs": [
    {
     "name": "stdout",
     "output_type": "stream",
     "text": [
      "18\n",
      "Rahul\n",
      "PCMB\n"
     ]
    }
   ],
   "source": [
    "chinmay = StudentData()\n",
    "print(chinmay.age)\n",
    "print(chinmay.name)\n",
    "print(chinmay.sub)"
   ]
  },
  {
   "cell_type": "code",
   "execution_count": 165,
   "id": "d097f60d",
   "metadata": {},
   "outputs": [],
   "source": [
    "# accesing the class variables\n",
    "# Class can acces the variables"
   ]
  },
  {
   "cell_type": "code",
   "execution_count": 166,
   "id": "fbc0e0f5",
   "metadata": {},
   "outputs": [
    {
     "name": "stdout",
     "output_type": "stream",
     "text": [
      "18\n",
      "Rahul\n",
      "PCMB\n"
     ]
    }
   ],
   "source": [
    "print(StudentData.age)\n",
    "print(StudentData.name)\n",
    "print(StudentData.sub)"
   ]
  },
  {
   "cell_type": "code",
   "execution_count": null,
   "id": "c4525cd3",
   "metadata": {},
   "outputs": [],
   "source": [
    "# example"
   ]
  },
  {
   "cell_type": "code",
   "execution_count": null,
   "id": "6c1136e1",
   "metadata": {},
   "outputs": [],
   "source": [
    "class Animal:\n",
    "    name = \"Dog\"\n",
    "    color = \"Brown\"\n",
    "    Pet = True\n",
    "    \n",
    "    def sound():\n",
    "        print(\"bark\")"
   ]
  },
  {
   "cell_type": "code",
   "execution_count": 168,
   "id": "e7f05ed0",
   "metadata": {},
   "outputs": [
    {
     "name": "stdout",
     "output_type": "stream",
     "text": [
      "Dog\n",
      "Brown\n",
      "True\n"
     ]
    }
   ],
   "source": [
    "dog1 = Animal()\n",
    "print(dog1.name)\n",
    "print(dog1.color)\n",
    "print(dog1.Pet)"
   ]
  },
  {
   "cell_type": "code",
   "execution_count": 169,
   "id": "818af05e",
   "metadata": {},
   "outputs": [],
   "source": [
    "dog1.Pet = False # changing the default attribute value"
   ]
  },
  {
   "cell_type": "code",
   "execution_count": 172,
   "id": "f1fdb956",
   "metadata": {
    "scrolled": true
   },
   "outputs": [
    {
     "name": "stdout",
     "output_type": "stream",
     "text": [
      "Dog\n",
      "Brown\n",
      "True\n",
      "True\n",
      "8\n"
     ]
    }
   ],
   "source": [
    "dog1.Pet = False\n",
    "dog2 = Animal()\n",
    "print(dog2.name)\n",
    "print(dog2.color)\n",
    "print(dog2.Pet)\n",
    "dog1.Pet = False\n",
    "print(dog2.Pet)\n"
   ]
  },
  {
   "cell_type": "code",
   "execution_count": 198,
   "id": "f64a40e9",
   "metadata": {},
   "outputs": [
    {
     "name": "stdout",
     "output_type": "stream",
     "text": [
      "8\n"
     ]
    }
   ],
   "source": [
    "# adding attibute to the object \n",
    "# limited to that obj only\n",
    "dog2.age  = 8\n",
    "print(dog2.age)\n"
   ]
  },
  {
   "cell_type": "code",
   "execution_count": 199,
   "id": "8cb36afc",
   "metadata": {},
   "outputs": [
    {
     "ename": "AttributeError",
     "evalue": "'Animal' object has no attribute 'age'",
     "output_type": "error",
     "traceback": [
      "\u001b[1;31m---------------------------------------------------------------------------\u001b[0m",
      "\u001b[1;31mAttributeError\u001b[0m                            Traceback (most recent call last)",
      "Input \u001b[1;32mIn [199]\u001b[0m, in \u001b[0;36m<cell line: 1>\u001b[1;34m()\u001b[0m\n\u001b[1;32m----> 1\u001b[0m \u001b[38;5;28mprint\u001b[39m(\u001b[43mdog1\u001b[49m\u001b[38;5;241;43m.\u001b[39;49m\u001b[43mage\u001b[49m)\n",
      "\u001b[1;31mAttributeError\u001b[0m: 'Animal' object has no attribute 'age'"
     ]
    }
   ],
   "source": [
    "print(dog1.age) #not passed to other object "
   ]
  },
  {
   "cell_type": "code",
   "execution_count": 177,
   "id": "8205660b",
   "metadata": {},
   "outputs": [],
   "source": [
    "# Creating an Object in Python"
   ]
  },
  {
   "cell_type": "code",
   "execution_count": 201,
   "id": "b3d808d3",
   "metadata": {},
   "outputs": [],
   "source": [
    "# example for craeting method in a class\n",
    "# class can access the var/attributees as well as methods"
   ]
  },
  {
   "cell_type": "code",
   "execution_count": 210,
   "id": "ed13ed98",
   "metadata": {},
   "outputs": [
    {
     "name": "stdout",
     "output_type": "stream",
     "text": [
      "10\n",
      "<function Person.greet at 0x00000268DD7FA9E0>\n",
      "This is a person class\n"
     ]
    }
   ],
   "source": [
    "class Person:\n",
    "    \"This is a person class\"\n",
    "    age = 10\n",
    "    area = \"Pune\"\n",
    "    work = \"Foreman\"\n",
    "\n",
    "    def greet(self):\n",
    "        print('Hello Customers')\n",
    "\n",
    "\n",
    "# Output: 10\n",
    "print(Person.age)\n",
    "\n",
    "# Output: <function Person.greet>\n",
    "print(Person.greet)\n",
    "\n",
    "# Output: \"This is a person class\"\n",
    "print(Person.__doc__)"
   ]
  },
  {
   "cell_type": "code",
   "execution_count": 211,
   "id": "870f5b8a",
   "metadata": {},
   "outputs": [],
   "source": [
    "p1 = Person()"
   ]
  },
  {
   "cell_type": "code",
   "execution_count": 213,
   "id": "7b0c4e52",
   "metadata": {},
   "outputs": [
    {
     "name": "stdout",
     "output_type": "stream",
     "text": [
      "10\n",
      "Pune\n",
      "Foreman\n"
     ]
    }
   ],
   "source": [
    "print(p1.age)\n",
    "print(p1.area)\n",
    "print(p1.work)"
   ]
  },
  {
   "cell_type": "code",
   "execution_count": 215,
   "id": "d9d6df5b",
   "metadata": {},
   "outputs": [
    {
     "name": "stdout",
     "output_type": "stream",
     "text": [
      "Hello Customers\n"
     ]
    }
   ],
   "source": [
    "p1.greet()"
   ]
  },
  {
   "cell_type": "code",
   "execution_count": 216,
   "id": "02393cd9",
   "metadata": {},
   "outputs": [
    {
     "name": "stdout",
     "output_type": "stream",
     "text": [
      "Hello Customers\n"
     ]
    }
   ],
   "source": [
    "Person.greet(p1)"
   ]
  },
  {
   "cell_type": "code",
   "execution_count": 125,
   "id": "c02349de",
   "metadata": {},
   "outputs": [],
   "source": [
    "# understabding self"
   ]
  },
  {
   "cell_type": "code",
   "execution_count": null,
   "id": "857e7f4e",
   "metadata": {},
   "outputs": [],
   "source": [
    "# example"
   ]
  },
  {
   "cell_type": "code",
   "execution_count": 131,
   "id": "cfaccf02",
   "metadata": {},
   "outputs": [
    {
     "name": "stdout",
     "output_type": "stream",
     "text": [
      "18\n",
      "Rahul\n",
      "2649419354736\n",
      "2649419354736\n",
      "Will follw regular instructions\n",
      "2649419354736\n",
      "Will follw regular instructions\n"
     ]
    }
   ],
   "source": [
    "class StudentData:\n",
    "    name = \"Rahul\"\n",
    "    age  = 18\n",
    "    sub = \"PCMB\"\n",
    "\n",
    "    def IAm(shaktiman):\n",
    "        \n",
    "        print(id(shaktiman))\n",
    "        print(\"Will follw regular instructions\")\n",
    "\n",
    "\n",
    "\n",
    "\n",
    "gangadhar = StudentData()\n",
    "print(gangadhar.age)\n",
    "print(gangadhar.name)\n",
    "print(id(gangadhar))\n",
    "gangadhar.IAm()\n",
    "StudentData.IAm(gangadhar)"
   ]
  },
  {
   "cell_type": "code",
   "execution_count": 43,
   "id": "ea422a61",
   "metadata": {},
   "outputs": [],
   "source": [
    "# Creating an Object in Python"
   ]
  },
  {
   "cell_type": "code",
   "execution_count": 182,
   "id": "7cb5eb9e",
   "metadata": {},
   "outputs": [],
   "source": [
    "# We saw that the class object could be used to access different attributes.\n",
    "# It can also be used to create new object instances (instantiation) of that class. \n",
    "# The procedure to create an object is similar to a function call."
   ]
  },
  {
   "cell_type": "code",
   "execution_count": 183,
   "id": "1072f200",
   "metadata": {},
   "outputs": [],
   "source": [
    "# example"
   ]
  },
  {
   "cell_type": "code",
   "execution_count": 90,
   "id": "c24d4b68",
   "metadata": {},
   "outputs": [
    {
     "name": "stdout",
     "output_type": "stream",
     "text": [
      "<function Person.greet at 0x00000268DDFAF130>\n",
      "<bound method Person.greet of <__main__.Person object at 0x00000268DBC5A890>>\n",
      "Hello\n"
     ]
    }
   ],
   "source": [
    "class Person:\n",
    "    \"This is a person class\"\n",
    "    age = 10\n",
    "\n",
    "    def greet(self):\n",
    "        print('Hello')\n",
    "\n",
    "\n",
    "# create a new object of Person class\n",
    "harry = Person()\n",
    "\n",
    "# Output: <function Person.greet>\n",
    "print(Person.greet)\n",
    "\n",
    "# Output: <bound method Person.greet of <__main__.Person object>>\n",
    "print(harry.greet)\n",
    "\n",
    "# Calling object's greet() method\n",
    "# Output: Hello\n",
    "harry.greet()"
   ]
  },
  {
   "cell_type": "code",
   "execution_count": 185,
   "id": "a0aa01b8",
   "metadata": {},
   "outputs": [],
   "source": [
    "# You may have noticed the self parameter in function definition inside the class \n",
    "# but we called the method simply as harry.greet() without any arguments. \n",
    "# It still worked.\n",
    "\n",
    "# This is because, whenever an object calls its method, the object itself is passed as the first argument. \n",
    "# So, harry.greet() translates into Person.greet(harry).\n",
    "\n",
    "# In general, calling a method with a list of n arguments is equivalent to calling the corresponding function with an argument list \n",
    "# that is created by inserting the method's object before the first argument.\n",
    "\n",
    "# For these reasons, the first argument of the function in class must be the object itself. \n",
    "# This is conventionally called self. \n",
    "# It can be named otherwise but we highly recommend to follow the convention.\n",
    "\n",
    "# Now you must be familiar with class object, instance object, function object, method object and their differences.\n"
   ]
  },
  {
   "cell_type": "code",
   "execution_count": null,
   "id": "570dc905",
   "metadata": {},
   "outputs": [],
   "source": []
  },
  {
   "cell_type": "markdown",
   "id": "7084e8ba",
   "metadata": {},
   "source": [
    "# Constructors in Python"
   ]
  },
  {
   "cell_type": "code",
   "execution_count": 186,
   "id": "109d18d2",
   "metadata": {},
   "outputs": [],
   "source": [
    "# Class functions that begin with double underscore __ are called special functions as they have special meaning.\n",
    "# Of one particular interest is the __init__() function. \n",
    "# This special function gets called whenever a new object of that class is instantiated.\n",
    "# This type of function is also called constructors in Object Oriented Programming (OOP). \n",
    "# We normally use it to initialize all the variables."
   ]
  },
  {
   "cell_type": "code",
   "execution_count": null,
   "id": "27a57ae2",
   "metadata": {},
   "outputs": [],
   "source": [
    "# understanding __init__\n",
    "# These attributes are defined inside the __init__ method of the class. \n",
    "# It is the initializer method that is first run as soon as the object is created.\n",
    "# We can access the class attribute using __class__.species. \n",
    "# Class attributes are the same for all instances of a class. \n",
    "# Similarly, we access the instance attributes using blu.name and blu.age"
   ]
  },
  {
   "cell_type": "code",
   "execution_count": null,
   "id": "c4bbcd15",
   "metadata": {},
   "outputs": [],
   "source": []
  },
  {
   "cell_type": "code",
   "execution_count": null,
   "id": "74ac6350",
   "metadata": {},
   "outputs": [],
   "source": []
  },
  {
   "cell_type": "code",
   "execution_count": null,
   "id": "b8c35c54",
   "metadata": {},
   "outputs": [],
   "source": []
  },
  {
   "cell_type": "code",
   "execution_count": 187,
   "id": "82bd9c11",
   "metadata": {},
   "outputs": [],
   "source": [
    "# example"
   ]
  },
  {
   "cell_type": "code",
   "execution_count": 48,
   "id": "eb53b0c5",
   "metadata": {},
   "outputs": [
    {
     "name": "stdout",
     "output_type": "stream",
     "text": [
      "2+3j\n",
      "(5, 0, 10)\n"
     ]
    },
    {
     "ename": "AttributeError",
     "evalue": "'ComplexNumber' object has no attribute 'attr'",
     "output_type": "error",
     "traceback": [
      "\u001b[1;31m---------------------------------------------------------------------------\u001b[0m",
      "\u001b[1;31mAttributeError\u001b[0m                            Traceback (most recent call last)",
      "Input \u001b[1;32mIn [48]\u001b[0m, in \u001b[0;36m<cell line: 27>\u001b[1;34m()\u001b[0m\n\u001b[0;32m     23\u001b[0m \u001b[38;5;28mprint\u001b[39m((num2\u001b[38;5;241m.\u001b[39mreal, num2\u001b[38;5;241m.\u001b[39mimag, num2\u001b[38;5;241m.\u001b[39mattr))\n\u001b[0;32m     25\u001b[0m \u001b[38;5;66;03m# but c1 object doesn't have attribute 'attr'\u001b[39;00m\n\u001b[0;32m     26\u001b[0m \u001b[38;5;66;03m# AttributeError: 'ComplexNumber' object has no attribute 'attr'\u001b[39;00m\n\u001b[1;32m---> 27\u001b[0m \u001b[38;5;28mprint\u001b[39m(\u001b[43mnum1\u001b[49m\u001b[38;5;241;43m.\u001b[39;49m\u001b[43mattr\u001b[49m)\n",
      "\u001b[1;31mAttributeError\u001b[0m: 'ComplexNumber' object has no attribute 'attr'"
     ]
    }
   ],
   "source": [
    "class ComplexNumber:\n",
    "    def __init__(self, r=0, i=0):\n",
    "        self.real = r\n",
    "        self.imag = i\n",
    "\n",
    "    def get_data(self):\n",
    "        print(f'{self.real}+{self.imag}j')\n",
    "\n",
    "\n",
    "# Create a new ComplexNumber object\n",
    "num1 = ComplexNumber(2, 3)\n",
    "\n",
    "# Call get_data() method\n",
    "# Output: 2+3j\n",
    "num1.get_data()\n",
    "\n",
    "# Create another ComplexNumber object\n",
    "# and create a new attribute 'attr'\n",
    "num2 = ComplexNumber(5)\n",
    "num2.attr = 10\n",
    "\n",
    "# Output: (5, 0, 10)\n",
    "print((num2.real, num2.imag, num2.attr))\n",
    "\n",
    "# but c1 object doesn't have attribute 'attr'\n",
    "# AttributeError: 'ComplexNumber' object has no attribute 'attr'\n",
    "print(num1.attr)"
   ]
  },
  {
   "cell_type": "code",
   "execution_count": 188,
   "id": "51d2b46e",
   "metadata": {},
   "outputs": [],
   "source": [
    "# In the above example, we defined a new class to represent complex numbers. \n",
    "# It has two functions, __init__() to initialize the variables (defaults to zero) and get_data() to display the number properly.\n",
    "# An interesting thing to note in the above step is that attributes of an object can be created on the fly. \n",
    "# We created a new attribute attr for object num2 and read it as well. \n",
    "# But this does not create that attribute for object num1.\n"
   ]
  },
  {
   "cell_type": "markdown",
   "id": "7d9ac1d8",
   "metadata": {},
   "source": [
    "# Example 2 : Creating Methods in Python"
   ]
  },
  {
   "cell_type": "code",
   "execution_count": 34,
   "id": "10f6065b",
   "metadata": {},
   "outputs": [],
   "source": [
    "# Methods are functions defined inside the body of a class. They are used to define the behaviors of an object."
   ]
  },
  {
   "cell_type": "code",
   "execution_count": 21,
   "id": "d925b2fa",
   "metadata": {},
   "outputs": [],
   "source": [
    "# MAKING OUR FIRST CLASS "
   ]
  },
  {
   "cell_type": "code",
   "execution_count": 189,
   "id": "b63ae82d",
   "metadata": {},
   "outputs": [
    {
     "name": "stdout",
     "output_type": "stream",
     "text": [
      "\n",
      "        Enter your choice:\n",
      "        1. Create pin\n",
      "        2. Deposit\n",
      "        3. Withdraw\n",
      "        4. balance\n",
      "        5. Exit    \n",
      "         :5\n",
      "Bye\n",
      "Enter the PIN1\n",
      "Wrong PIN\n"
     ]
    }
   ],
   "source": [
    "class Atm:\n",
    "    def __init__(self):\n",
    "        self.pin = ''\n",
    "        self.balance = 0\n",
    "\n",
    "        self.menu()\n",
    "    \n",
    "    def menu(self):\n",
    "        user_iput = int(input('''\n",
    "        Enter your choice:\n",
    "        1. Create pin\n",
    "        2. Deposit\n",
    "        3. Withdraw\n",
    "        4. balance\n",
    "        5. Exit    \n",
    "         :'''))\n",
    "        if user_iput == 1:\n",
    "            # print(\"Create Pin\")\n",
    "            self.create_pin()\n",
    "        elif user_iput == 2:\n",
    "            # print(\" Deposit\")\n",
    "            self.deposit()\n",
    "        elif user_iput == 3:\n",
    "            # print(\" Withdraw\")\n",
    "            self.withdraw()\n",
    "        elif user_iput == 4:\n",
    "            # print(\" Show  balance\")\n",
    "            self.check_balance()\n",
    "        # if user_iput == 5:\n",
    "        #     print(\" Exit\")\n",
    "        else:\n",
    "            print(\"Bye\")\n",
    "\n",
    "    def create_pin(self):\n",
    "        self.pin = input(\"Enter your PIN\")\n",
    "        print(\"PIN set successfully\")\n",
    "\n",
    "    def deposit(self):\n",
    "        temp = input(\"Enter the PIN\")\n",
    "        if temp == self.pin:\n",
    "            amount = int(input(\"Enter the amount\"))\n",
    "            self.balance = self.balance + amount\n",
    "            print(\"Deposit successful\")\n",
    "        else:\n",
    "            print(\"Wrong PIN\")\n",
    "    \n",
    "    def withdraw(self):\n",
    "        temp = input(\"Enter the PIN\")\n",
    "        if temp == self.pin:\n",
    "            amount = int(input(\"Enter the amount\"))\n",
    "            if amount< self.balance:\n",
    "                self.balance =  self.balance - amount\n",
    "                print(\"Withdraw successful\")\n",
    "            else:\n",
    "                print(\"Insuff bal\")\n",
    "        else:\n",
    "            print(\"Wrong PIN\")\n",
    "\n",
    "    def check_balance(self):\n",
    "        temp = input(\"Enter the PIN\")\n",
    "        if temp == self.pin:\n",
    "            print(self.balance)\n",
    "        else:\n",
    "            print(\"Wrong PIN\")\n",
    "\n",
    "\n",
    "sbi = Atm()\n",
    "sbi.check_balance()"
   ]
  },
  {
   "cell_type": "code",
   "execution_count": 23,
   "id": "a3c3779b",
   "metadata": {},
   "outputs": [
    {
     "name": "stdout",
     "output_type": "stream",
     "text": [
      " Enter your optionhi\n",
      " You have enterted hi\n"
     ]
    }
   ],
   "source": [
    "sbi = Atm()"
   ]
  },
  {
   "cell_type": "markdown",
   "id": "e0f1edb9",
   "metadata": {},
   "source": [
    "# Inheritance"
   ]
  },
  {
   "cell_type": "code",
   "execution_count": 33,
   "id": "f2bf1eaa",
   "metadata": {},
   "outputs": [],
   "source": [
    "#Example 3: Use of Inheritance in Python"
   ]
  },
  {
   "cell_type": "code",
   "execution_count": 35,
   "id": "1ca06dc1",
   "metadata": {},
   "outputs": [],
   "source": [
    "# Inheritance is a way of creating a new class for using details of an existing class without modifying it. The newly formed class is a derived class (or child class). Similarly, the existing class is a base class (or parent class).\n"
   ]
  },
  {
   "cell_type": "code",
   "execution_count": 36,
   "id": "d51b58f3",
   "metadata": {},
   "outputs": [],
   "source": [
    "# use of super"
   ]
  },
  {
   "cell_type": "code",
   "execution_count": 50,
   "id": "ab2f0459",
   "metadata": {},
   "outputs": [
    {
     "data": {
      "text/plain": [
       "'\\nInheritance is a powerful feature in object oriented programming.\\n\\nIt refers to defining a new class with little or no modification to an existing class. The new class is called derived (or child) class and the one from which it inherits is called the base (or parent) class.\\n\\n'"
      ]
     },
     "execution_count": 50,
     "metadata": {},
     "output_type": "execute_result"
    }
   ],
   "source": [
    "'''\n",
    "Inheritance is a powerful feature in object oriented programming.\n",
    "\n",
    "It refers to defining a new class with little or no modification to an existing class. The new class is called derived (or child) class and the one from which it inherits is called the base (or parent) class.\n",
    "\n",
    "'''"
   ]
  },
  {
   "cell_type": "code",
   "execution_count": 51,
   "id": "7f12a301",
   "metadata": {},
   "outputs": [
    {
     "data": {
      "text/plain": [
       "'\\nPython Inheritance Syntax\\nclass BaseClass:\\n  Body of base class\\nclass DerivedClass(BaseClass):\\n  Body of derived class\\n\\n'"
      ]
     },
     "execution_count": 51,
     "metadata": {},
     "output_type": "execute_result"
    }
   ],
   "source": [
    "'''\n",
    "Python Inheritance Syntax\n",
    "class BaseClass:\n",
    "  Body of base class\n",
    "class DerivedClass(BaseClass):\n",
    "  Body of derived class\n",
    "\n",
    "'''"
   ]
  },
  {
   "cell_type": "code",
   "execution_count": 52,
   "id": "eaa61ac9",
   "metadata": {},
   "outputs": [],
   "source": [
    "# Example of Inheritance in Python"
   ]
  },
  {
   "cell_type": "code",
   "execution_count": 53,
   "id": "04844f97",
   "metadata": {},
   "outputs": [],
   "source": [
    "class Polygon:\n",
    "    def __init__(self, no_of_sides):\n",
    "        self.n = no_of_sides\n",
    "        self.sides = [0 for i in range(no_of_sides)]\n",
    "\n",
    "    def inputSides(self):\n",
    "        self.sides = [float(input(\"Enter side \"+str(i+1)+\" : \")) for i in range(self.n)]\n",
    "\n",
    "    def dispSides(self):\n",
    "        for i in range(self.n):\n",
    "            print(\"Side\",i+1,\"is\",self.sides[i])"
   ]
  },
  {
   "cell_type": "code",
   "execution_count": 54,
   "id": "083be9d3",
   "metadata": {},
   "outputs": [],
   "source": [
    "class Triangle(Polygon):\n",
    "    def __init__(self):\n",
    "        Polygon.__init__(self,3)\n",
    "\n",
    "    def findArea(self):\n",
    "        a, b, c = self.sides\n",
    "        # calculate the semi-perimeter\n",
    "        s = (a + b + c) / 2\n",
    "        area = (s*(s-a)*(s-b)*(s-c)) ** 0.5\n",
    "        print('The area of the triangle is %0.2f' %area)"
   ]
  },
  {
   "cell_type": "code",
   "execution_count": 55,
   "id": "8a65b927",
   "metadata": {},
   "outputs": [],
   "source": [
    "# Method Overriding in Python"
   ]
  },
  {
   "cell_type": "code",
   "execution_count": 56,
   "id": "2cbf6375",
   "metadata": {},
   "outputs": [],
   "source": [
    "# In the above example, notice that __init__() method was defined in both classes, Triangle as well Polygon. When this happens, the method in the derived class overrides that in the base class. This is to say, __init__() in Triangle gets preference over the __init__ in Polygon.\n",
    "\n",
    "# Generally when overriding a base method, we tend to extend the definition rather than simply replace it. The same is being done by calling the method in base class from the one in derived class (calling Polygon.__init__() from __init__() in Triangle).\n",
    "\n",
    "# A better option would be to use the built-in function super(). So, super().__init__(3) is equivalent to Polygon.__init__(self,3) and is preferred. To learn more about the super() function in Python, visit Python super() function.\n",
    "\n",
    "# Two built-in functions isinstance() and issubclass() are used to check inheritances.\n",
    "\n",
    "# The function isinstance() returns True if the object is an instance of the class or other classes derived from it. Each and every class in Python inherits from the base class object."
   ]
  },
  {
   "cell_type": "code",
   "execution_count": 57,
   "id": "05c96491",
   "metadata": {},
   "outputs": [
    {
     "ename": "NameError",
     "evalue": "name 't' is not defined",
     "output_type": "error",
     "traceback": [
      "\u001b[1;31m---------------------------------------------------------------------------\u001b[0m",
      "\u001b[1;31mNameError\u001b[0m                                 Traceback (most recent call last)",
      "Input \u001b[1;32mIn [57]\u001b[0m, in \u001b[0;36m<cell line: 1>\u001b[1;34m()\u001b[0m\n\u001b[1;32m----> 1\u001b[0m \u001b[38;5;28misinstance\u001b[39m(\u001b[43mt\u001b[49m,Triangle)\n\u001b[0;32m      2\u001b[0m \u001b[38;5;28;01mTrue\u001b[39;00m\n\u001b[0;32m      4\u001b[0m \u001b[38;5;28misinstance\u001b[39m(t,Polygon)\n",
      "\u001b[1;31mNameError\u001b[0m: name 't' is not defined"
     ]
    }
   ],
   "source": [
    ">>> isinstance(t,Triangle)\n",
    "True\n",
    "\n",
    ">>> isinstance(t,Polygon)\n",
    "True\n",
    "\n",
    ">>> isinstance(t,int)\n",
    "False\n",
    "\n",
    ">>> isinstance(t,object)\n",
    "True"
   ]
  },
  {
   "cell_type": "code",
   "execution_count": 58,
   "id": "860f2809",
   "metadata": {},
   "outputs": [
    {
     "data": {
      "text/plain": [
       "True"
      ]
     },
     "execution_count": 58,
     "metadata": {},
     "output_type": "execute_result"
    }
   ],
   "source": [
    ">>> issubclass(Polygon,Triangle)\n",
    "False\n",
    "\n",
    ">>> issubclass(Triangle,Polygon)\n",
    "True\n",
    "\n",
    ">>> issubclass(bool,int)\n",
    "True"
   ]
  },
  {
   "cell_type": "code",
   "execution_count": 59,
   "id": "5edd2f34",
   "metadata": {},
   "outputs": [],
   "source": [
    "# Python Multiple Inheritance"
   ]
  },
  {
   "cell_type": "code",
   "execution_count": 60,
   "id": "cb59cbfc",
   "metadata": {},
   "outputs": [],
   "source": [
    "class Base1:\n",
    "    pass\n",
    "\n",
    "class Base2:\n",
    "    pass\n",
    "\n",
    "class MultiDerived(Base1, Base2):\n",
    "    pass"
   ]
  },
  {
   "cell_type": "code",
   "execution_count": 61,
   "id": "63e6cff0",
   "metadata": {},
   "outputs": [],
   "source": [
    "# Python Multilevel Inheritance"
   ]
  },
  {
   "cell_type": "code",
   "execution_count": 62,
   "id": "d979b79c",
   "metadata": {},
   "outputs": [],
   "source": [
    "class Base:\n",
    "    pass\n",
    "\n",
    "class Derived1(Base):\n",
    "    pass\n",
    "\n",
    "class Derived2(Derived1):\n",
    "    pass"
   ]
  },
  {
   "cell_type": "code",
   "execution_count": 63,
   "id": "b8d50532",
   "metadata": {},
   "outputs": [],
   "source": [
    "# Method Resolution Order in Python"
   ]
  },
  {
   "cell_type": "code",
   "execution_count": 64,
   "id": "c1725899",
   "metadata": {},
   "outputs": [
    {
     "data": {
      "text/plain": [
       "'\\nEvery class in Python is derived from the object class. It is the most base type in Python.\\n\\nSo technically, all other classes, either built-in or user-defined, are derived classes and all objects are instances of the object class.\\n\\n'"
      ]
     },
     "execution_count": 64,
     "metadata": {},
     "output_type": "execute_result"
    }
   ],
   "source": [
    "'''\n",
    "Every class in Python is derived from the object class. It is the most base type in Python.\n",
    "\n",
    "So technically, all other classes, either built-in or user-defined, are derived classes and all objects are instances of the object class.\n",
    "\n",
    "'''"
   ]
  },
  {
   "cell_type": "code",
   "execution_count": 65,
   "id": "2f406128",
   "metadata": {},
   "outputs": [
    {
     "name": "stdout",
     "output_type": "stream",
     "text": [
      "True\n",
      "True\n",
      "True\n"
     ]
    }
   ],
   "source": [
    "# Output: True\n",
    "print(issubclass(list,object))\n",
    "\n",
    "# Output: True\n",
    "print(isinstance(5.5,object))\n",
    "\n",
    "# Output: True\n",
    "print(isinstance(\"Hello\",object))"
   ]
  },
  {
   "cell_type": "code",
   "execution_count": 66,
   "id": "787cdcc1",
   "metadata": {},
   "outputs": [],
   "source": [
    "# In the multiple inheritance scenario, any specified attribute is searched first in the current class. If not found, the search continues into parent classes in depth-first, left-right fashion without searching the same class twice.\n",
    "\n",
    "# So, in the above example of MultiDerived class the search order is [MultiDerived, Base1, Base2, object]. This order is also called linearization of MultiDerived class and the set of rules used to find this order is called Method Resolution Order (MRO).\n",
    "\n",
    "# MRO must prevent local precedence ordering and also provide monotonicity. It ensures that a class always appears before its parents. In case of multiple parents, the order is the same as tuples of base classes.\n",
    "\n",
    "# MRO of a class can be viewed as the __mro__ attribute or the mro() method. The former returns a tuple while the latter returns a list."
   ]
  },
  {
   "cell_type": "code",
   "execution_count": 67,
   "id": "e443fde1",
   "metadata": {
    "scrolled": true
   },
   "outputs": [
    {
     "ename": "SyntaxError",
     "evalue": "invalid syntax (1582636947.py, line 2)",
     "output_type": "error",
     "traceback": [
      "\u001b[1;36m  Input \u001b[1;32mIn [67]\u001b[1;36m\u001b[0m\n\u001b[1;33m    (<class '__main__.MultiDerived'>,\u001b[0m\n\u001b[1;37m     ^\u001b[0m\n\u001b[1;31mSyntaxError\u001b[0m\u001b[1;31m:\u001b[0m invalid syntax\n"
     ]
    }
   ],
   "source": [
    ">>> MultiDerived.__mro__\n",
    "(<class '__main__.MultiDerived'>,\n",
    " <class '__main__.Base1'>,\n",
    " <class '__main__.Base2'>,\n",
    " <class 'object'>)\n",
    "\n",
    ">>> MultiDerived.mro()\n",
    "[<class '__main__.MultiDerived'>,\n",
    " <class '__main__.Base1'>,\n",
    " <class '__main__.Base2'>,\n",
    " <class 'object'>]"
   ]
  },
  {
   "cell_type": "code",
   "execution_count": 68,
   "id": "3f5a4178",
   "metadata": {},
   "outputs": [
    {
     "name": "stdout",
     "output_type": "stream",
     "text": [
      "[<class '__main__.M'>, <class '__main__.B'>, <class '__main__.A'>, <class '__main__.X'>, <class '__main__.Y'>, <class '__main__.Z'>, <class 'object'>]\n"
     ]
    }
   ],
   "source": [
    "# Demonstration of MRO\n",
    "\n",
    "class X:\n",
    "    pass\n",
    "\n",
    "\n",
    "class Y:\n",
    "    pass\n",
    "\n",
    "\n",
    "class Z:\n",
    "    pass\n",
    "\n",
    "\n",
    "class A(X, Y):\n",
    "    pass\n",
    "\n",
    "\n",
    "class B(Y, Z):\n",
    "    pass\n",
    "\n",
    "\n",
    "class M(B, A, Z):\n",
    "    pass\n",
    "\n",
    "# Output:\n",
    "# [<class '__main__.M'>, <class '__main__.B'>,\n",
    "#  <class '__main__.A'>, <class '__main__.X'>,\n",
    "#  <class '__main__.Y'>, <class '__main__.Z'>,\n",
    "#  <class 'object'>]\n",
    "\n",
    "print(M.mro())"
   ]
  },
  {
   "cell_type": "code",
   "execution_count": null,
   "id": "70f1c8e5",
   "metadata": {},
   "outputs": [],
   "source": []
  },
  {
   "cell_type": "code",
   "execution_count": 69,
   "id": "d289a828",
   "metadata": {},
   "outputs": [],
   "source": [
    "# Python Operator Overloading"
   ]
  },
  {
   "cell_type": "code",
   "execution_count": 70,
   "id": "9b4cd62f",
   "metadata": {},
   "outputs": [
    {
     "data": {
      "text/plain": [
       "'\\nPython operators work for built-in classes. But the same operator behaves differently with different types. For example, the + operator will perform arithmetic addition on two numbers, merge two lists, or concatenate two strings.\\n\\nThis feature in Python that allows the same operator to have different meaning according to the context is called operator overloading.\\n\\nSo what happens when we use them with objects of a user-defined class? Let us consider the following class, which tries to simulate a point in 2-D coordinate system.\\n'"
      ]
     },
     "execution_count": 70,
     "metadata": {},
     "output_type": "execute_result"
    }
   ],
   "source": [
    "'''\n",
    "Python operators work for built-in classes. But the same operator behaves differently with different types. For example, the + operator will perform arithmetic addition on two numbers, merge two lists, or concatenate two strings.\n",
    "\n",
    "This feature in Python that allows the same operator to have different meaning according to the context is called operator overloading.\n",
    "\n",
    "So what happens when we use them with objects of a user-defined class? Let us consider the following class, which tries to simulate a point in 2-D coordinate system.\n",
    "'''"
   ]
  },
  {
   "cell_type": "code",
   "execution_count": 71,
   "id": "ed43b735",
   "metadata": {},
   "outputs": [
    {
     "ename": "TypeError",
     "evalue": "unsupported operand type(s) for +: 'Point' and 'Point'",
     "output_type": "error",
     "traceback": [
      "\u001b[1;31m---------------------------------------------------------------------------\u001b[0m",
      "\u001b[1;31mTypeError\u001b[0m                                 Traceback (most recent call last)",
      "Input \u001b[1;32mIn [71]\u001b[0m, in \u001b[0;36m<cell line: 9>\u001b[1;34m()\u001b[0m\n\u001b[0;32m      7\u001b[0m p1 \u001b[38;5;241m=\u001b[39m Point(\u001b[38;5;241m1\u001b[39m, \u001b[38;5;241m2\u001b[39m)\n\u001b[0;32m      8\u001b[0m p2 \u001b[38;5;241m=\u001b[39m Point(\u001b[38;5;241m2\u001b[39m, \u001b[38;5;241m3\u001b[39m)\n\u001b[1;32m----> 9\u001b[0m \u001b[38;5;28mprint\u001b[39m(\u001b[43mp1\u001b[49m\u001b[38;5;241;43m+\u001b[39;49m\u001b[43mp2\u001b[49m)\n",
      "\u001b[1;31mTypeError\u001b[0m: unsupported operand type(s) for +: 'Point' and 'Point'"
     ]
    }
   ],
   "source": [
    "class Point:\n",
    "    def __init__(self, x=0, y=0):\n",
    "        self.x = x\n",
    "        self.y = y\n",
    "\n",
    "\n",
    "p1 = Point(1, 2)\n",
    "p2 = Point(2, 3)\n",
    "print(p1+p2)"
   ]
  },
  {
   "cell_type": "code",
   "execution_count": 72,
   "id": "5f0f1295",
   "metadata": {},
   "outputs": [
    {
     "data": {
      "text/plain": [
       "\"\\nHere, we can see that a TypeError was raised, since Python didn't know how to add two Point objects together.\\n\\nHowever, we can achieve this task in Python through operator overloading. But first, let's get a notion about special functions.\\n\\n\""
      ]
     },
     "execution_count": 72,
     "metadata": {},
     "output_type": "execute_result"
    }
   ],
   "source": [
    "'''\n",
    "Here, we can see that a TypeError was raised, since Python didn't know how to add two Point objects together.\n",
    "\n",
    "However, we can achieve this task in Python through operator overloading. But first, let's get a notion about special functions.\n",
    "\n",
    "'''"
   ]
  },
  {
   "cell_type": "markdown",
   "id": "8448bdd4",
   "metadata": {},
   "source": [
    "# Python Special Functions"
   ]
  },
  {
   "cell_type": "code",
   "execution_count": 74,
   "id": "c0d65799",
   "metadata": {},
   "outputs": [
    {
     "data": {
      "text/plain": [
       "'\\nClass functions that begin with double underscore __ are called special functions in Python.\\n\\nThese functions are not the typical functions that we define for a class. The __init__() function we defined above is one of them. It gets called every time we create a new object of that class.\\n\\nThere are numerous other special functions in Python. Visit Python Special Functions to learn more about them.\\n\\nUsing special functions, we can make our class compatible with built-in functions.\\n\\n'"
      ]
     },
     "execution_count": 74,
     "metadata": {},
     "output_type": "execute_result"
    }
   ],
   "source": [
    "'''\n",
    "Class functions that begin with double underscore __ are called special functions in Python.\n",
    "\n",
    "These functions are not the typical functions that we define for a class. The __init__() function we defined above is one of them. It gets called every time we create a new object of that class.\n",
    "\n",
    "There are numerous other special functions in Python. Visit Python Special Functions to learn more about them.\n",
    "\n",
    "Using special functions, we can make our class compatible with built-in functions.\n",
    "\n",
    "'''"
   ]
  },
  {
   "cell_type": "code",
   "execution_count": 75,
   "id": "af4d047f",
   "metadata": {},
   "outputs": [
    {
     "ename": "SyntaxError",
     "evalue": "invalid syntax (1838655988.py, line 3)",
     "output_type": "error",
     "traceback": [
      "\u001b[1;36m  Input \u001b[1;32mIn [75]\u001b[1;36m\u001b[0m\n\u001b[1;33m    <__main__.Point object at 0x00000000031F8CC0>\u001b[0m\n\u001b[1;37m    ^\u001b[0m\n\u001b[1;31mSyntaxError\u001b[0m\u001b[1;31m:\u001b[0m invalid syntax\n"
     ]
    }
   ],
   "source": [
    ">>> p1 = Point(2,3)\n",
    ">>> print(p1)\n",
    "<__main__.Point object at 0x00000000031F8CC0>"
   ]
  },
  {
   "cell_type": "code",
   "execution_count": 76,
   "id": "4a5e03ae",
   "metadata": {},
   "outputs": [
    {
     "data": {
      "text/plain": [
       "\"\\nSuppose we want the print() function to print the coordinates of the Point object instead of what we got. We can define a __str__() method in our class that controls how the object gets printed. Let's look at how we can achieve this:\\n\\n\""
      ]
     },
     "execution_count": 76,
     "metadata": {},
     "output_type": "execute_result"
    }
   ],
   "source": [
    "'''\n",
    "Suppose we want the print() function to print the coordinates of the Point object instead of what we got. We can define a __str__() method in our class that controls how the object gets printed. Let's look at how we can achieve this:\n",
    "\n",
    "'''"
   ]
  },
  {
   "cell_type": "code",
   "execution_count": 77,
   "id": "1d8603ac",
   "metadata": {},
   "outputs": [],
   "source": [
    "class Point:\n",
    "    def __init__(self, x = 0, y = 0):\n",
    "        self.x = x\n",
    "        self.y = y\n",
    "    \n",
    "    def __str__(self):\n",
    "        return \"({0},{1})\".format(self.x,self.y)"
   ]
  },
  {
   "cell_type": "code",
   "execution_count": 78,
   "id": "ec766b2e",
   "metadata": {},
   "outputs": [],
   "source": [
    "# Now let's try the print() function again."
   ]
  },
  {
   "cell_type": "code",
   "execution_count": 79,
   "id": "9c4d08b6",
   "metadata": {},
   "outputs": [
    {
     "name": "stdout",
     "output_type": "stream",
     "text": [
      "(2, 3)\n"
     ]
    }
   ],
   "source": [
    "class Point:\n",
    "    def __init__(self, x=0, y=0):\n",
    "        self.x = x\n",
    "        self.y = y\n",
    "\n",
    "    def __str__(self):\n",
    "        return \"({0}, {1})\".format(self.x, self.y)\n",
    "\n",
    "\n",
    "p1 = Point(2, 3)\n",
    "print(p1)"
   ]
  },
  {
   "cell_type": "code",
   "execution_count": 80,
   "id": "ed961299",
   "metadata": {},
   "outputs": [],
   "source": [
    "# That's better. Turns out, that this same method is invoked when we use the built-in function str() or format()."
   ]
  },
  {
   "cell_type": "code",
   "execution_count": 81,
   "id": "6bca0339",
   "metadata": {},
   "outputs": [
    {
     "data": {
      "text/plain": [
       "'(2,3)'"
      ]
     },
     "execution_count": 81,
     "metadata": {},
     "output_type": "execute_result"
    }
   ],
   "source": [
    ">>> str(p1)\n",
    "'(2,3)'\n",
    "\n",
    ">>> format(p1)\n",
    "'(2,3)'"
   ]
  },
  {
   "cell_type": "code",
   "execution_count": 82,
   "id": "6e70c553",
   "metadata": {},
   "outputs": [],
   "source": [
    "# So, when you use str(p1) or format(p1), Python internally calls the p1.__str__() method. Hence the name, special functions."
   ]
  },
  {
   "cell_type": "code",
   "execution_count": 83,
   "id": "ad87719e",
   "metadata": {},
   "outputs": [],
   "source": [
    "# Overloading the + Operator"
   ]
  },
  {
   "cell_type": "code",
   "execution_count": 84,
   "id": "f5236656",
   "metadata": {},
   "outputs": [
    {
     "data": {
      "text/plain": [
       "'\\nTo overload the + operator, we will need to implement __add__() function in the class. With great power comes great responsibility. We can do whatever we like, inside this function. But it is more sensible to return a Point object of the coordinate sum.\\n\\n\\n'"
      ]
     },
     "execution_count": 84,
     "metadata": {},
     "output_type": "execute_result"
    }
   ],
   "source": [
    "'''\n",
    "To overload the + operator, we will need to implement __add__() function in the class. With great power comes great responsibility. We can do whatever we like, inside this function. But it is more sensible to return a Point object of the coordinate sum.\n",
    "\n",
    "\n",
    "'''"
   ]
  },
  {
   "cell_type": "code",
   "execution_count": 85,
   "id": "278eaa3a",
   "metadata": {},
   "outputs": [],
   "source": [
    "class Point:\n",
    "    def __init__(self, x=0, y=0):\n",
    "        self.x = x\n",
    "        self.y = y\n",
    "\n",
    "    def __str__(self):\n",
    "        return \"({0},{1})\".format(self.x, self.y)\n",
    "\n",
    "    def __add__(self, other):\n",
    "        x = self.x + other.x\n",
    "        y = self.y + other.y\n",
    "        return Point(x, y)"
   ]
  },
  {
   "cell_type": "code",
   "execution_count": 86,
   "id": "d301919a",
   "metadata": {},
   "outputs": [],
   "source": [
    "# Now let's try the addition operation again:"
   ]
  },
  {
   "cell_type": "code",
   "execution_count": 87,
   "id": "d6a21415",
   "metadata": {},
   "outputs": [
    {
     "name": "stdout",
     "output_type": "stream",
     "text": [
      "(3,5)\n"
     ]
    }
   ],
   "source": [
    "class Point:\n",
    "    def __init__(self, x=0, y=0):\n",
    "        self.x = x\n",
    "        self.y = y\n",
    "\n",
    "    def __str__(self):\n",
    "        return \"({0},{1})\".format(self.x, self.y)\n",
    "\n",
    "    def __add__(self, other):\n",
    "        x = self.x + other.x\n",
    "        y = self.y + other.y\n",
    "        return Point(x, y)\n",
    "\n",
    "\n",
    "p1 = Point(1, 2)\n",
    "p2 = Point(2, 3)\n",
    "\n",
    "print(p1+p2)"
   ]
  },
  {
   "cell_type": "code",
   "execution_count": 88,
   "id": "9f3ca6f3",
   "metadata": {},
   "outputs": [
    {
     "data": {
      "text/plain": [
       "'\\nWhat actually happens is that, when you use p1 + p2, Python calls p1.__add__(p2) which in turn is Point.__add__(p1,p2). After this, the addition operation is carried out the way we specified.\\n\\n\\n'"
      ]
     },
     "execution_count": 88,
     "metadata": {},
     "output_type": "execute_result"
    }
   ],
   "source": [
    "'''\n",
    "What actually happens is that, when you use p1 + p2, Python calls p1.__add__(p2) which in turn is Point.__add__(p1,p2). After this, the addition operation is carried out the way we specified.\n",
    "\n",
    "\n",
    "'''"
   ]
  },
  {
   "cell_type": "markdown",
   "id": "248f99ed",
   "metadata": {},
   "source": [
    "# Encapsulation"
   ]
  },
  {
   "cell_type": "code",
   "execution_count": 37,
   "id": "37d891b7",
   "metadata": {},
   "outputs": [],
   "source": [
    "#  Using OOP in Python, we can restrict access to methods and variables. This prevents data from direct modification which is called encapsulation. In Python, we denote private attributes using underscore as the prefix i.e single _ or double __.\n"
   ]
  },
  {
   "cell_type": "code",
   "execution_count": 38,
   "id": "8f785892",
   "metadata": {},
   "outputs": [],
   "source": [
    "# Example 4: Data Encapsulation in Python"
   ]
  },
  {
   "cell_type": "code",
   "execution_count": 91,
   "id": "75e4e9d8",
   "metadata": {},
   "outputs": [
    {
     "data": {
      "text/plain": [
       "'\\n\\n\\nProtected members\\nProtected members (in C++ and JAVA) are those members of the class that cannot be accessed outside the class but can be accessed from within the class and its subclasses. To accomplish this in Python, just follow the convention by prefixing the name of the member by a single underscore “_”.\\n\\nAlthough the protected variable can be accessed out of the class as well as in the derived class(modified too in derived class), it is customary(convention not a rule) to not access the protected out the class body.\\n\\nNote: The __init__ method is a constructor and runs as soon as an object of a class is instantiated.\\n'"
      ]
     },
     "execution_count": 91,
     "metadata": {},
     "output_type": "execute_result"
    }
   ],
   "source": [
    "'''\n",
    "\n",
    "\n",
    "Protected members\n",
    "Protected members (in C++ and JAVA) are those members of the class that cannot be accessed outside the class but can be accessed from within the class and its subclasses. To accomplish this in Python, just follow the convention by prefixing the name of the member by a single underscore “_”.\n",
    "\n",
    "Although the protected variable can be accessed out of the class as well as in the derived class(modified too in derived class), it is customary(convention not a rule) to not access the protected out the class body.\n",
    "\n",
    "Note: The __init__ method is a constructor and runs as soon as an object of a class is instantiated.\n",
    "'''"
   ]
  },
  {
   "cell_type": "code",
   "execution_count": 92,
   "id": "1bbff650",
   "metadata": {},
   "outputs": [
    {
     "name": "stdout",
     "output_type": "stream",
     "text": [
      "Calling protected member of base class:  2\n",
      "Calling modified protected member outside class:  3\n",
      "Accessing protected member of obj1:  3\n",
      "Accessing protected member of obj2:  2\n"
     ]
    }
   ],
   "source": [
    "# Python program to\n",
    "# demonstrate protected members\n",
    "\n",
    "# Creating a base class\n",
    "class Base:\n",
    "\tdef __init__(self):\n",
    "\n",
    "\t\t# Protected member\n",
    "\t\tself._a = 2\n",
    "\n",
    "# Creating a derived class\n",
    "class Derived(Base):\n",
    "\tdef __init__(self):\n",
    "\n",
    "\t\t# Calling constructor of\n",
    "\t\t# Base class\n",
    "\t\tBase.__init__(self)\n",
    "\t\tprint(\"Calling protected member of base class: \",\n",
    "\t\t\tself._a)\n",
    "\n",
    "\t\t# Modify the protected variable:\n",
    "\t\tself._a = 3\n",
    "\t\tprint(\"Calling modified protected member outside class: \",\n",
    "\t\t\tself._a)\n",
    "\n",
    "\n",
    "obj1 = Derived()\n",
    "\n",
    "obj2 = Base()\n",
    "\n",
    "# Calling protected member\n",
    "# Can be accessed but should not be done due to convention\n",
    "print(\"Accessing protected member of obj1: \", obj1._a)\n",
    "\n",
    "# Accessing the protected variable outside\n",
    "print(\"Accessing protected member of obj2: \", obj2._a)\n"
   ]
  },
  {
   "cell_type": "code",
   "execution_count": 93,
   "id": "73373dc1",
   "metadata": {},
   "outputs": [
    {
     "data": {
      "text/plain": [
       "'\\nPrivate members\\nPrivate members are similar to protected members, the difference is that the class members declared private should neither be accessed outside the class nor by any base class. In Python, there is no existence of Private instance variables that cannot be accessed except inside a class.\\n\\nHowever, to define a private member prefix the member name with double underscore “__”.\\n\\nNote: Python’s private and protected members can be accessed outside the class through python name mangling.\\n\\n'"
      ]
     },
     "execution_count": 93,
     "metadata": {},
     "output_type": "execute_result"
    }
   ],
   "source": [
    "'''\n",
    "Private members\n",
    "Private members are similar to protected members, the difference is that the class members declared private should neither be accessed outside the class nor by any base class. In Python, there is no existence of Private instance variables that cannot be accessed except inside a class.\n",
    "\n",
    "However, to define a private member prefix the member name with double underscore “__”.\n",
    "\n",
    "Note: Python’s private and protected members can be accessed outside the class through python name mangling.\n",
    "\n",
    "'''"
   ]
  },
  {
   "cell_type": "code",
   "execution_count": 94,
   "id": "47185f28",
   "metadata": {},
   "outputs": [],
   "source": [
    "# what is name mangling in python"
   ]
  },
  {
   "cell_type": "code",
   "execution_count": 95,
   "id": "1979e4a4",
   "metadata": {},
   "outputs": [
    {
     "name": "stdout",
     "output_type": "stream",
     "text": [
      "GeeksforGeeks\n"
     ]
    }
   ],
   "source": [
    "# Python program to\n",
    "# demonstrate private members\n",
    "\n",
    "# Creating a Base class\n",
    "\n",
    "\n",
    "class Base:\n",
    "\tdef __init__(self):\n",
    "\t\tself.a = \"GeeksforGeeks\"\n",
    "\t\tself.__c = \"GeeksforGeeks\"\n",
    "\n",
    "# Creating a derived class\n",
    "class Derived(Base):\n",
    "\tdef __init__(self):\n",
    "\n",
    "\t\t# Calling constructor of\n",
    "\t\t# Base class\n",
    "\t\tBase.__init__(self)\n",
    "\t\tprint(\"Calling private member of base class: \")\n",
    "\t\tprint(self.__c)\n",
    "\n",
    "\n",
    "# Driver code\n",
    "obj1 = Base()\n",
    "print(obj1.a)\n",
    "\n",
    "# Uncommenting print(obj1.c) will\n",
    "# raise an AttributeError\n",
    "\n",
    "# Uncommenting obj2 = Derived() will\n",
    "# also raise an AtrributeError as\n",
    "# private member of base class\n",
    "# is called inside derived class\n"
   ]
  },
  {
   "cell_type": "code",
   "execution_count": 120,
   "id": "bed49762",
   "metadata": {},
   "outputs": [],
   "source": [
    "# getter and setter ??"
   ]
  },
  {
   "cell_type": "code",
   "execution_count": null,
   "id": "6b605ea8",
   "metadata": {},
   "outputs": [],
   "source": []
  },
  {
   "cell_type": "markdown",
   "id": "f2c126e7",
   "metadata": {},
   "source": [
    "# Polymorphism"
   ]
  },
  {
   "cell_type": "code",
   "execution_count": 39,
   "id": "2288aada",
   "metadata": {},
   "outputs": [],
   "source": [
    "#Polymorphism is an ability (in OOP) to use a common interface for multiple forms (data types)."
   ]
  },
  {
   "cell_type": "code",
   "execution_count": 40,
   "id": "cc6045b5",
   "metadata": {},
   "outputs": [],
   "source": [
    "#Example 5: Using Polymorphism in Python"
   ]
  },
  {
   "cell_type": "code",
   "execution_count": 96,
   "id": "7bf9764f",
   "metadata": {},
   "outputs": [
    {
     "data": {
      "text/plain": [
       "'\\nThe below code shows how Python can use two different class types, in the same way. We create a for loop that iterates through a tuple of objects. Then call the methods without being concerned about which class type each object is. We assume that these methods actually exist in each class. \\n\\n'"
      ]
     },
     "execution_count": 96,
     "metadata": {},
     "output_type": "execute_result"
    }
   ],
   "source": [
    "'''\n",
    "The below code shows how Python can use two different class types, in the same way. We create a for loop that iterates through a tuple of objects. Then call the methods without being concerned about which class type each object is. We assume that these methods actually exist in each class. \n",
    "\n",
    "'''"
   ]
  },
  {
   "cell_type": "code",
   "execution_count": 97,
   "id": "b1863341",
   "metadata": {},
   "outputs": [
    {
     "name": "stdout",
     "output_type": "stream",
     "text": [
      "New Delhi is the capital of India.\n",
      "Hindi is the most widely spoken language of India.\n",
      "India is a developing country.\n",
      "Washington, D.C. is the capital of USA.\n",
      "English is the primary language of USA.\n",
      "USA is a developed country.\n"
     ]
    }
   ],
   "source": [
    "class India():\n",
    "\tdef capital(self):\n",
    "\t\tprint(\"New Delhi is the capital of India.\")\n",
    "\n",
    "\tdef language(self):\n",
    "\t\tprint(\"Hindi is the most widely spoken language of India.\")\n",
    "\n",
    "\tdef type(self):\n",
    "\t\tprint(\"India is a developing country.\")\n",
    "\n",
    "class USA():\n",
    "\tdef capital(self):\n",
    "\t\tprint(\"Washington, D.C. is the capital of USA.\")\n",
    "\n",
    "\tdef language(self):\n",
    "\t\tprint(\"English is the primary language of USA.\")\n",
    "\n",
    "\tdef type(self):\n",
    "\t\tprint(\"USA is a developed country.\")\n",
    "\n",
    "obj_ind = India()\n",
    "obj_usa = USA()\n",
    "for country in (obj_ind, obj_usa):\n",
    "\tcountry.capital()\n",
    "\tcountry.language()\n",
    "\tcountry.type()\n"
   ]
  },
  {
   "cell_type": "code",
   "execution_count": 98,
   "id": "b78c821b",
   "metadata": {},
   "outputs": [
    {
     "data": {
      "text/plain": [
       "'\\nPolymorphism with Inheritance: \\n'"
      ]
     },
     "execution_count": 98,
     "metadata": {},
     "output_type": "execute_result"
    }
   ],
   "source": [
    "'''\n",
    "Polymorphism with Inheritance: \n",
    "'''"
   ]
  },
  {
   "cell_type": "code",
   "execution_count": 99,
   "id": "6c8ba66c",
   "metadata": {},
   "outputs": [
    {
     "data": {
      "text/plain": [
       "'\\nIn Python, Polymorphism lets us define methods in the child class that have the same name as the methods in the parent class. In inheritance, the child class inherits the methods from the parent class. However, it is possible to modify a method in a child class that it has inherited from the parent class. This is particularly useful in cases where the method inherited from the parent class doesn’t quite fit the child class. In such cases, we re-implement the method in the child class. This process of re-implementing a method in the child class is known as Method Overriding.  \\n\\n\\n'"
      ]
     },
     "execution_count": 99,
     "metadata": {},
     "output_type": "execute_result"
    }
   ],
   "source": [
    "'''\n",
    "In Python, Polymorphism lets us define methods in the child class that have the same name as the methods in the parent class. In inheritance, the child class inherits the methods from the parent class. However, it is possible to modify a method in a child class that it has inherited from the parent class. This is particularly useful in cases where the method inherited from the parent class doesn’t quite fit the child class. In such cases, we re-implement the method in the child class. This process of re-implementing a method in the child class is known as Method Overriding.  \n",
    "\n",
    "\n",
    "'''"
   ]
  },
  {
   "cell_type": "code",
   "execution_count": 100,
   "id": "99ec1d1f",
   "metadata": {},
   "outputs": [],
   "source": [
    "# method overridin\n",
    "#  overloading\n",
    "# ???"
   ]
  },
  {
   "cell_type": "code",
   "execution_count": 101,
   "id": "e67f6b58",
   "metadata": {},
   "outputs": [
    {
     "ename": "IndentationError",
     "evalue": "expected an indented block after class definition on line 1 (669465848.py, line 2)",
     "output_type": "error",
     "traceback": [
      "\u001b[1;36m  Input \u001b[1;32mIn [101]\u001b[1;36m\u001b[0m\n\u001b[1;33m    def intro(self):\u001b[0m\n\u001b[1;37m    ^\u001b[0m\n\u001b[1;31mIndentationError\u001b[0m\u001b[1;31m:\u001b[0m expected an indented block after class definition on line 1\n"
     ]
    }
   ],
   "source": [
    "class Bird:\n",
    "def intro(self):\n",
    "\tprint(\"There are many types of birds.\")\n",
    "\t\n",
    "def flight(self):\n",
    "\tprint(\"Most of the birds can fly but some cannot.\")\n",
    "\n",
    "class sparrow(Bird):\n",
    "def flight(self):\n",
    "\tprint(\"Sparrows can fly.\")\n",
    "\t\n",
    "class ostrich(Bird):\n",
    "def flight(self):\n",
    "\tprint(\"Ostriches cannot fly.\")\n",
    "\t\n",
    "obj_bird = Bird()\n",
    "obj_spr = sparrow()\n",
    "obj_ost = ostrich()\n",
    "\n",
    "obj_bird.intro()\n",
    "obj_bird.flight()\n",
    "\n",
    "obj_spr.intro()\n",
    "obj_spr.flight()\n",
    "\n",
    "obj_ost.intro()\n",
    "obj_ost.flight()\n"
   ]
  },
  {
   "cell_type": "code",
   "execution_count": 102,
   "id": "af15ec13",
   "metadata": {},
   "outputs": [
    {
     "data": {
      "text/plain": [
       "'\\nPrivate Variables in Python\\nDifficulty Level : Hard\\nLast Updated : 19 Aug, 2021\\nRead\\nDiscuss\\n\\nPrerequisite: Underscore in Python\\nIn Python, there is no existence of “Private” instance variables that cannot be accessed except inside an object. However, a convention is being followed by most Python code and coders i.e., a name prefixed with an underscore, For e.g. _geek should be treated as a non-public part of the API or any Python code, whether it is a function, a method, or a data member. While going through this we would also try to understand the concept of various forms of trailing underscores, for e.g., for _ in range(10), __init__(self). \\n \\n\\nMangling and how it works\\n\\nIn Python, there is something called name mangling, which means that there is limited support for a valid use-case for class-private members basically to avoid name clashes of names with names defined by subclasses. Any identifier of the form __geek (at least two leading underscores or at most one trailing underscore) is replaced with _classname__geek, where classname is the current class name with a leading underscore(s) stripped. As long as it occurs within the definition of the class, this mangling is done. This is helpful for letting subclasses override methods without breaking intraclass method calls. \\nLet’s look at this example and try to find out how this underscore works: \\n\\n\\n'"
      ]
     },
     "execution_count": 102,
     "metadata": {},
     "output_type": "execute_result"
    }
   ],
   "source": [
    "'''\n",
    "Private Variables in Python\n",
    "Difficulty Level : Hard\n",
    "Last Updated : 19 Aug, 2021\n",
    "Read\n",
    "Discuss\n",
    "\n",
    "Prerequisite: Underscore in Python\n",
    "In Python, there is no existence of “Private” instance variables that cannot be accessed except inside an object. However, a convention is being followed by most Python code and coders i.e., a name prefixed with an underscore, For e.g. _geek should be treated as a non-public part of the API or any Python code, whether it is a function, a method, or a data member. While going through this we would also try to understand the concept of various forms of trailing underscores, for e.g., for _ in range(10), __init__(self). \n",
    " \n",
    "\n",
    "Mangling and how it works\n",
    "\n",
    "In Python, there is something called name mangling, which means that there is limited support for a valid use-case for class-private members basically to avoid name clashes of names with names defined by subclasses. Any identifier of the form __geek (at least two leading underscores or at most one trailing underscore) is replaced with _classname__geek, where classname is the current class name with a leading underscore(s) stripped. As long as it occurs within the definition of the class, this mangling is done. This is helpful for letting subclasses override methods without breaking intraclass method calls. \n",
    "Let’s look at this example and try to find out how this underscore works: \n",
    "\n",
    "\n",
    "'''"
   ]
  },
  {
   "cell_type": "code",
   "execution_count": 103,
   "id": "13c07a42",
   "metadata": {},
   "outputs": [],
   "source": [
    "# Python code to illustrate how mangling works\n",
    "class Map:\n",
    "\tdef __init__(self, iterate):\n",
    "\t\tself.list = []\n",
    "\t\tself.__geek(iterate)\n",
    "\tdef geek(self, iterate):\n",
    "\t\tfor item in iterate:\n",
    "\t\t\tself.list.append(item)\n",
    "\n",
    "\t# private copy of original geek() method\n",
    "\t__geek = geek\n",
    "\n",
    "class MapSubclass(Map):\n",
    "\t\n",
    "\t# provides new signature for geek() but\n",
    "\t# does not break __init__()\n",
    "\tdef geek(self, key, value):\t\n",
    "\t\tfor i in zip(keys, value):\n",
    "\t\t\tself.list.append(i)\n"
   ]
  },
  {
   "cell_type": "code",
   "execution_count": 192,
   "id": "1642cab0",
   "metadata": {},
   "outputs": [],
   "source": [
    "\n",
    "# The mangling rules are designed mostly to avoid accidents \n",
    "# but it is still possible to access or modify a variable \n",
    "# that is considered private. This can even be useful in special circumstances, \n",
    "# such as in the debugger.\n",
    " \n",
    "# _Single Leading Underscores\n",
    "\n",
    "# So basically one underline at the beginning of a method, function, \n",
    "# or data member means you shouldn’t access this method because \n",
    "# it’s not part of the API. Let’s look at this snippet of code: "
   ]
  },
  {
   "cell_type": "code",
   "execution_count": 106,
   "id": "66d9ea24",
   "metadata": {},
   "outputs": [],
   "source": [
    "\n",
    "# Python code to illustrate\n",
    "# how single underscore works\n",
    "def _get_errors(self):\n",
    "\tif self._errors is None:\n",
    "\t\tself.full_clean()\n",
    "\treturn self._errors\n",
    "\n",
    "errors = property(_get_errors)\n"
   ]
  },
  {
   "cell_type": "code",
   "execution_count": 191,
   "id": "ff9c7704",
   "metadata": {},
   "outputs": [],
   "source": [
    "\n",
    "# The snippet is taken from the Django source code (django/forms/forms.py). \n",
    "# This suggests that errors are property, and it’s also a part of the API, \n",
    "# but the method, _get_errors, is “private”, so one shouldn’t access it.\n",
    " \n",
    "\n",
    "# __Double Leading Underscores\n",
    "\n",
    "# Two underlines, in the beginning, cause a lot of confusion. \n",
    "# This is about syntax rather than a convention. double underscore \n",
    "# will mangle the attribute names of a class to avoid conflicts of attribute names between classes. \n"
   ]
  },
  {
   "cell_type": "code",
   "execution_count": 108,
   "id": "ce99e2dd",
   "metadata": {},
   "outputs": [],
   "source": [
    "# Python code to illustrate how double\n",
    "# underscore at the beginning works\n",
    "class Geek:\n",
    "\tdef _single_method(self):\n",
    "\t\tpass\n",
    "\tdef __double_method(self): # for mangling\n",
    "\t\tpass\n",
    "class Pyth(Geek):\n",
    "\tdef __double_method(self): # for mangling\n",
    "\t\tpass\n"
   ]
  },
  {
   "cell_type": "code",
   "execution_count": null,
   "id": "7cb1afc0",
   "metadata": {},
   "outputs": [],
   "source": []
  },
  {
   "cell_type": "code",
   "execution_count": 109,
   "id": "389da1a8",
   "metadata": {},
   "outputs": [
    {
     "data": {
      "text/plain": [
       "'\\n\\n__Double leading and Double trailing underscores__\\n\\nThere’s another case of double leading and trailing underscores. We follow this while using special variables or methods (called “magic method”) such as__len__, __init__. These methods provide special syntactic features to the names. For example, __file__ indicates the location of the Python file, __eq__ is executed when a == b expression is executed\\n'"
      ]
     },
     "execution_count": 109,
     "metadata": {},
     "output_type": "execute_result"
    }
   ],
   "source": [
    "# __Double leading and Double trailing underscores__\n",
    "\n",
    "# There’s another case of double leading and trailing underscores. \n",
    "# We follow this while using special variables or methods (called “magic method”) such as__len__, __init__. These methods provide special syntactic features to the names. For example, __file__ indicates the location of the Python file, __eq__ is executed when a == b expression is executed\n"
   ]
  },
  {
   "cell_type": "code",
   "execution_count": 110,
   "id": "4960617e",
   "metadata": {},
   "outputs": [],
   "source": [
    "# Python code to illustrate double leading and\n",
    "# double trailing underscore works\n",
    "class Geek:\n",
    "\n",
    "\t# '__init__' for initializing, this is a\n",
    "\t# special method\n",
    "\tdef __init__(self, ab):\n",
    "\t\tself.ab = ab\n",
    "\n",
    "\t# custom special method. try not to use it\n",
    "\tdef __custom__(self):\n",
    "\t\tpass\n"
   ]
  },
  {
   "cell_type": "code",
   "execution_count": null,
   "id": "6ab03f44",
   "metadata": {},
   "outputs": [],
   "source": [
    "class mat1:\n",
    "    def sum1(a,b):\n",
    "        print(a+b)\n",
    "    def ans():\n",
    "        \n",
    "        "
   ]
  }
 ],
 "metadata": {
  "kernelspec": {
   "display_name": "Python 3 (ipykernel)",
   "language": "python",
   "name": "python3"
  },
  "language_info": {
   "codemirror_mode": {
    "name": "ipython",
    "version": 3
   },
   "file_extension": ".py",
   "mimetype": "text/x-python",
   "name": "python",
   "nbconvert_exporter": "python",
   "pygments_lexer": "ipython3",
   "version": "3.10.5"
  }
 },
 "nbformat": 4,
 "nbformat_minor": 5
}
