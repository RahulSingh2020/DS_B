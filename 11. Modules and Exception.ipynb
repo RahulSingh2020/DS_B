{
 "cells": [
  {
   "cell_type": "markdown",
   "id": "a9fddfba",
   "metadata": {},
   "source": [
    "#  MATH MODULE"
   ]
  },
  {
   "cell_type": "markdown",
   "id": "cd0d1219",
   "metadata": {},
   "source": [
    "# IMPORTNG A MODULE"
   ]
  },
  {
   "cell_type": "code",
   "execution_count": 1,
   "id": "6ab35d1e",
   "metadata": {},
   "outputs": [],
   "source": [
    "import math"
   ]
  },
  {
   "cell_type": "code",
   "execution_count": 2,
   "id": "c2eaef2b",
   "metadata": {},
   "outputs": [
    {
     "data": {
      "text/plain": [
       "6.0"
      ]
     },
     "execution_count": 2,
     "metadata": {},
     "output_type": "execute_result"
    }
   ],
   "source": [
    "math.sqrt(36)"
   ]
  },
  {
   "cell_type": "code",
   "execution_count": 3,
   "id": "daaac555",
   "metadata": {},
   "outputs": [],
   "source": [
    "# other way to import"
   ]
  },
  {
   "cell_type": "code",
   "execution_count": 4,
   "id": "9a44ee28",
   "metadata": {},
   "outputs": [],
   "source": [
    "from math import sqrt"
   ]
  },
  {
   "cell_type": "code",
   "execution_count": 5,
   "id": "545789ad",
   "metadata": {},
   "outputs": [
    {
     "data": {
      "text/plain": [
       "6.0"
      ]
     },
     "execution_count": 5,
     "metadata": {},
     "output_type": "execute_result"
    }
   ],
   "source": [
    "sqrt(36)"
   ]
  },
  {
   "cell_type": "code",
   "execution_count": 6,
   "id": "831a00f2",
   "metadata": {},
   "outputs": [],
   "source": [
    "from math import sqrt , pi"
   ]
  },
  {
   "cell_type": "code",
   "execution_count": 7,
   "id": "cc23f2c9",
   "metadata": {},
   "outputs": [
    {
     "data": {
      "text/plain": [
       "3.141592653589793"
      ]
     },
     "execution_count": 7,
     "metadata": {},
     "output_type": "execute_result"
    }
   ],
   "source": [
    "pi"
   ]
  },
  {
   "cell_type": "code",
   "execution_count": 8,
   "id": "aff79b9d",
   "metadata": {},
   "outputs": [],
   "source": [
    "from math import *"
   ]
  },
  {
   "cell_type": "code",
   "execution_count": 9,
   "id": "35100e27",
   "metadata": {},
   "outputs": [
    {
     "data": {
      "text/plain": [
       "10.0"
      ]
     },
     "execution_count": 9,
     "metadata": {},
     "output_type": "execute_result"
    }
   ],
   "source": [
    "sqrt(100)"
   ]
  },
  {
   "cell_type": "markdown",
   "id": "be049e0f",
   "metadata": {},
   "source": [
    "# CREATING OWN MODULE"
   ]
  },
  {
   "cell_type": "code",
   "execution_count": 10,
   "id": "689e0edc",
   "metadata": {},
   "outputs": [
    {
     "data": {
      "text/plain": [
       "'C:\\\\Users\\\\RAHUL\\\\Documents\\\\ThreePython'"
      ]
     },
     "execution_count": 10,
     "metadata": {},
     "output_type": "execute_result"
    }
   ],
   "source": [
    "pwd"
   ]
  },
  {
   "cell_type": "code",
   "execution_count": 19,
   "id": "d23e8a9b",
   "metadata": {},
   "outputs": [
    {
     "name": "stdout",
     "output_type": "stream",
     "text": [
      "Hello World\n"
     ]
    }
   ],
   "source": [
    "import custom"
   ]
  },
  {
   "cell_type": "code",
   "execution_count": 21,
   "id": "26c31093",
   "metadata": {},
   "outputs": [],
   "source": [
    "import custom # cant import again"
   ]
  },
  {
   "cell_type": "code",
   "execution_count": 22,
   "id": "fab0e304",
   "metadata": {},
   "outputs": [
    {
     "name": "stderr",
     "output_type": "stream",
     "text": [
      "C:\\Users\\RAHUL\\AppData\\Local\\Temp\\ipykernel_2456\\713651319.py:1: DeprecationWarning: the imp module is deprecated in favour of importlib and slated for removal in Python 3.12; see the module's documentation for alternative uses\n",
      "  import imp\n"
     ]
    }
   ],
   "source": [
    "import imp"
   ]
  },
  {
   "cell_type": "code",
   "execution_count": 24,
   "id": "e8954c6f",
   "metadata": {},
   "outputs": [
    {
     "name": "stdout",
     "output_type": "stream",
     "text": [
      "Hello World\n"
     ]
    },
    {
     "data": {
      "text/plain": [
       "<module 'custom' from 'C:\\\\Users\\\\RAHUL\\\\Documents\\\\ThreePython\\\\custom.py'>"
      ]
     },
     "execution_count": 24,
     "metadata": {},
     "output_type": "execute_result"
    }
   ],
   "source": [
    "imp.reload(custom)"
   ]
  },
  {
   "cell_type": "code",
   "execution_count": 25,
   "id": "8a511d48",
   "metadata": {},
   "outputs": [],
   "source": [
    "# thus using imp module we can reload the module ... "
   ]
  },
  {
   "cell_type": "code",
   "execution_count": 26,
   "id": "22a749ff",
   "metadata": {},
   "outputs": [],
   "source": [
    "#  but why do we want to reload the module ???"
   ]
  },
  {
   "cell_type": "code",
   "execution_count": 27,
   "id": "80dc3074",
   "metadata": {},
   "outputs": [
    {
     "name": "stdout",
     "output_type": "stream",
     "text": [
      "Hello World\n"
     ]
    },
    {
     "data": {
      "text/plain": [
       "<module 'custom' from 'C:\\\\Users\\\\RAHUL\\\\Documents\\\\ThreePython\\\\custom.py'>"
      ]
     },
     "execution_count": 27,
     "metadata": {},
     "output_type": "execute_result"
    }
   ],
   "source": [
    "imp.reload(custom)"
   ]
  },
  {
   "cell_type": "code",
   "execution_count": 28,
   "id": "0976827e",
   "metadata": {},
   "outputs": [
    {
     "data": {
      "text/plain": [
       "25"
      ]
     },
     "execution_count": 28,
     "metadata": {},
     "output_type": "execute_result"
    }
   ],
   "source": [
    "custom.a1(10,15)"
   ]
  },
  {
   "cell_type": "code",
   "execution_count": 29,
   "id": "6f35d950",
   "metadata": {},
   "outputs": [],
   "source": [
    "import minskole"
   ]
  },
  {
   "cell_type": "code",
   "execution_count": 30,
   "id": "280c1aed",
   "metadata": {},
   "outputs": [
    {
     "name": "stdout",
     "output_type": "stream",
     "text": [
      "['Python', 'JS', 'Testing']\n"
     ]
    }
   ],
   "source": [
    "minskole.course()"
   ]
  },
  {
   "cell_type": "code",
   "execution_count": 31,
   "id": "fb5a6d63",
   "metadata": {},
   "outputs": [
    {
     "name": "stdout",
     "output_type": "stream",
     "text": [
      "400076\n"
     ]
    }
   ],
   "source": [
    "minskole.PIN()"
   ]
  },
  {
   "cell_type": "code",
   "execution_count": 32,
   "id": "cad23f4d",
   "metadata": {},
   "outputs": [],
   "source": [
    "from minskole import *"
   ]
  },
  {
   "cell_type": "markdown",
   "id": "6406726c",
   "metadata": {},
   "source": [
    "# EXCEPTION"
   ]
  },
  {
   "cell_type": "code",
   "execution_count": 33,
   "id": "d3b714af",
   "metadata": {},
   "outputs": [],
   "source": [
    "# Exception handling"
   ]
  },
  {
   "cell_type": "code",
   "execution_count": 34,
   "id": "832d50ef",
   "metadata": {},
   "outputs": [],
   "source": [
    "# types of error"
   ]
  },
  {
   "cell_type": "code",
   "execution_count": 36,
   "id": "ea329efa",
   "metadata": {},
   "outputs": [],
   "source": [
    "# print(\"hello world) #SyntaxError"
   ]
  },
  {
   "cell_type": "code",
   "execution_count": 37,
   "id": "e8816dcf",
   "metadata": {},
   "outputs": [],
   "source": [
    "def test(x,y):\n",
    "    return x/y"
   ]
  },
  {
   "cell_type": "code",
   "execution_count": 39,
   "id": "d40f23a0",
   "metadata": {},
   "outputs": [],
   "source": [
    "# test(1,0) #ZeroDivisionError                         "
   ]
  },
  {
   "cell_type": "code",
   "execution_count": 41,
   "id": "eb88b69d",
   "metadata": {},
   "outputs": [],
   "source": [
    "# syntax error vs Compile time error"
   ]
  },
  {
   "cell_type": "markdown",
   "id": "ab9cb11d",
   "metadata": {},
   "source": [
    "# Exception handling"
   ]
  },
  {
   "cell_type": "code",
   "execution_count": 45,
   "id": "61bdc14d",
   "metadata": {},
   "outputs": [],
   "source": [
    "# f = open('log1.txt' ,'r') #FileNotFoundError       \n"
   ]
  },
  {
   "cell_type": "code",
   "execution_count": null,
   "id": "4abd552d",
   "metadata": {},
   "outputs": [],
   "source": [
    "# try:\n",
    "#     code\n",
    "# except:\n",
    "#      code"
   ]
  },
  {
   "cell_type": "code",
   "execution_count": 48,
   "id": "cdcaa986",
   "metadata": {},
   "outputs": [],
   "source": [
    "try:\n",
    "    f = open('log1.txt' ,'r')\n",
    "except:\n",
    "    pass"
   ]
  },
  {
   "cell_type": "code",
   "execution_count": 50,
   "id": "42ec5c4b",
   "metadata": {},
   "outputs": [],
   "source": [
    "# try:\n",
    "#     f = open('log1.txt' ,'r) # SyntaxError will not be handled by try\n",
    "# except:\n",
    "#     pass"
   ]
  },
  {
   "cell_type": "code",
   "execution_count": 51,
   "id": "4e935d73",
   "metadata": {},
   "outputs": [
    {
     "name": "stdout",
     "output_type": "stream",
     "text": [
      " Some error in the code\n"
     ]
    }
   ],
   "source": [
    "try:\n",
    "    f = open('log1.txt' ,'r')\n",
    "except:\n",
    "    print(\" Some error in the code\") # generic error"
   ]
  },
  {
   "cell_type": "code",
   "execution_count": 53,
   "id": "8d051cb8",
   "metadata": {},
   "outputs": [
    {
     "name": "stdout",
     "output_type": "stream",
     "text": [
      " Some error in the code\n"
     ]
    }
   ],
   "source": [
    "# capturing the errrot type\n",
    "try:\n",
    "    f = open('log1.txt' ,'r')\n",
    "except IOError:\n",
    "    print(\" Some error in the code\")"
   ]
  },
  {
   "cell_type": "code",
   "execution_count": 55,
   "id": "f26ed689",
   "metadata": {},
   "outputs": [],
   "source": [
    "# capturing the errror type\n",
    "# try:\n",
    "#     f = 10/0 #ZeroDivisionError is not captured\n",
    "# except IOError:\n",
    "#     print(\" Some error in the code\")"
   ]
  },
  {
   "cell_type": "code",
   "execution_count": 59,
   "id": "a401a2e6",
   "metadata": {},
   "outputs": [
    {
     "name": "stdout",
     "output_type": "stream",
     "text": [
      " Some error in the code division by zero\n"
     ]
    }
   ],
   "source": [
    "# capturing the errror type\n",
    "try:\n",
    "    f = 10/0 #ZeroDivisionError is not captured\n",
    "except ArithmeticError as e :\n",
    "    print(\" Some error in the code\" , e)"
   ]
  },
  {
   "cell_type": "code",
   "execution_count": 60,
   "id": "41314a7d",
   "metadata": {},
   "outputs": [
    {
     "name": "stdout",
     "output_type": "stream",
     "text": [
      " No error int the code \n"
     ]
    }
   ],
   "source": [
    "\n",
    "try:\n",
    "    f = 10/10 #ZeroDivisionError is not captured\n",
    "except ArithmeticError as e :\n",
    "    print(\" Some error in the code\" , e)\n",
    "else :\n",
    "    print(\" No error int the code \")"
   ]
  },
  {
   "cell_type": "markdown",
   "id": "811552d4",
   "metadata": {},
   "source": [
    "# nested trey except block"
   ]
  },
  {
   "cell_type": "code",
   "execution_count": 63,
   "id": "ad84beb3",
   "metadata": {},
   "outputs": [
    {
     "name": "stdout",
     "output_type": "stream",
     "text": [
      " Some error in the code division by zero\n",
      " Some error in the code division by zero\n"
     ]
    }
   ],
   "source": [
    "\n",
    "try:\n",
    "    f = 10/0 #ZeroDivisionError is not captured\n",
    "except ArithmeticError as e :\n",
    "    print(\" Some error in the code\" , e)\n",
    "    try:\n",
    "        x = 10/ 0\n",
    "    except ArithmeticError as e :\n",
    "        print(\" Some error in the code\" , e)\n",
    "else :\n",
    "    print(\" No error int the code \")"
   ]
  },
  {
   "cell_type": "markdown",
   "id": "2b0dd6a2",
   "metadata": {},
   "source": [
    "# finally"
   ]
  },
  {
   "cell_type": "code",
   "execution_count": 64,
   "id": "1b7b32ce",
   "metadata": {},
   "outputs": [],
   "source": [
    "try:\n",
    "    f = open('one111.txt' ,\"r\")\n",
    "except:\n",
    "    pass"
   ]
  },
  {
   "cell_type": "code",
   "execution_count": 65,
   "id": "ce4c481e",
   "metadata": {},
   "outputs": [
    {
     "name": "stdout",
     "output_type": "stream",
     "text": [
      "I will be executed in any case\n"
     ]
    },
    {
     "ename": "FileNotFoundError",
     "evalue": "[Errno 2] No such file or directory: 'one111.txt'",
     "output_type": "error",
     "traceback": [
      "\u001b[1;31m---------------------------------------------------------------------------\u001b[0m",
      "\u001b[1;31mFileNotFoundError\u001b[0m                         Traceback (most recent call last)",
      "Input \u001b[1;32mIn [65]\u001b[0m, in \u001b[0;36m<cell line: 1>\u001b[1;34m()\u001b[0m\n\u001b[0;32m      1\u001b[0m \u001b[38;5;28;01mtry\u001b[39;00m:\n\u001b[1;32m----> 2\u001b[0m     f \u001b[38;5;241m=\u001b[39m \u001b[38;5;28;43mopen\u001b[39;49m\u001b[43m(\u001b[49m\u001b[38;5;124;43m'\u001b[39;49m\u001b[38;5;124;43mone111.txt\u001b[39;49m\u001b[38;5;124;43m'\u001b[39;49m\u001b[43m \u001b[49m\u001b[43m,\u001b[49m\u001b[38;5;124;43m\"\u001b[39;49m\u001b[38;5;124;43mr\u001b[39;49m\u001b[38;5;124;43m\"\u001b[39;49m\u001b[43m)\u001b[49m\n\u001b[0;32m      3\u001b[0m \u001b[38;5;28;01mfinally\u001b[39;00m:\n\u001b[0;32m      4\u001b[0m     \u001b[38;5;28mprint\u001b[39m(\u001b[38;5;124m\"\u001b[39m\u001b[38;5;124mI will be executed in any case\u001b[39m\u001b[38;5;124m\"\u001b[39m)\n",
      "\u001b[1;31mFileNotFoundError\u001b[0m: [Errno 2] No such file or directory: 'one111.txt'"
     ]
    }
   ],
   "source": [
    "try:\n",
    "    f = open('one111.txt' ,\"r\")\n",
    "finally:\n",
    "    print(\"I will be executed in any case\")"
   ]
  },
  {
   "cell_type": "code",
   "execution_count": 67,
   "id": "b3305226",
   "metadata": {},
   "outputs": [
    {
     "name": "stdout",
     "output_type": "stream",
     "text": [
      "No error in the try block\n",
      "I will be executed in any case\n"
     ]
    }
   ],
   "source": [
    "try:\n",
    "    f = open('one111.txt' ,\"w+\")\n",
    "except:\n",
    "    pass\n",
    "else:\n",
    "    print(\"No error in the try block\")\n",
    "finally:\n",
    "    print(\"I will be executed in any case\")"
   ]
  },
  {
   "cell_type": "markdown",
   "id": "47761d0a",
   "metadata": {},
   "source": [
    "# handling multiple exception"
   ]
  },
  {
   "cell_type": "code",
   "execution_count": 69,
   "id": "484f61d2",
   "metadata": {},
   "outputs": [
    {
     "name": "stdout",
     "output_type": "stream",
     "text": [
      "Error in findin the file [Errno 2] No such file or directory: 'one112.txt'\n",
      "I will be executed in any case\n"
     ]
    }
   ],
   "source": [
    "try:\n",
    "    f = open('one112.txt' ,\"r\")\n",
    "except IOError as e :\n",
    "    print(\"Error in findin the file\", e)\n",
    "else:\n",
    "    print(\"No error in the try block\")\n",
    "finally:\n",
    "    print(\"I will be executed in any case\")"
   ]
  },
  {
   "cell_type": "code",
   "execution_count": null,
   "id": "d19ee255",
   "metadata": {},
   "outputs": [],
   "source": []
  },
  {
   "cell_type": "code",
   "execution_count": null,
   "id": "4a90d038",
   "metadata": {},
   "outputs": [],
   "source": []
  },
  {
   "cell_type": "code",
   "execution_count": null,
   "id": "d8dc2271",
   "metadata": {},
   "outputs": [],
   "source": []
  },
  {
   "cell_type": "markdown",
   "id": "4a3d73e4",
   "metadata": {},
   "source": [
    "#  cusstom exception using raise"
   ]
  },
  {
   "cell_type": "code",
   "execution_count": null,
   "id": "9ac55238",
   "metadata": {},
   "outputs": [],
   "source": []
  }
 ],
 "metadata": {
  "kernelspec": {
   "display_name": "Python 3 (ipykernel)",
   "language": "python",
   "name": "python3"
  },
  "language_info": {
   "codemirror_mode": {
    "name": "ipython",
    "version": 3
   },
   "file_extension": ".py",
   "mimetype": "text/x-python",
   "name": "python",
   "nbconvert_exporter": "python",
   "pygments_lexer": "ipython3",
   "version": "3.10.5"
  }
 },
 "nbformat": 4,
 "nbformat_minor": 5
}
